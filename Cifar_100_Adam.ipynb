{
  "nbformat": 4,
  "nbformat_minor": 0,
  "metadata": {
    "colab": {
      "name": "Cifar_100_Adam",
      "provenance": [],
      "authorship_tag": "ABX9TyP/NYikUZNTIVpjeF3C8yFd",
      "include_colab_link": true
    },
    "kernelspec": {
      "name": "python3",
      "display_name": "Python 3"
    },
    "accelerator": "GPU"
  },
  "cells": [
    {
      "cell_type": "markdown",
      "metadata": {
        "id": "view-in-github",
        "colab_type": "text"
      },
      "source": [
        "<a href=\"https://colab.research.google.com/github/ShreyPandit/Lipschitz/blob/master/Cifar_100_Adam.ipynb\" target=\"_parent\"><img src=\"https://colab.research.google.com/assets/colab-badge.svg\" alt=\"Open In Colab\"/></a>"
      ]
    },
    {
      "cell_type": "code",
      "metadata": {
        "id": "1UolmJSovWH3",
        "colab_type": "code",
        "colab": {
          "base_uri": "https://localhost:8080/",
          "height": 853
        },
        "outputId": "eb9841be-8e05-4ac6-8032-293872e80fc8"
      },
      "source": [
        "import keras\n",
        "from keras.layers import Input, Dense, Conv2D, MaxPooling2D, BatchNormalization\n",
        "from keras.layers import Activation, AveragePooling2D, Flatten\n",
        "from keras.models import Model\n",
        "from keras.optimizers import Adam\n",
        "from keras.datasets import cifar100\n",
        "from keras.regularizers import l2\n",
        "from keras.callbacks import ModelCheckpoint, LearningRateScheduler\n",
        "from keras.preprocessing.image import ImageDataGenerator\n",
        "from keras import backend as K\n",
        "from tqdm import tqdm\n",
        "import pickle\n",
        "import os\n",
        "import numpy as np\n",
        "import os\n",
        "import cv2\n",
        "import numpy as np\n",
        "import matplotlib.pyplot as plt\n",
        "\n",
        "import keras\n",
        "import keras.backend as K\n",
        "from keras.datasets import cifar100\n",
        "from keras.models import Sequential\n",
        "from keras.layers import Dense, Dropout, BatchNormalization, Flatten, GlobalMaxPooling2D, GlobalAveragePooling2D\n",
        "from keras.optimizers import Adam, SGD\n",
        "from keras.callbacks import EarlyStopping, ReduceLROnPlateau\n",
        "from keras.preprocessing.image import ImageDataGenerator\n",
        "from keras.utils import to_categorical\n",
        "\n",
        "import albumentations as albu\n",
        "from sklearn.model_selection import train_test_split, StratifiedShuffleSplit\n",
        "from sklearn.metrics import accuracy_score\n",
        "!pip install tensorflow==1.14.0"
      ],
      "execution_count": 1,
      "outputs": [
        {
          "output_type": "stream",
          "text": [
            "Using TensorFlow backend.\n",
            "/usr/local/lib/python3.6/dist-packages/tensorflow/python/framework/dtypes.py:516: FutureWarning: Passing (type, 1) or '1type' as a synonym of type is deprecated; in a future version of numpy, it will be understood as (type, (1,)) / '(1,)type'.\n",
            "  _np_qint8 = np.dtype([(\"qint8\", np.int8, 1)])\n",
            "/usr/local/lib/python3.6/dist-packages/tensorflow/python/framework/dtypes.py:517: FutureWarning: Passing (type, 1) or '1type' as a synonym of type is deprecated; in a future version of numpy, it will be understood as (type, (1,)) / '(1,)type'.\n",
            "  _np_quint8 = np.dtype([(\"quint8\", np.uint8, 1)])\n",
            "/usr/local/lib/python3.6/dist-packages/tensorflow/python/framework/dtypes.py:518: FutureWarning: Passing (type, 1) or '1type' as a synonym of type is deprecated; in a future version of numpy, it will be understood as (type, (1,)) / '(1,)type'.\n",
            "  _np_qint16 = np.dtype([(\"qint16\", np.int16, 1)])\n",
            "/usr/local/lib/python3.6/dist-packages/tensorflow/python/framework/dtypes.py:519: FutureWarning: Passing (type, 1) or '1type' as a synonym of type is deprecated; in a future version of numpy, it will be understood as (type, (1,)) / '(1,)type'.\n",
            "  _np_quint16 = np.dtype([(\"quint16\", np.uint16, 1)])\n",
            "/usr/local/lib/python3.6/dist-packages/tensorflow/python/framework/dtypes.py:520: FutureWarning: Passing (type, 1) or '1type' as a synonym of type is deprecated; in a future version of numpy, it will be understood as (type, (1,)) / '(1,)type'.\n",
            "  _np_qint32 = np.dtype([(\"qint32\", np.int32, 1)])\n",
            "/usr/local/lib/python3.6/dist-packages/tensorflow/python/framework/dtypes.py:525: FutureWarning: Passing (type, 1) or '1type' as a synonym of type is deprecated; in a future version of numpy, it will be understood as (type, (1,)) / '(1,)type'.\n",
            "  np_resource = np.dtype([(\"resource\", np.ubyte, 1)])\n",
            "/usr/local/lib/python3.6/dist-packages/tensorboard/compat/tensorflow_stub/dtypes.py:541: FutureWarning: Passing (type, 1) or '1type' as a synonym of type is deprecated; in a future version of numpy, it will be understood as (type, (1,)) / '(1,)type'.\n",
            "  _np_qint8 = np.dtype([(\"qint8\", np.int8, 1)])\n",
            "/usr/local/lib/python3.6/dist-packages/tensorboard/compat/tensorflow_stub/dtypes.py:542: FutureWarning: Passing (type, 1) or '1type' as a synonym of type is deprecated; in a future version of numpy, it will be understood as (type, (1,)) / '(1,)type'.\n",
            "  _np_quint8 = np.dtype([(\"quint8\", np.uint8, 1)])\n",
            "/usr/local/lib/python3.6/dist-packages/tensorboard/compat/tensorflow_stub/dtypes.py:543: FutureWarning: Passing (type, 1) or '1type' as a synonym of type is deprecated; in a future version of numpy, it will be understood as (type, (1,)) / '(1,)type'.\n",
            "  _np_qint16 = np.dtype([(\"qint16\", np.int16, 1)])\n",
            "/usr/local/lib/python3.6/dist-packages/tensorboard/compat/tensorflow_stub/dtypes.py:544: FutureWarning: Passing (type, 1) or '1type' as a synonym of type is deprecated; in a future version of numpy, it will be understood as (type, (1,)) / '(1,)type'.\n",
            "  _np_quint16 = np.dtype([(\"quint16\", np.uint16, 1)])\n",
            "/usr/local/lib/python3.6/dist-packages/tensorboard/compat/tensorflow_stub/dtypes.py:545: FutureWarning: Passing (type, 1) or '1type' as a synonym of type is deprecated; in a future version of numpy, it will be understood as (type, (1,)) / '(1,)type'.\n",
            "  _np_qint32 = np.dtype([(\"qint32\", np.int32, 1)])\n",
            "/usr/local/lib/python3.6/dist-packages/tensorboard/compat/tensorflow_stub/dtypes.py:550: FutureWarning: Passing (type, 1) or '1type' as a synonym of type is deprecated; in a future version of numpy, it will be understood as (type, (1,)) / '(1,)type'.\n",
            "  np_resource = np.dtype([(\"resource\", np.ubyte, 1)])\n"
          ],
          "name": "stderr"
        },
        {
          "output_type": "stream",
          "text": [
            "Requirement already satisfied: tensorflow==1.14.0 in /usr/local/lib/python3.6/dist-packages (1.14.0)\n",
            "Requirement already satisfied: six>=1.10.0 in /usr/local/lib/python3.6/dist-packages (from tensorflow==1.14.0) (1.15.0)\n",
            "Requirement already satisfied: wrapt>=1.11.1 in /usr/local/lib/python3.6/dist-packages (from tensorflow==1.14.0) (1.12.1)\n",
            "Requirement already satisfied: astor>=0.6.0 in /usr/local/lib/python3.6/dist-packages (from tensorflow==1.14.0) (0.8.1)\n",
            "Requirement already satisfied: tensorflow-estimator<1.15.0rc0,>=1.14.0rc0 in /usr/local/lib/python3.6/dist-packages (from tensorflow==1.14.0) (1.14.0)\n",
            "Requirement already satisfied: numpy<2.0,>=1.14.5 in /usr/local/lib/python3.6/dist-packages (from tensorflow==1.14.0) (1.18.5)\n",
            "Requirement already satisfied: absl-py>=0.7.0 in /usr/local/lib/python3.6/dist-packages (from tensorflow==1.14.0) (0.9.0)\n",
            "Requirement already satisfied: grpcio>=1.8.6 in /usr/local/lib/python3.6/dist-packages (from tensorflow==1.14.0) (1.30.0)\n",
            "Requirement already satisfied: google-pasta>=0.1.6 in /usr/local/lib/python3.6/dist-packages (from tensorflow==1.14.0) (0.2.0)\n",
            "Requirement already satisfied: keras-applications>=1.0.6 in /usr/local/lib/python3.6/dist-packages (from tensorflow==1.14.0) (1.0.8)\n",
            "Requirement already satisfied: protobuf>=3.6.1 in /usr/local/lib/python3.6/dist-packages (from tensorflow==1.14.0) (3.12.2)\n",
            "Requirement already satisfied: wheel>=0.26 in /usr/local/lib/python3.6/dist-packages (from tensorflow==1.14.0) (0.34.2)\n",
            "Requirement already satisfied: termcolor>=1.1.0 in /usr/local/lib/python3.6/dist-packages (from tensorflow==1.14.0) (1.1.0)\n",
            "Requirement already satisfied: keras-preprocessing>=1.0.5 in /usr/local/lib/python3.6/dist-packages (from tensorflow==1.14.0) (1.1.2)\n",
            "Requirement already satisfied: tensorboard<1.15.0,>=1.14.0 in /usr/local/lib/python3.6/dist-packages (from tensorflow==1.14.0) (1.14.0)\n",
            "Requirement already satisfied: gast>=0.2.0 in /usr/local/lib/python3.6/dist-packages (from tensorflow==1.14.0) (0.3.3)\n",
            "Requirement already satisfied: h5py in /usr/local/lib/python3.6/dist-packages (from keras-applications>=1.0.6->tensorflow==1.14.0) (2.10.0)\n",
            "Requirement already satisfied: setuptools in /usr/local/lib/python3.6/dist-packages (from protobuf>=3.6.1->tensorflow==1.14.0) (49.1.0)\n",
            "Requirement already satisfied: werkzeug>=0.11.15 in /usr/local/lib/python3.6/dist-packages (from tensorboard<1.15.0,>=1.14.0->tensorflow==1.14.0) (1.0.1)\n",
            "Requirement already satisfied: markdown>=2.6.8 in /usr/local/lib/python3.6/dist-packages (from tensorboard<1.15.0,>=1.14.0->tensorflow==1.14.0) (3.2.2)\n",
            "Requirement already satisfied: importlib-metadata; python_version < \"3.8\" in /usr/local/lib/python3.6/dist-packages (from markdown>=2.6.8->tensorboard<1.15.0,>=1.14.0->tensorflow==1.14.0) (1.7.0)\n",
            "Requirement already satisfied: zipp>=0.5 in /usr/local/lib/python3.6/dist-packages (from importlib-metadata; python_version < \"3.8\"->markdown>=2.6.8->tensorboard<1.15.0,>=1.14.0->tensorflow==1.14.0) (3.1.0)\n"
          ],
          "name": "stdout"
        }
      ]
    },
    {
      "cell_type": "code",
      "metadata": {
        "id": "eD1NAJUVvlcJ",
        "colab_type": "code",
        "colab": {}
      },
      "source": [
        "batch_size = 256\n",
        "num_classes = 100\n",
        "epochs = 20\n",
        "img_rows, img_cols = 32, 32\n",
        "lrs=[]\n",
        "n = 3\n",
        "depth = n * 9 + 2\n",
        "input_shape = x_train.shape[1:]"
      ],
      "execution_count": 4,
      "outputs": []
    },
    {
      "cell_type": "code",
      "metadata": {
        "id": "v1Sqm2LswD1o",
        "colab_type": "code",
        "colab": {
          "base_uri": "https://localhost:8080/",
          "height": 52
        },
        "outputId": "affad370-4dc2-4d36-d787-3dcb82af4ecd"
      },
      "source": [
        "(x_train, y_train), (x_test, y_test) = cifar100.load_data()\n",
        "x_train=x_train[:10000]\n",
        "y_train=y_train[:10000]\n",
        "x_test=x_test[:2000]\n",
        "y_test=y_test[:2000]"
      ],
      "execution_count": 3,
      "outputs": [
        {
          "output_type": "stream",
          "text": [
            "Downloading data from https://www.cs.toronto.edu/~kriz/cifar-100-python.tar.gz\n",
            "169009152/169001437 [==============================] - 11s 0us/step\n"
          ],
          "name": "stdout"
        }
      ]
    },
    {
      "cell_type": "code",
      "metadata": {
        "id": "UmCChTcswHeY",
        "colab_type": "code",
        "colab": {}
      },
      "source": [
        "x_train = x_train.astype('float32') / 255\n",
        "x_test = x_test.astype('float32') / 255"
      ],
      "execution_count": 5,
      "outputs": []
    },
    {
      "cell_type": "code",
      "metadata": {
        "id": "V3KCBpUPwTM_",
        "colab_type": "code",
        "colab": {}
      },
      "source": [
        "y_train = keras.utils.to_categorical(y_train, num_classes)\n",
        "y_test = keras.utils.to_categorical(y_test, num_classes)"
      ],
      "execution_count": 6,
      "outputs": []
    },
    {
      "cell_type": "code",
      "metadata": {
        "id": "vZvpbi0XwZYb",
        "colab_type": "code",
        "colab": {}
      },
      "source": [
        "def resnet_layer(inputs,\n",
        "                 num_filters=16,\n",
        "                 kernel_size=3,\n",
        "                 strides=1,\n",
        "                 activation='relu',\n",
        "                 batch_normalization=True,\n",
        "                 conv_first=True):\n",
        "    conv = Conv2D(num_filters,\n",
        "                  kernel_size=kernel_size,\n",
        "                  strides=strides,\n",
        "                  padding='same',\n",
        "                  kernel_initializer='he_normal',\n",
        "                  kernel_regularizer=l2(1e-4))\n",
        "\n",
        "    x = inputs\n",
        "    if conv_first:\n",
        "        x = conv(x)\n",
        "        if batch_normalization:\n",
        "            x = BatchNormalization()(x)\n",
        "        if activation is not None:\n",
        "            x = Activation(activation)(x)\n",
        "    else:\n",
        "        if batch_normalization:\n",
        "            x = BatchNormalization()(x)\n",
        "        if activation is not None:\n",
        "            x = Activation(activation)(x)\n",
        "        x = conv(x)\n",
        "    return x"
      ],
      "execution_count": 7,
      "outputs": []
    },
    {
      "cell_type": "code",
      "metadata": {
        "id": "fW0rSG8Cwa5O",
        "colab_type": "code",
        "colab": {}
      },
      "source": [
        "def resnet_v2(input_shape, depth, num_classes=100):\n",
        "\n",
        "    if (depth - 2) % 9 != 0:\n",
        "        raise ValueError('depth should be 9n+2 (eg 56 or 110 in [b])')\n",
        "\n",
        "    num_filters_in = 16\n",
        "    num_res_blocks = int((depth - 2) / 9)\n",
        "\n",
        "    inputs = Input(shape=input_shape)\n",
        "\n",
        "    x = resnet_layer(inputs=inputs,\n",
        "                     num_filters=num_filters_in,\n",
        "                     conv_first=True)\n",
        "\n",
        "\n",
        "    for stage in range(3):\n",
        "        for res_block in range(num_res_blocks):\n",
        "            activation = 'relu'\n",
        "            batch_normalization = True\n",
        "            strides = 1\n",
        "            if stage == 0:\n",
        "                num_filters_out = num_filters_in * 4\n",
        "                if res_block == 0:\n",
        "                    activation = None\n",
        "                    batch_normalization = True\n",
        "            else:\n",
        "                num_filters_out = num_filters_in * 2\n",
        "                if res_block == 0: \n",
        "                    strides = 2  \n",
        "\n",
        "\n",
        "            y = resnet_layer(inputs=x,\n",
        "                             num_filters=num_filters_in,\n",
        "                             kernel_size=1,\n",
        "                             strides=strides,\n",
        "                             activation=activation,\n",
        "                             batch_normalization=batch_normalization,\n",
        "                             conv_first=False)\n",
        "            y = resnet_layer(inputs=y,\n",
        "                             num_filters=num_filters_in,\n",
        "                             conv_first=False)\n",
        "            y = resnet_layer(inputs=y,\n",
        "                             num_filters=num_filters_out,\n",
        "                             kernel_size=1,\n",
        "                             conv_first=False)\n",
        "            if res_block == 0:\n",
        "                \n",
        "                x = resnet_layer(inputs=x,\n",
        "                                 num_filters=num_filters_out,\n",
        "                                 kernel_size=1,\n",
        "                                 strides=strides,\n",
        "                                 activation=None,\n",
        "                                 batch_normalization=True)\n",
        "            x = keras.layers.add([x, y])\n",
        "\n",
        "        num_filters_in = num_filters_out\n",
        "\n",
        "    x = BatchNormalization()(x)\n",
        "    x = Activation('relu')(x)\n",
        "    x = AveragePooling2D(pool_size=8)(x)\n",
        "    y = Flatten()(x)\n",
        "    outputs = Dense(num_classes,\n",
        "                    activation='softmax',\n",
        "                    kernel_initializer='he_normal')(y)\n",
        "\n",
        "    model = Model(inputs=inputs, outputs=outputs)\n",
        "    return model"
      ],
      "execution_count": 8,
      "outputs": []
    },
    {
      "cell_type": "code",
      "metadata": {
        "id": "psxJjVhHweJT",
        "colab_type": "code",
        "colab": {
          "base_uri": "https://localhost:8080/",
          "height": 52
        },
        "outputId": "f6fd1f04-07e4-489f-9ea0-7022993caff1"
      },
      "source": [
        "model = resnet_v2(input_shape=input_shape, depth=depth)"
      ],
      "execution_count": 9,
      "outputs": [
        {
          "output_type": "stream",
          "text": [
            "WARNING:tensorflow:From /usr/local/lib/python3.6/dist-packages/keras/backend/tensorflow_backend.py:4074: The name tf.nn.avg_pool is deprecated. Please use tf.nn.avg_pool2d instead.\n",
            "\n"
          ],
          "name": "stdout"
        }
      ]
    },
    {
      "cell_type": "code",
      "metadata": {
        "id": "kPmVPNg3wgsc",
        "colab_type": "code",
        "colab": {}
      },
      "source": [
        "def lr_schedule(epoch):\n",
        "    \"\"\"Learning Rate Schedule\n",
        "    # Arguments\n",
        "        epoch (int): The number of epochs\n",
        "    # Returns\n",
        "        lr (float32): learning rate\n",
        "    \"\"\"\n",
        "    global K1, K2\n",
        "\n",
        "    Kz = 0.\n",
        "    S = 0.\n",
        "    \n",
        "    sess = K.get_session()\n",
        "    max_wt = 0.\n",
        "    print('Computing max_wt...')\n",
        "    for weight in model.weights:\n",
        "        norm = np.linalg.norm(weight.eval(sess))\n",
        "        if norm > max_wt:\n",
        "            max_wt = norm\n",
        "    print('max_wt =', max_wt)\n",
        "    \n",
        "    for i in tqdm(range((len(x_train) - 1) // batch_size + 1)):\n",
        "        start_i = i * batch_size\n",
        "        end_i = start_i + batch_size\n",
        "        xb = x_train[start_i:end_i]\n",
        "    \t\n",
        "        tmp = np.array(func([xb]))\n",
        "        activ = np.linalg.norm(tmp)\n",
        "        sq = np.linalg.norm(np.square(tmp))\n",
        "\n",
        "        if sq > S:\n",
        "            S = sq\n",
        "        \n",
        "        if activ > Kz:\n",
        "            Kz = activ\n",
        "\n",
        "    K_ = ((num_classes - 1) * Kz) / (num_classes * batch_size)\n",
        "    S_ = (num_classes - 1) ** 2 / (num_classes * batch_size) ** 2 * S\n",
        "    \n",
        "    K1 = beta1 * K1 + (1 - beta1) * K_\n",
        "    K2 = beta2 * K2 + (1 - beta2) * S_\n",
        "\n",
        "    lr = (np.sqrt(K2) + K.epsilon()) / K1\n",
        "    lrs.append(lr)\n",
        "    print('Epoch', epoch+1, 'LR =', lr,' K1= ',K1,' K2= ',K2)\n",
        "    return lr"
      ],
      "execution_count": 10,
      "outputs": []
    },
    {
      "cell_type": "code",
      "metadata": {
        "id": "Op6mNO8LwjVJ",
        "colab_type": "code",
        "colab": {}
      },
      "source": [
        "model.compile(loss='categorical_crossentropy',\n",
        "              optimizer=Adam(0.1, decay=0.01),\n",
        "              metrics=['accuracy'])"
      ],
      "execution_count": 11,
      "outputs": []
    },
    {
      "cell_type": "code",
      "metadata": {
        "id": "5Nu0qpw_wmoO",
        "colab_type": "code",
        "colab": {}
      },
      "source": [
        "lr_scheduler = LearningRateScheduler(lr_schedule)"
      ],
      "execution_count": 12,
      "outputs": []
    },
    {
      "cell_type": "code",
      "metadata": {
        "id": "0Y-BJAkDwpD2",
        "colab_type": "code",
        "colab": {
          "base_uri": "https://localhost:8080/",
          "height": 52
        },
        "outputId": "81b554d6-b897-4948-aa73-e9919583bab2"
      },
      "source": [
        "func = K.function([model.layers[0].input], [model.layers[-2].output])\n",
        "lrs = []\n",
        "K1 = 0.\n",
        "K2 = 0.\n",
        "beta1 = 0.9\n",
        "beta2 = 0.999"
      ],
      "execution_count": 13,
      "outputs": [
        {
          "output_type": "stream",
          "text": [
            "WARNING:tensorflow:From /usr/local/lib/python3.6/dist-packages/keras/backend/tensorflow_backend.py:422: The name tf.global_variables is deprecated. Please use tf.compat.v1.global_variables instead.\n",
            "\n"
          ],
          "name": "stdout"
        }
      ]
    },
    {
      "cell_type": "code",
      "metadata": {
        "id": "pymcYtGXwr22",
        "colab_type": "code",
        "colab": {}
      },
      "source": [
        "save_dir = '.'\n",
        "\n",
        "model_name = 'cifar100_model.{epoch:03d}.h5'\n",
        "\n",
        "filepath = os.path.join(save_dir, model_name)\n",
        "\n",
        "# Prepare callbacks for model saving and for learning rate adjustment.\n",
        "checkpoint = ModelCheckpoint(filepath=filepath,\n",
        "                             monitor='accuracy',\n",
        "                             verbose=1,\n",
        "                             save_best_only=True,\n",
        "                             period=1)"
      ],
      "execution_count": 14,
      "outputs": []
    },
    {
      "cell_type": "code",
      "metadata": {
        "id": "PqM8Du98x7SI",
        "colab_type": "code",
        "colab": {
          "base_uri": "https://localhost:8080/",
          "height": 1000
        },
        "outputId": "03a30323-8cdc-449c-f242-98e277f4b344"
      },
      "source": [
        "history=model.fit(x_train,y_train,batch_size=128,epochs=50,validation_data=(x_test,y_test),callbacks=[lr_scheduler,checkpoint])"
      ],
      "execution_count": 17,
      "outputs": [
        {
          "output_type": "stream",
          "text": [
            "Train on 10000 samples, validate on 2000 samples\n",
            "Epoch 1/50\n",
            "Computing max_wt...\n"
          ],
          "name": "stdout"
        },
        {
          "output_type": "stream",
          "text": [
            "\r  0%|          | 0/40 [00:00<?, ?it/s]"
          ],
          "name": "stderr"
        },
        {
          "output_type": "stream",
          "text": [
            "max_wt = 677.57385\n"
          ],
          "name": "stdout"
        },
        {
          "output_type": "stream",
          "text": [
            "100%|██████████| 40/40 [02:21<00:00,  3.55s/it]\n"
          ],
          "name": "stderr"
        },
        {
          "output_type": "stream",
          "text": [
            "Epoch 1 LR = 0.03625866570575134  K1=  0.03811465680599212  K2=  1.909610574203545e-06\n",
            "10000/10000 [==============================] - 616s 62ms/step - loss: 3.5945 - accuracy: 0.2661 - val_loss: 15.2225 - val_accuracy: 0.0690\n",
            "\n",
            "Epoch 00001: accuracy improved from -inf to 0.26610, saving model to ./cifar100_model.001.h5\n"
          ],
          "name": "stdout"
        },
        {
          "output_type": "stream",
          "text": [
            "\r  0%|          | 0/40 [00:00<?, ?it/s]"
          ],
          "name": "stderr"
        },
        {
          "output_type": "stream",
          "text": [
            "Epoch 2/50\n",
            "Computing max_wt...\n",
            "max_wt = 1204.2239\n"
          ],
          "name": "stdout"
        },
        {
          "output_type": "stream",
          "text": [
            "100%|██████████| 40/40 [02:19<00:00,  3.50s/it]\n"
          ],
          "name": "stderr"
        },
        {
          "output_type": "stream",
          "text": [
            "Epoch 2 LR = 0.03542379250355329  K1=  0.10778212577104565  K2=  1.4576754869738536e-05\n",
            "10000/10000 [==============================] - 580s 58ms/step - loss: 2.7583 - accuracy: 0.3897 - val_loss: 3.8394 - val_accuracy: 0.2455\n",
            "\n",
            "Epoch 00002: accuracy improved from 0.26610 to 0.38970, saving model to ./cifar100_model.002.h5\n"
          ],
          "name": "stdout"
        },
        {
          "output_type": "stream",
          "text": [
            "\r  0%|          | 0/40 [00:00<?, ?it/s]"
          ],
          "name": "stderr"
        },
        {
          "output_type": "stream",
          "text": [
            "Epoch 3/50\n",
            "Computing max_wt...\n",
            "max_wt = 1307.4545\n"
          ],
          "name": "stdout"
        },
        {
          "output_type": "stream",
          "text": [
            "100%|██████████| 40/40 [02:13<00:00,  3.33s/it]\n"
          ],
          "name": "stderr"
        },
        {
          "output_type": "stream",
          "text": [
            "Epoch 3 LR = 0.031938481043927006  K1=  0.12517244356870647  K2=  1.598174693794884e-05\n",
            "10000/10000 [==============================] - 560s 56ms/step - loss: 2.4241 - accuracy: 0.4502 - val_loss: 3.8488 - val_accuracy: 0.2065\n",
            "\n",
            "Epoch 00003: accuracy improved from 0.38970 to 0.45020, saving model to ./cifar100_model.003.h5\n"
          ],
          "name": "stdout"
        },
        {
          "output_type": "stream",
          "text": [
            "\r  0%|          | 0/40 [00:00<?, ?it/s]"
          ],
          "name": "stderr"
        },
        {
          "output_type": "stream",
          "text": [
            "Epoch 4/50\n",
            "Computing max_wt...\n",
            "max_wt = 1238.7178\n"
          ],
          "name": "stdout"
        },
        {
          "output_type": "stream",
          "text": [
            "100%|██████████| 40/40 [02:10<00:00,  3.27s/it]\n"
          ],
          "name": "stderr"
        },
        {
          "output_type": "stream",
          "text": [
            "Epoch 4 LR = 0.03013159625904433  K1=  0.13674000265896316  K2=  1.6975179122203722e-05\n",
            "10000/10000 [==============================] - 567s 57ms/step - loss: 2.1907 - accuracy: 0.5044 - val_loss: 3.4118 - val_accuracy: 0.2725\n",
            "\n",
            "Epoch 00004: accuracy improved from 0.45020 to 0.50440, saving model to ./cifar100_model.004.h5\n"
          ],
          "name": "stdout"
        },
        {
          "output_type": "stream",
          "text": [
            "\r  0%|          | 0/40 [00:00<?, ?it/s]"
          ],
          "name": "stderr"
        },
        {
          "output_type": "stream",
          "text": [
            "Epoch 5/50\n",
            "Computing max_wt...\n",
            "max_wt = 1143.2845\n"
          ],
          "name": "stdout"
        },
        {
          "output_type": "stream",
          "text": [
            "100%|██████████| 40/40 [02:18<00:00,  3.47s/it]\n"
          ],
          "name": "stderr"
        },
        {
          "output_type": "stream",
          "text": [
            "Epoch 5 LR = 0.029085320925417126  K1=  0.1461011535170674  K2=  1.805654146123756e-05\n",
            "10000/10000 [==============================] - 591s 59ms/step - loss: 2.0130 - accuracy: 0.5395 - val_loss: 3.3667 - val_accuracy: 0.2765\n",
            "\n",
            "Epoch 00005: accuracy improved from 0.50440 to 0.53950, saving model to ./cifar100_model.005.h5\n"
          ],
          "name": "stdout"
        },
        {
          "output_type": "stream",
          "text": [
            "\r  0%|          | 0/40 [00:00<?, ?it/s]"
          ],
          "name": "stderr"
        },
        {
          "output_type": "stream",
          "text": [
            "Epoch 6/50\n",
            "Computing max_wt...\n",
            "max_wt = 1045.1288\n"
          ],
          "name": "stdout"
        },
        {
          "output_type": "stream",
          "text": [
            "100%|██████████| 40/40 [02:19<00:00,  3.50s/it]\n"
          ],
          "name": "stderr"
        },
        {
          "output_type": "stream",
          "text": [
            "Epoch 6 LR = 0.027940816281693932  K1=  0.156278145722419  K2=  1.9065789178078644e-05\n",
            "10000/10000 [==============================] - 592s 59ms/step - loss: 1.8515 - accuracy: 0.5921 - val_loss: 3.4256 - val_accuracy: 0.2845\n",
            "\n",
            "Epoch 00006: accuracy improved from 0.53950 to 0.59210, saving model to ./cifar100_model.006.h5\n"
          ],
          "name": "stdout"
        },
        {
          "output_type": "stream",
          "text": [
            "\r  0%|          | 0/40 [00:00<?, ?it/s]"
          ],
          "name": "stderr"
        },
        {
          "output_type": "stream",
          "text": [
            "Epoch 7/50\n",
            "Computing max_wt...\n",
            "max_wt = 964.2476\n"
          ],
          "name": "stdout"
        },
        {
          "output_type": "stream",
          "text": [
            "100%|██████████| 40/40 [02:19<00:00,  3.49s/it]\n"
          ],
          "name": "stderr"
        },
        {
          "output_type": "stream",
          "text": [
            "Epoch 7 LR = 0.0268881964943133  K1=  0.16756023762691316  K2=  2.0297661357067112e-05\n",
            "10000/10000 [==============================] - 596s 60ms/step - loss: 1.7195 - accuracy: 0.6251 - val_loss: 3.2826 - val_accuracy: 0.2835\n",
            "\n",
            "Epoch 00007: accuracy improved from 0.59210 to 0.62510, saving model to ./cifar100_model.007.h5\n"
          ],
          "name": "stdout"
        },
        {
          "output_type": "stream",
          "text": [
            "\r  0%|          | 0/40 [00:00<?, ?it/s]"
          ],
          "name": "stderr"
        },
        {
          "output_type": "stream",
          "text": [
            "Epoch 8/50\n",
            "Computing max_wt...\n",
            "max_wt = 890.724\n"
          ],
          "name": "stdout"
        },
        {
          "output_type": "stream",
          "text": [
            "100%|██████████| 40/40 [02:19<00:00,  3.49s/it]\n"
          ],
          "name": "stderr"
        },
        {
          "output_type": "stream",
          "text": [
            "Epoch 8 LR = 0.025978036830598895  K1=  0.17804840405048397  K2=  2.1392919043491674e-05\n",
            "10000/10000 [==============================] - 585s 58ms/step - loss: 1.5944 - accuracy: 0.6609 - val_loss: 3.2857 - val_accuracy: 0.2890\n",
            "\n",
            "Epoch 00008: accuracy improved from 0.62510 to 0.66090, saving model to ./cifar100_model.008.h5\n"
          ],
          "name": "stdout"
        },
        {
          "output_type": "stream",
          "text": [
            "\r  0%|          | 0/40 [00:00<?, ?it/s]"
          ],
          "name": "stderr"
        },
        {
          "output_type": "stream",
          "text": [
            "Epoch 9/50\n",
            "Computing max_wt...\n",
            "max_wt = 834.3103\n"
          ],
          "name": "stdout"
        },
        {
          "output_type": "stream",
          "text": [
            "100%|██████████| 40/40 [02:17<00:00,  3.43s/it]\n"
          ],
          "name": "stderr"
        },
        {
          "output_type": "stream",
          "text": [
            "Epoch 9 LR = 0.02530849965657626  K1=  0.18777472739751458  K2=  2.2583372751766486e-05\n",
            "10000/10000 [==============================] - 580s 58ms/step - loss: 1.4840 - accuracy: 0.6867 - val_loss: 3.2372 - val_accuracy: 0.2990\n",
            "\n",
            "Epoch 00009: accuracy improved from 0.66090 to 0.68670, saving model to ./cifar100_model.009.h5\n"
          ],
          "name": "stdout"
        },
        {
          "output_type": "stream",
          "text": [
            "\r  0%|          | 0/40 [00:00<?, ?it/s]"
          ],
          "name": "stderr"
        },
        {
          "output_type": "stream",
          "text": [
            "Epoch 10/50\n",
            "Computing max_wt...\n",
            "max_wt = 784.5527\n"
          ],
          "name": "stdout"
        },
        {
          "output_type": "stream",
          "text": [
            "100%|██████████| 40/40 [02:16<00:00,  3.41s/it]\n"
          ],
          "name": "stderr"
        },
        {
          "output_type": "stream",
          "text": [
            "Epoch 10 LR = 0.024502191493059346  K1=  0.19954640727044928  K2=  2.390451408647056e-05\n",
            "10000/10000 [==============================] - 578s 58ms/step - loss: 1.3730 - accuracy: 0.7244 - val_loss: 3.2204 - val_accuracy: 0.3150\n",
            "\n",
            "Epoch 00010: accuracy improved from 0.68670 to 0.72440, saving model to ./cifar100_model.010.h5\n"
          ],
          "name": "stdout"
        },
        {
          "output_type": "stream",
          "text": [
            "\r  0%|          | 0/40 [00:00<?, ?it/s]"
          ],
          "name": "stderr"
        },
        {
          "output_type": "stream",
          "text": [
            "Epoch 11/50\n",
            "Computing max_wt...\n",
            "max_wt = 736.70337\n"
          ],
          "name": "stdout"
        },
        {
          "output_type": "stream",
          "text": [
            "100%|██████████| 40/40 [02:14<00:00,  3.36s/it]\n"
          ],
          "name": "stderr"
        },
        {
          "output_type": "stream",
          "text": [
            "Epoch 11 LR = 0.02382946304389381  K1=  0.21136662805797268  K2=  2.5367875981082724e-05\n",
            "10000/10000 [==============================] - 570s 57ms/step - loss: 1.3126 - accuracy: 0.7429 - val_loss: 3.2707 - val_accuracy: 0.3010\n",
            "\n",
            "Epoch 00011: accuracy improved from 0.72440 to 0.74290, saving model to ./cifar100_model.011.h5\n"
          ],
          "name": "stdout"
        },
        {
          "output_type": "stream",
          "text": [
            "\r  0%|          | 0/40 [00:00<?, ?it/s]"
          ],
          "name": "stderr"
        },
        {
          "output_type": "stream",
          "text": [
            "Epoch 12/50\n",
            "Computing max_wt...\n",
            "max_wt = 699.0388\n"
          ],
          "name": "stdout"
        },
        {
          "output_type": "stream",
          "text": [
            "100%|██████████| 40/40 [02:13<00:00,  3.35s/it]\n"
          ],
          "name": "stderr"
        },
        {
          "output_type": "stream",
          "text": [
            "Epoch 12 LR = 0.023268558281095662  K1=  0.22284556947399625  K2=  2.6886248442734707e-05\n",
            "10000/10000 [==============================] - 575s 58ms/step - loss: 1.2072 - accuracy: 0.7775 - val_loss: 3.2792 - val_accuracy: 0.3170\n",
            "\n",
            "Epoch 00012: accuracy improved from 0.74290 to 0.77750, saving model to ./cifar100_model.012.h5\n"
          ],
          "name": "stdout"
        },
        {
          "output_type": "stream",
          "text": [
            "\r  0%|          | 0/40 [00:00<?, ?it/s]"
          ],
          "name": "stderr"
        },
        {
          "output_type": "stream",
          "text": [
            "Epoch 13/50\n",
            "Computing max_wt...\n",
            "max_wt = 668.9082\n"
          ],
          "name": "stdout"
        },
        {
          "output_type": "stream",
          "text": [
            "100%|██████████| 40/40 [02:15<00:00,  3.39s/it]\n"
          ],
          "name": "stderr"
        },
        {
          "output_type": "stream",
          "text": [
            "Epoch 13 LR = 0.02276922941925026  K1=  0.23417133354171618  K2=  2.8428099950275574e-05\n",
            "10000/10000 [==============================] - 578s 58ms/step - loss: 1.1560 - accuracy: 0.7940 - val_loss: 3.2808 - val_accuracy: 0.3170\n",
            "\n",
            "Epoch 00013: accuracy improved from 0.77750 to 0.79400, saving model to ./cifar100_model.013.h5\n"
          ],
          "name": "stdout"
        },
        {
          "output_type": "stream",
          "text": [
            "\r  0%|          | 0/40 [00:00<?, ?it/s]"
          ],
          "name": "stderr"
        },
        {
          "output_type": "stream",
          "text": [
            "Epoch 14/50\n",
            "Computing max_wt...\n",
            "max_wt = 642.5995\n"
          ],
          "name": "stdout"
        },
        {
          "output_type": "stream",
          "text": [
            "100%|██████████| 40/40 [02:17<00:00,  3.43s/it]\n"
          ],
          "name": "stderr"
        },
        {
          "output_type": "stream",
          "text": [
            "Epoch 14 LR = 0.022298729430067173  K1=  0.24584644838891478  K2=  3.005192309135547e-05\n",
            "10000/10000 [==============================] - 580s 58ms/step - loss: 1.0747 - accuracy: 0.8218 - val_loss: 3.3356 - val_accuracy: 0.3190\n",
            "\n",
            "Epoch 00014: accuracy improved from 0.79400 to 0.82180, saving model to ./cifar100_model.014.h5\n"
          ],
          "name": "stdout"
        },
        {
          "output_type": "stream",
          "text": [
            "\r  0%|          | 0/40 [00:00<?, ?it/s]"
          ],
          "name": "stderr"
        },
        {
          "output_type": "stream",
          "text": [
            "Epoch 15/50\n",
            "Computing max_wt...\n",
            "max_wt = 617.4398\n"
          ],
          "name": "stdout"
        },
        {
          "output_type": "stream",
          "text": [
            "100%|██████████| 40/40 [02:16<00:00,  3.41s/it]\n"
          ],
          "name": "stderr"
        },
        {
          "output_type": "stream",
          "text": [
            "Epoch 15 LR = 0.02190791911233468  K1=  0.25744983552147793  K2=  3.1810617149288225e-05\n",
            "10000/10000 [==============================] - 586s 59ms/step - loss: 1.0158 - accuracy: 0.8413 - val_loss: 3.3900 - val_accuracy: 0.3195\n",
            "\n",
            "Epoch 00015: accuracy improved from 0.82180 to 0.84130, saving model to ./cifar100_model.015.h5\n"
          ],
          "name": "stdout"
        },
        {
          "output_type": "stream",
          "text": [
            "\r  0%|          | 0/40 [00:00<?, ?it/s]"
          ],
          "name": "stderr"
        },
        {
          "output_type": "stream",
          "text": [
            "Epoch 16/50\n",
            "Computing max_wt...\n",
            "max_wt = 600.81696\n"
          ],
          "name": "stdout"
        },
        {
          "output_type": "stream",
          "text": [
            "100%|██████████| 40/40 [02:21<00:00,  3.53s/it]\n"
          ],
          "name": "stderr"
        },
        {
          "output_type": "stream",
          "text": [
            "Epoch 16 LR = 0.021569695475287875  K1=  0.26877969761118153  K2=  3.360980301762417e-05\n",
            "10000/10000 [==============================] - 600s 60ms/step - loss: 0.9514 - accuracy: 0.8584 - val_loss: 3.3392 - val_accuracy: 0.3150\n",
            "\n",
            "Epoch 00016: accuracy improved from 0.84130 to 0.85840, saving model to ./cifar100_model.016.h5\n"
          ],
          "name": "stdout"
        },
        {
          "output_type": "stream",
          "text": [
            "\r  0%|          | 0/40 [00:00<?, ?it/s]"
          ],
          "name": "stderr"
        },
        {
          "output_type": "stream",
          "text": [
            "Epoch 17/50\n",
            "Computing max_wt...\n",
            "max_wt = 581.403\n"
          ],
          "name": "stdout"
        },
        {
          "output_type": "stream",
          "text": [
            "100%|██████████| 40/40 [02:22<00:00,  3.55s/it]\n"
          ],
          "name": "stderr"
        },
        {
          "output_type": "stream",
          "text": [
            "Epoch 17 LR = 0.02132105090066688  K1=  0.27919746627889447  K2=  3.543443954002863e-05\n",
            "10000/10000 [==============================] - 599s 60ms/step - loss: 0.9126 - accuracy: 0.8688 - val_loss: 3.4667 - val_accuracy: 0.3145\n",
            "\n",
            "Epoch 00017: accuracy improved from 0.85840 to 0.86880, saving model to ./cifar100_model.017.h5\n"
          ],
          "name": "stdout"
        },
        {
          "output_type": "stream",
          "text": [
            "\r  0%|          | 0/40 [00:00<?, ?it/s]"
          ],
          "name": "stderr"
        },
        {
          "output_type": "stream",
          "text": [
            "Epoch 18/50\n",
            "Computing max_wt...\n",
            "max_wt = 565.16833\n"
          ],
          "name": "stdout"
        },
        {
          "output_type": "stream",
          "text": [
            "100%|██████████| 40/40 [02:22<00:00,  3.57s/it]\n"
          ],
          "name": "stderr"
        },
        {
          "output_type": "stream",
          "text": [
            "Epoch 18 LR = 0.02100660802575962  K1=  0.2911706772787783  K2=  3.741045032337674e-05\n",
            "10000/10000 [==============================] - 603s 60ms/step - loss: 0.8682 - accuracy: 0.8865 - val_loss: 3.5515 - val_accuracy: 0.3010\n",
            "\n",
            "Epoch 00018: accuracy improved from 0.86880 to 0.88650, saving model to ./cifar100_model.018.h5\n"
          ],
          "name": "stdout"
        },
        {
          "output_type": "stream",
          "text": [
            "\r  0%|          | 0/40 [00:00<?, ?it/s]"
          ],
          "name": "stderr"
        },
        {
          "output_type": "stream",
          "text": [
            "Epoch 19/50\n",
            "Computing max_wt...\n",
            "max_wt = 550.1835\n"
          ],
          "name": "stdout"
        },
        {
          "output_type": "stream",
          "text": [
            "100%|██████████| 40/40 [02:23<00:00,  3.59s/it]\n"
          ],
          "name": "stderr"
        },
        {
          "output_type": "stream",
          "text": [
            "Epoch 19 LR = 0.02081135573107445  K1=  0.30155694225520613  K2=  3.9384520922919784e-05\n",
            "10000/10000 [==============================] - 609s 61ms/step - loss: 0.8212 - accuracy: 0.8998 - val_loss: 3.5268 - val_accuracy: 0.3100\n",
            "\n",
            "Epoch 00019: accuracy improved from 0.88650 to 0.89980, saving model to ./cifar100_model.019.h5\n"
          ],
          "name": "stdout"
        },
        {
          "output_type": "stream",
          "text": [
            "\r  0%|          | 0/40 [00:00<?, ?it/s]"
          ],
          "name": "stderr"
        },
        {
          "output_type": "stream",
          "text": [
            "Epoch 20/50\n",
            "Computing max_wt...\n",
            "max_wt = 534.9133\n"
          ],
          "name": "stdout"
        },
        {
          "output_type": "stream",
          "text": [
            "100%|██████████| 40/40 [02:24<00:00,  3.62s/it]\n"
          ],
          "name": "stderr"
        },
        {
          "output_type": "stream",
          "text": [
            "Epoch 20 LR = 0.020634755021071025  K1=  0.3121518631794219  K2=  4.14874758323039e-05\n",
            "10000/10000 [==============================] - 606s 61ms/step - loss: 0.7926 - accuracy: 0.9086 - val_loss: 3.5340 - val_accuracy: 0.3155\n",
            "\n",
            "Epoch 00020: accuracy improved from 0.89980 to 0.90860, saving model to ./cifar100_model.020.h5\n"
          ],
          "name": "stdout"
        },
        {
          "output_type": "stream",
          "text": [
            "\r  0%|          | 0/40 [00:00<?, ?it/s]"
          ],
          "name": "stderr"
        },
        {
          "output_type": "stream",
          "text": [
            "Epoch 21/50\n",
            "Computing max_wt...\n",
            "max_wt = 520.51855\n"
          ],
          "name": "stdout"
        },
        {
          "output_type": "stream",
          "text": [
            "100%|██████████| 40/40 [02:23<00:00,  3.58s/it]\n"
          ],
          "name": "stderr"
        },
        {
          "output_type": "stream",
          "text": [
            "Epoch 21 LR = 0.020495687752127588  K1=  0.3221105016784219  K2=  4.358344984099788e-05\n",
            "10000/10000 [==============================] - 600s 60ms/step - loss: 0.7559 - accuracy: 0.9191 - val_loss: 3.5396 - val_accuracy: 0.3160\n",
            "\n",
            "Epoch 00021: accuracy improved from 0.90860 to 0.91910, saving model to ./cifar100_model.021.h5\n"
          ],
          "name": "stdout"
        },
        {
          "output_type": "stream",
          "text": [
            "\r  0%|          | 0/40 [00:00<?, ?it/s]"
          ],
          "name": "stderr"
        },
        {
          "output_type": "stream",
          "text": [
            "Epoch 22/50\n",
            "Computing max_wt...\n",
            "max_wt = 508.42316\n"
          ],
          "name": "stdout"
        },
        {
          "output_type": "stream",
          "text": [
            "100%|██████████| 40/40 [02:21<00:00,  3.53s/it]\n"
          ],
          "name": "stderr"
        },
        {
          "output_type": "stream",
          "text": [
            "Epoch 22 LR = 0.020430508743608793  K1=  0.33095790566650163  K2=  4.571840133839947e-05\n",
            "10000/10000 [==============================] - 592s 59ms/step - loss: 0.7299 - accuracy: 0.9281 - val_loss: 3.5574 - val_accuracy: 0.3285\n",
            "\n",
            "Epoch 00022: accuracy improved from 0.91910 to 0.92810, saving model to ./cifar100_model.022.h5\n"
          ],
          "name": "stdout"
        },
        {
          "output_type": "stream",
          "text": [
            "\r  0%|          | 0/40 [00:00<?, ?it/s]"
          ],
          "name": "stderr"
        },
        {
          "output_type": "stream",
          "text": [
            "Epoch 23/50\n",
            "Computing max_wt...\n",
            "max_wt = 495.53015\n"
          ],
          "name": "stdout"
        },
        {
          "output_type": "stream",
          "text": [
            "100%|██████████| 40/40 [02:18<00:00,  3.45s/it]\n"
          ],
          "name": "stderr"
        },
        {
          "output_type": "stream",
          "text": [
            "Epoch 23 LR = 0.020380311869482252  K1=  0.3395745202450198  K2=  4.789379950306717e-05\n",
            "10000/10000 [==============================] - 586s 59ms/step - loss: 0.7129 - accuracy: 0.9329 - val_loss: 3.6885 - val_accuracy: 0.3215\n",
            "\n",
            "Epoch 00023: accuracy improved from 0.92810 to 0.93290, saving model to ./cifar100_model.023.h5\n"
          ],
          "name": "stdout"
        },
        {
          "output_type": "stream",
          "text": [
            "\r  0%|          | 0/40 [00:00<?, ?it/s]"
          ],
          "name": "stderr"
        },
        {
          "output_type": "stream",
          "text": [
            "Epoch 24/50\n",
            "Computing max_wt...\n",
            "max_wt = 484.9944\n"
          ],
          "name": "stdout"
        },
        {
          "output_type": "stream",
          "text": [
            "100%|██████████| 40/40 [02:17<00:00,  3.44s/it]\n"
          ],
          "name": "stderr"
        },
        {
          "output_type": "stream",
          "text": [
            "Epoch 24 LR = 0.02033250035006804  K1=  0.3479660846783139  K2=  5.005450062656489e-05\n",
            "10000/10000 [==============================] - 579s 58ms/step - loss: 0.6811 - accuracy: 0.9421 - val_loss: 3.6285 - val_accuracy: 0.3150\n",
            "\n",
            "Epoch 00024: accuracy improved from 0.93290 to 0.94210, saving model to ./cifar100_model.024.h5\n"
          ],
          "name": "stdout"
        },
        {
          "output_type": "stream",
          "text": [
            "\r  0%|          | 0/40 [00:00<?, ?it/s]"
          ],
          "name": "stderr"
        },
        {
          "output_type": "stream",
          "text": [
            "Epoch 25/50\n",
            "Computing max_wt...\n",
            "max_wt = 476.02765\n"
          ],
          "name": "stdout"
        },
        {
          "output_type": "stream",
          "text": [
            "100%|██████████| 40/40 [02:17<00:00,  3.43s/it]\n"
          ],
          "name": "stderr"
        },
        {
          "output_type": "stream",
          "text": [
            "Epoch 25 LR = 0.02031453932838037  K1=  0.3557789418691472  K2=  5.223509837309806e-05\n",
            "10000/10000 [==============================] - 586s 59ms/step - loss: 0.6563 - accuracy: 0.9482 - val_loss: 3.7017 - val_accuracy: 0.3155\n",
            "\n",
            "Epoch 00025: accuracy improved from 0.94210 to 0.94820, saving model to ./cifar100_model.025.h5\n"
          ],
          "name": "stdout"
        },
        {
          "output_type": "stream",
          "text": [
            "\r  0%|          | 0/40 [00:00<?, ?it/s]"
          ],
          "name": "stderr"
        },
        {
          "output_type": "stream",
          "text": [
            "Epoch 26/50\n",
            "Computing max_wt...\n",
            "max_wt = 466.0772\n"
          ],
          "name": "stdout"
        },
        {
          "output_type": "stream",
          "text": [
            "100%|██████████| 40/40 [02:18<00:00,  3.45s/it]\n"
          ],
          "name": "stderr"
        },
        {
          "output_type": "stream",
          "text": [
            "Epoch 26 LR = 0.02028826776950062  K1=  0.36413473414725744  K2=  5.457608693942502e-05\n",
            "10000/10000 [==============================] - 582s 58ms/step - loss: 0.6257 - accuracy: 0.9590 - val_loss: 3.7499 - val_accuracy: 0.3080\n",
            "\n",
            "Epoch 00026: accuracy improved from 0.94820 to 0.95900, saving model to ./cifar100_model.026.h5\n"
          ],
          "name": "stdout"
        },
        {
          "output_type": "stream",
          "text": [
            "\r  0%|          | 0/40 [00:00<?, ?it/s]"
          ],
          "name": "stderr"
        },
        {
          "output_type": "stream",
          "text": [
            "Epoch 27/50\n",
            "Computing max_wt...\n",
            "max_wt = 458.32617\n"
          ],
          "name": "stdout"
        },
        {
          "output_type": "stream",
          "text": [
            "100%|██████████| 40/40 [02:14<00:00,  3.37s/it]\n"
          ],
          "name": "stderr"
        },
        {
          "output_type": "stream",
          "text": [
            "Epoch 27 LR = 0.020278958722249746  K1=  0.3722234124304058  K2=  5.6975371792012524e-05\n",
            "10000/10000 [==============================] - 577s 58ms/step - loss: 0.6152 - accuracy: 0.9599 - val_loss: 3.8120 - val_accuracy: 0.3095\n",
            "\n",
            "Epoch 00027: accuracy improved from 0.95900 to 0.95990, saving model to ./cifar100_model.027.h5\n"
          ],
          "name": "stdout"
        },
        {
          "output_type": "stream",
          "text": [
            "\r  0%|          | 0/40 [00:00<?, ?it/s]"
          ],
          "name": "stderr"
        },
        {
          "output_type": "stream",
          "text": [
            "Epoch 28/50\n",
            "Computing max_wt...\n",
            "max_wt = 449.47675\n"
          ],
          "name": "stdout"
        },
        {
          "output_type": "stream",
          "text": [
            "100%|██████████| 40/40 [02:19<00:00,  3.48s/it]\n"
          ],
          "name": "stderr"
        },
        {
          "output_type": "stream",
          "text": [
            "Epoch 28 LR = 0.020281490800087225  K1=  0.38018977317463176  K2=  5.9455131778216586e-05\n",
            "10000/10000 [==============================] - 587s 59ms/step - loss: 0.5844 - accuracy: 0.9686 - val_loss: 3.7801 - val_accuracy: 0.3100\n",
            "\n",
            "Epoch 00028: accuracy improved from 0.95990 to 0.96860, saving model to ./cifar100_model.028.h5\n"
          ],
          "name": "stdout"
        },
        {
          "output_type": "stream",
          "text": [
            "\r  0%|          | 0/40 [00:00<?, ?it/s]"
          ],
          "name": "stderr"
        },
        {
          "output_type": "stream",
          "text": [
            "Epoch 29/50\n",
            "Computing max_wt...\n",
            "max_wt = 441.9737\n"
          ],
          "name": "stdout"
        },
        {
          "output_type": "stream",
          "text": [
            "100%|██████████| 40/40 [02:18<00:00,  3.47s/it]\n"
          ],
          "name": "stderr"
        },
        {
          "output_type": "stream",
          "text": [
            "Epoch 29 LR = 0.02031720743375058  K1=  0.3871477218858971  K2=  6.186861625058664e-05\n",
            "10000/10000 [==============================] - 578s 58ms/step - loss: 0.5752 - accuracy: 0.9693 - val_loss: 3.8338 - val_accuracy: 0.3050\n",
            "\n",
            "Epoch 00029: accuracy improved from 0.96860 to 0.96930, saving model to ./cifar100_model.029.h5\n"
          ],
          "name": "stdout"
        },
        {
          "output_type": "stream",
          "text": [
            "\r  0%|          | 0/40 [00:00<?, ?it/s]"
          ],
          "name": "stderr"
        },
        {
          "output_type": "stream",
          "text": [
            "Epoch 30/50\n",
            "Computing max_wt...\n",
            "max_wt = 434.79706\n"
          ],
          "name": "stdout"
        },
        {
          "output_type": "stream",
          "text": [
            "100%|██████████| 40/40 [02:14<00:00,  3.37s/it]\n"
          ],
          "name": "stderr"
        },
        {
          "output_type": "stream",
          "text": [
            "Epoch 30 LR = 0.02035314624261347  K1=  0.39395241553120974  K2=  6.428946458059334e-05\n",
            "10000/10000 [==============================] - 567s 57ms/step - loss: 0.5566 - accuracy: 0.9730 - val_loss: 3.8787 - val_accuracy: 0.3100\n",
            "\n",
            "Epoch 00030: accuracy improved from 0.96930 to 0.97300, saving model to ./cifar100_model.030.h5\n"
          ],
          "name": "stdout"
        },
        {
          "output_type": "stream",
          "text": [
            "\r  0%|          | 0/40 [00:00<?, ?it/s]"
          ],
          "name": "stderr"
        },
        {
          "output_type": "stream",
          "text": [
            "Epoch 31/50\n",
            "Computing max_wt...\n",
            "max_wt = 427.86743\n"
          ],
          "name": "stdout"
        },
        {
          "output_type": "stream",
          "text": [
            "100%|██████████| 40/40 [02:16<00:00,  3.42s/it]\n"
          ],
          "name": "stderr"
        },
        {
          "output_type": "stream",
          "text": [
            "Epoch 31 LR = 0.020387486313486126  K1=  0.4009427355635151  K2=  6.681614841156353e-05\n",
            "10000/10000 [==============================] - 579s 58ms/step - loss: 0.5403 - accuracy: 0.9769 - val_loss: 3.8720 - val_accuracy: 0.3155\n",
            "\n",
            "Epoch 00031: accuracy improved from 0.97300 to 0.97690, saving model to ./cifar100_model.031.h5\n"
          ],
          "name": "stdout"
        },
        {
          "output_type": "stream",
          "text": [
            "\r  0%|          | 0/40 [00:00<?, ?it/s]"
          ],
          "name": "stderr"
        },
        {
          "output_type": "stream",
          "text": [
            "Epoch 32/50\n",
            "Computing max_wt...\n",
            "max_wt = 420.5154\n"
          ],
          "name": "stdout"
        },
        {
          "output_type": "stream",
          "text": [
            "100%|██████████| 40/40 [02:18<00:00,  3.46s/it]\n"
          ],
          "name": "stderr"
        },
        {
          "output_type": "stream",
          "text": [
            "Epoch 32 LR = 0.02044316747343076  K1=  0.4073918568409668  K2=  6.936024703736776e-05\n",
            "10000/10000 [==============================] - 568s 57ms/step - loss: 0.5243 - accuracy: 0.9819 - val_loss: 3.8958 - val_accuracy: 0.3130\n",
            "\n",
            "Epoch 00032: accuracy improved from 0.97690 to 0.98190, saving model to ./cifar100_model.032.h5\n"
          ],
          "name": "stdout"
        },
        {
          "output_type": "stream",
          "text": [
            "\r  0%|          | 0/40 [00:00<?, ?it/s]"
          ],
          "name": "stderr"
        },
        {
          "output_type": "stream",
          "text": [
            "Epoch 33/50\n",
            "Computing max_wt...\n",
            "max_wt = 413.25085\n"
          ],
          "name": "stdout"
        },
        {
          "output_type": "stream",
          "text": [
            "100%|██████████| 40/40 [02:12<00:00,  3.31s/it]\n"
          ],
          "name": "stderr"
        },
        {
          "output_type": "stream",
          "text": [
            "Epoch 33 LR = 0.020494674609774863  K1=  0.41385564935063  K2=  7.193986031254927e-05\n",
            "10000/10000 [==============================] - 567s 57ms/step - loss: 0.5150 - accuracy: 0.9801 - val_loss: 3.9096 - val_accuracy: 0.3125\n"
          ],
          "name": "stdout"
        },
        {
          "output_type": "stream",
          "text": [
            "\r  0%|          | 0/40 [00:00<?, ?it/s]"
          ],
          "name": "stderr"
        },
        {
          "output_type": "stream",
          "text": [
            "\n",
            "Epoch 00033: accuracy did not improve from 0.98190\n",
            "Epoch 34/50\n",
            "Computing max_wt...\n",
            "max_wt = 406.3822\n"
          ],
          "name": "stdout"
        },
        {
          "output_type": "stream",
          "text": [
            "100%|██████████| 40/40 [02:16<00:00,  3.41s/it]\n"
          ],
          "name": "stderr"
        },
        {
          "output_type": "stream",
          "text": [
            "Epoch 34 LR = 0.020567691371968524  K1=  0.4196427528427959  K2=  7.449386110677995e-05\n",
            "10000/10000 [==============================] - 578s 58ms/step - loss: 0.4960 - accuracy: 0.9825 - val_loss: 3.9349 - val_accuracy: 0.3150\n",
            "\n",
            "Epoch 00034: accuracy improved from 0.98190 to 0.98250, saving model to ./cifar100_model.034.h5\n"
          ],
          "name": "stdout"
        },
        {
          "output_type": "stream",
          "text": [
            "\r  0%|          | 0/40 [00:00<?, ?it/s]"
          ],
          "name": "stderr"
        },
        {
          "output_type": "stream",
          "text": [
            "Epoch 35/50\n",
            "Computing max_wt...\n",
            "max_wt = 400.08325\n"
          ],
          "name": "stdout"
        },
        {
          "output_type": "stream",
          "text": [
            "100%|██████████| 40/40 [02:11<00:00,  3.28s/it]\n"
          ],
          "name": "stderr"
        },
        {
          "output_type": "stream",
          "text": [
            "Epoch 35 LR = 0.020657269182719738  K1=  0.4249792270988453  K2=  7.706751012966965e-05\n",
            "10000/10000 [==============================] - 564s 56ms/step - loss: 0.5011 - accuracy: 0.9836 - val_loss: 4.0430 - val_accuracy: 0.3045\n",
            "\n",
            "Epoch 00035: accuracy improved from 0.98250 to 0.98360, saving model to ./cifar100_model.035.h5\n"
          ],
          "name": "stdout"
        },
        {
          "output_type": "stream",
          "text": [
            "\r  0%|          | 0/40 [00:00<?, ?it/s]"
          ],
          "name": "stderr"
        },
        {
          "output_type": "stream",
          "text": [
            "Epoch 36/50\n",
            "Computing max_wt...\n",
            "max_wt = 395.99445\n"
          ],
          "name": "stdout"
        },
        {
          "output_type": "stream",
          "text": [
            "100%|██████████| 40/40 [02:07<00:00,  3.20s/it]\n"
          ],
          "name": "stderr"
        },
        {
          "output_type": "stream",
          "text": [
            "Epoch 36 LR = 0.02071379207606955  K1=  0.4312598859188165  K2=  7.979719564390573e-05\n",
            "10000/10000 [==============================] - 559s 56ms/step - loss: 0.4822 - accuracy: 0.9875 - val_loss: 4.0470 - val_accuracy: 0.3015\n",
            "\n",
            "Epoch 00036: accuracy improved from 0.98360 to 0.98750, saving model to ./cifar100_model.036.h5\n"
          ],
          "name": "stdout"
        },
        {
          "output_type": "stream",
          "text": [
            "\r  0%|          | 0/40 [00:00<?, ?it/s]"
          ],
          "name": "stderr"
        },
        {
          "output_type": "stream",
          "text": [
            "Epoch 37/50\n",
            "Computing max_wt...\n",
            "max_wt = 390.6765\n"
          ],
          "name": "stdout"
        },
        {
          "output_type": "stream",
          "text": [
            "100%|██████████| 40/40 [02:09<00:00,  3.25s/it]\n"
          ],
          "name": "stderr"
        },
        {
          "output_type": "stream",
          "text": [
            "Epoch 37 LR = 0.02079529994536013  K1=  0.43693642159556195  K2=  8.25576483281296e-05\n",
            "10000/10000 [==============================] - 534s 53ms/step - loss: 0.4884 - accuracy: 0.9850 - val_loss: 4.0491 - val_accuracy: 0.3045\n"
          ],
          "name": "stdout"
        },
        {
          "output_type": "stream",
          "text": [
            "\r  0%|          | 0/40 [00:00<?, ?it/s]"
          ],
          "name": "stderr"
        },
        {
          "output_type": "stream",
          "text": [
            "\n",
            "Epoch 00037: accuracy did not improve from 0.98750\n",
            "Epoch 38/50\n",
            "Computing max_wt...\n",
            "max_wt = 385.1062\n"
          ],
          "name": "stdout"
        },
        {
          "output_type": "stream",
          "text": [
            "100%|██████████| 40/40 [02:00<00:00,  3.01s/it]\n"
          ],
          "name": "stderr"
        },
        {
          "output_type": "stream",
          "text": [
            "Epoch 38 LR = 0.020891028992925182  K1=  0.44196000972618027  K2=  8.524643090401817e-05\n",
            "10000/10000 [==============================] - 510s 51ms/step - loss: 0.4711 - accuracy: 0.9876 - val_loss: 4.0915 - val_accuracy: 0.2985\n",
            "\n",
            "Epoch 00038: accuracy improved from 0.98750 to 0.98760, saving model to ./cifar100_model.038.h5\n"
          ],
          "name": "stdout"
        },
        {
          "output_type": "stream",
          "text": [
            "\r  0%|          | 0/40 [00:00<?, ?it/s]"
          ],
          "name": "stderr"
        },
        {
          "output_type": "stream",
          "text": [
            "Epoch 39/50\n",
            "Computing max_wt...\n",
            "max_wt = 380.8336\n"
          ],
          "name": "stdout"
        },
        {
          "output_type": "stream",
          "text": [
            "100%|██████████| 40/40 [01:59<00:00,  2.99s/it]\n"
          ],
          "name": "stderr"
        },
        {
          "output_type": "stream",
          "text": [
            "Epoch 39 LR = 0.02097133541757252  K1=  0.44737500982787637  K2=  8.802101185693133e-05\n",
            "10000/10000 [==============================] - 532s 53ms/step - loss: 0.4708 - accuracy: 0.9856 - val_loss: 4.0707 - val_accuracy: 0.3005\n"
          ],
          "name": "stdout"
        },
        {
          "output_type": "stream",
          "text": [
            "\r  0%|          | 0/40 [00:00<?, ?it/s]"
          ],
          "name": "stderr"
        },
        {
          "output_type": "stream",
          "text": [
            "\n",
            "Epoch 00039: accuracy did not improve from 0.98760\n",
            "Epoch 40/50\n",
            "Computing max_wt...\n",
            "max_wt = 377.63568\n"
          ],
          "name": "stdout"
        },
        {
          "output_type": "stream",
          "text": [
            "100%|██████████| 40/40 [02:13<00:00,  3.35s/it]\n"
          ],
          "name": "stderr"
        },
        {
          "output_type": "stream",
          "text": [
            "Epoch 40 LR = 0.021079786966868533  K1=  0.45194944844221857  K2=  9.076178727356297e-05\n",
            "10000/10000 [==============================] - 558s 56ms/step - loss: 0.4635 - accuracy: 0.9878 - val_loss: 4.1111 - val_accuracy: 0.3015\n",
            "\n",
            "Epoch 00040: accuracy improved from 0.98760 to 0.98780, saving model to ./cifar100_model.040.h5\n"
          ],
          "name": "stdout"
        },
        {
          "output_type": "stream",
          "text": [
            "\r  0%|          | 0/40 [00:00<?, ?it/s]"
          ],
          "name": "stderr"
        },
        {
          "output_type": "stream",
          "text": [
            "Epoch 41/50\n",
            "Computing max_wt...\n",
            "max_wt = 373.78864\n"
          ],
          "name": "stdout"
        },
        {
          "output_type": "stream",
          "text": [
            "100%|██████████| 40/40 [02:11<00:00,  3.30s/it]\n"
          ],
          "name": "stderr"
        },
        {
          "output_type": "stream",
          "text": [
            "Epoch 41 LR = 0.021181270444173717  K1=  0.45675608258464145  K2=  9.359738425335276e-05\n",
            "10000/10000 [==============================] - 562s 56ms/step - loss: 0.4520 - accuracy: 0.9889 - val_loss: 4.1471 - val_accuracy: 0.3015\n",
            "\n",
            "Epoch 00041: accuracy improved from 0.98780 to 0.98890, saving model to ./cifar100_model.041.h5\n"
          ],
          "name": "stdout"
        },
        {
          "output_type": "stream",
          "text": [
            "\r  0%|          | 0/40 [00:00<?, ?it/s]"
          ],
          "name": "stderr"
        },
        {
          "output_type": "stream",
          "text": [
            "Epoch 42/50\n",
            "Computing max_wt...\n",
            "max_wt = 369.10812\n"
          ],
          "name": "stdout"
        },
        {
          "output_type": "stream",
          "text": [
            "100%|██████████| 40/40 [02:13<00:00,  3.33s/it]\n"
          ],
          "name": "stderr"
        },
        {
          "output_type": "stream",
          "text": [
            "Epoch 42 LR = 0.021285742750036227  K1=  0.46152807570414134  K2=  9.650838034684681e-05\n",
            "10000/10000 [==============================] - 566s 57ms/step - loss: 0.4542 - accuracy: 0.9883 - val_loss: 4.1582 - val_accuracy: 0.2970\n"
          ],
          "name": "stdout"
        },
        {
          "output_type": "stream",
          "text": [
            "\r  0%|          | 0/40 [00:00<?, ?it/s]"
          ],
          "name": "stderr"
        },
        {
          "output_type": "stream",
          "text": [
            "\n",
            "Epoch 00042: accuracy did not improve from 0.98890\n",
            "Epoch 43/50\n",
            "Computing max_wt...\n",
            "max_wt = 364.9511\n"
          ],
          "name": "stdout"
        },
        {
          "output_type": "stream",
          "text": [
            "100%|██████████| 40/40 [02:08<00:00,  3.22s/it]\n"
          ],
          "name": "stderr"
        },
        {
          "output_type": "stream",
          "text": [
            "Epoch 43 LR = 0.02139796777705279  K1=  0.4659456546030914  K2=  9.940469069105028e-05\n",
            "10000/10000 [==============================] - 557s 56ms/step - loss: 0.4346 - accuracy: 0.9921 - val_loss: 4.1513 - val_accuracy: 0.3005\n",
            "\n",
            "Epoch 00043: accuracy improved from 0.98890 to 0.99210, saving model to ./cifar100_model.043.h5\n"
          ],
          "name": "stdout"
        },
        {
          "output_type": "stream",
          "text": [
            "\r  0%|          | 0/40 [00:00<?, ?it/s]"
          ],
          "name": "stderr"
        },
        {
          "output_type": "stream",
          "text": [
            "Epoch 44/50\n",
            "Computing max_wt...\n",
            "max_wt = 361.08893\n"
          ],
          "name": "stdout"
        },
        {
          "output_type": "stream",
          "text": [
            "100%|██████████| 40/40 [02:13<00:00,  3.33s/it]\n"
          ],
          "name": "stderr"
        },
        {
          "output_type": "stream",
          "text": [
            "Epoch 44 LR = 0.0215243701144991  K1=  0.469830419444067  K2=  0.00010226677893865144\n",
            "10000/10000 [==============================] - 566s 57ms/step - loss: 0.4193 - accuracy: 0.9938 - val_loss: 4.1420 - val_accuracy: 0.3015\n",
            "\n",
            "Epoch 00044: accuracy improved from 0.99210 to 0.99380, saving model to ./cifar100_model.044.h5\n"
          ],
          "name": "stdout"
        },
        {
          "output_type": "stream",
          "text": [
            "\r  0%|          | 0/40 [00:00<?, ?it/s]"
          ],
          "name": "stderr"
        },
        {
          "output_type": "stream",
          "text": [
            "Epoch 45/50\n",
            "Computing max_wt...\n",
            "max_wt = 357.75507\n"
          ],
          "name": "stdout"
        },
        {
          "output_type": "stream",
          "text": [
            "100%|██████████| 40/40 [02:14<00:00,  3.37s/it]\n"
          ],
          "name": "stderr"
        },
        {
          "output_type": "stream",
          "text": [
            "Epoch 45 LR = 0.02165761745204568  K1=  0.4734462179151381  K2=  0.00010513666305354813\n",
            "10000/10000 [==============================] - 563s 56ms/step - loss: 0.4079 - accuracy: 0.9957 - val_loss: 4.1792 - val_accuracy: 0.3025\n",
            "\n",
            "Epoch 00045: accuracy improved from 0.99380 to 0.99570, saving model to ./cifar100_model.045.h5\n"
          ],
          "name": "stdout"
        },
        {
          "output_type": "stream",
          "text": [
            "\r  0%|          | 0/40 [00:00<?, ?it/s]"
          ],
          "name": "stderr"
        },
        {
          "output_type": "stream",
          "text": [
            "Epoch 46/50\n",
            "Computing max_wt...\n",
            "max_wt = 353.77692\n"
          ],
          "name": "stdout"
        },
        {
          "output_type": "stream",
          "text": [
            "100%|██████████| 40/40 [02:12<00:00,  3.32s/it]\n"
          ],
          "name": "stderr"
        },
        {
          "output_type": "stream",
          "text": [
            "Epoch 46 LR = 0.021784089501369827  K1=  0.47722063863937897  K2=  0.00010807093410683683\n",
            "10000/10000 [==============================] - 565s 56ms/step - loss: 0.4167 - accuracy: 0.9922 - val_loss: 4.2413 - val_accuracy: 0.3035\n"
          ],
          "name": "stdout"
        },
        {
          "output_type": "stream",
          "text": [
            "\r  0%|          | 0/40 [00:00<?, ?it/s]"
          ],
          "name": "stderr"
        },
        {
          "output_type": "stream",
          "text": [
            "\n",
            "Epoch 00046: accuracy did not improve from 0.99570\n",
            "Epoch 47/50\n",
            "Computing max_wt...\n",
            "max_wt = 350.15887\n"
          ],
          "name": "stdout"
        },
        {
          "output_type": "stream",
          "text": [
            "100%|██████████| 40/40 [02:06<00:00,  3.16s/it]\n"
          ],
          "name": "stderr"
        },
        {
          "output_type": "stream",
          "text": [
            "Epoch 47 LR = 0.021909399815989862  K1=  0.4810091865479783  K2=  0.00011106045823753769\n",
            "10000/10000 [==============================] - 553s 55ms/step - loss: 0.4041 - accuracy: 0.9951 - val_loss: 4.2169 - val_accuracy: 0.3025\n"
          ],
          "name": "stdout"
        },
        {
          "output_type": "stream",
          "text": [
            "\r  0%|          | 0/40 [00:00<?, ?it/s]"
          ],
          "name": "stderr"
        },
        {
          "output_type": "stream",
          "text": [
            "\n",
            "Epoch 00047: accuracy did not improve from 0.99570\n",
            "Epoch 48/50\n",
            "Computing max_wt...\n",
            "max_wt = 346.2071\n"
          ],
          "name": "stdout"
        },
        {
          "output_type": "stream",
          "text": [
            "100%|██████████| 40/40 [02:12<00:00,  3.30s/it]\n"
          ],
          "name": "stderr"
        },
        {
          "output_type": "stream",
          "text": [
            "Epoch 48 LR = 0.02205254594166996  K1=  0.4841590884107205  K2=  0.00011399492392202121\n",
            "10000/10000 [==============================] - 538s 54ms/step - loss: 0.4060 - accuracy: 0.9940 - val_loss: 4.2884 - val_accuracy: 0.2970\n"
          ],
          "name": "stdout"
        },
        {
          "output_type": "stream",
          "text": [
            "\r  0%|          | 0/40 [00:00<?, ?it/s]"
          ],
          "name": "stderr"
        },
        {
          "output_type": "stream",
          "text": [
            "\n",
            "Epoch 00048: accuracy did not improve from 0.99570\n",
            "Epoch 49/50\n",
            "Computing max_wt...\n",
            "max_wt = 343.13998\n"
          ],
          "name": "stdout"
        },
        {
          "output_type": "stream",
          "text": [
            "100%|██████████| 40/40 [02:01<00:00,  3.04s/it]\n"
          ],
          "name": "stderr"
        },
        {
          "output_type": "stream",
          "text": [
            "Epoch 49 LR = 0.022173421919474617  K1=  0.4878995342354046  K2=  0.00011703566307291252\n",
            "10000/10000 [==============================] - 513s 51ms/step - loss: 0.4079 - accuracy: 0.9934 - val_loss: 4.2939 - val_accuracy: 0.2980\n"
          ],
          "name": "stdout"
        },
        {
          "output_type": "stream",
          "text": [
            "\r  0%|          | 0/40 [00:00<?, ?it/s]"
          ],
          "name": "stderr"
        },
        {
          "output_type": "stream",
          "text": [
            "\n",
            "Epoch 00049: accuracy did not improve from 0.99570\n",
            "Epoch 50/50\n",
            "Computing max_wt...\n",
            "max_wt = 340.21606\n"
          ],
          "name": "stdout"
        },
        {
          "output_type": "stream",
          "text": [
            "100%|██████████| 40/40 [01:57<00:00,  2.94s/it]\n"
          ],
          "name": "stderr"
        },
        {
          "output_type": "stream",
          "text": [
            "Epoch 50 LR = 0.02230507125012282  K1=  0.49123482024372217  K2=  0.00012005426387965452\n",
            "10000/10000 [==============================] - 496s 50ms/step - loss: 0.4063 - accuracy: 0.9927 - val_loss: 4.2984 - val_accuracy: 0.3035\n",
            "\n",
            "Epoch 00050: accuracy did not improve from 0.99570\n"
          ],
          "name": "stdout"
        }
      ]
    },
    {
      "cell_type": "code",
      "metadata": {
        "id": "dEv803E2x_2b",
        "colab_type": "code",
        "colab": {
          "base_uri": "https://localhost:8080/",
          "height": 545
        },
        "outputId": "964e6cce-a2be-4b42-90c1-68859030a429"
      },
      "source": [
        "%matplotlib inline\n",
        "import matplotlib.pyplot as plt\n",
        "acc = history.history['accuracy']\n",
        "loss = history.history['loss']\n",
        "epochs = range(len(acc))\n",
        "\n",
        "plt.plot(epochs, acc, 'r', label='Training accuracy')\n",
        "plt.title('Training accuracy')\n",
        "plt.legend()\n",
        "plt.figure()\n",
        "\n",
        "plt.plot(epochs, loss, 'r', label='Training Loss')\n",
        "plt.title('Training loss')\n",
        "plt.legend()\n",
        "\n",
        "plt.show()\n"
      ],
      "execution_count": 18,
      "outputs": [
        {
          "output_type": "display_data",
          "data": {
            "image/png": "[encoded data removed]",
            "text/plain": [
              "<Figure size 432x288 with 1 Axes>"
            ]
          },
          "metadata": {
            "tags": [],
            "needs_background": "light"
          }
        },
        {
          "output_type": "display_data",
          "data": {
            "image/png": "[encoded data removed]",
            "text/plain": [
              "<Figure size 432x288 with 1 Axes>"
            ]
          },
          "metadata": {
            "tags": [],
            "needs_background": "light"
          }
        }
      ]
    },
    {
      "cell_type": "code",
      "metadata": {
        "id": "I_xv0hF60M-Q",
        "colab_type": "code",
        "colab": {}
      },
      "source": [
        ""
      ],
      "execution_count": null,
      "outputs": []
    }
  ]
}