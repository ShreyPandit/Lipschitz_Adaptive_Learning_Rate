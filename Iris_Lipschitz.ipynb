{
  "nbformat": 4,
  "nbformat_minor": 0,
  "metadata": {
    "colab": {
      "name": "Iris_Lipschitz",
      "provenance": [],
      "authorship_tag": "ABX9TyMdvpSLXU5WSWPXWYe1V7k7",
      "include_colab_link": true
    },
    "kernelspec": {
      "name": "python3",
      "display_name": "Python 3"
    },
    "accelerator": "GPU"
  },
  "cells": [
    {
      "cell_type": "markdown",
      "metadata": {
        "id": "view-in-github",
        "colab_type": "text"
      },
      "source": [
        "<a href=\"https://colab.research.google.com/github/ShreyPandit/Lipschitz/blob/master/Iris_Lipschitz.ipynb\" target=\"_parent\"><img src=\"https://colab.research.google.com/assets/colab-badge.svg\" alt=\"Open In Colab\"/></a>"
      ]
    },
    {
      "cell_type": "code",
      "metadata": {
        "id": "kJDf8aQpkDIt",
        "colab_type": "code",
        "colab": {
          "base_uri": "https://localhost:8080/",
          "height": 836
        },
        "outputId": "9d50a08e-6521-402b-d78e-c98a8cfd096a"
      },
      "source": [
        "import pandas as pd\n",
        "import tensorflow as tf\n",
        "from tensorflow import keras\n",
        "from tensorflow.keras.callbacks import LearningRateScheduler\n",
        "import numpy as np\n",
        "\n",
        "!pip install tensorflow==1.14.0"
      ],
      "execution_count": 1,
      "outputs": [
        {
          "output_type": "stream",
          "text": [
            "/usr/local/lib/python3.6/dist-packages/tensorflow/python/framework/dtypes.py:516: FutureWarning: Passing (type, 1) or '1type' as a synonym of type is deprecated; in a future version of numpy, it will be understood as (type, (1,)) / '(1,)type'.\n",
            "  _np_qint8 = np.dtype([(\"qint8\", np.int8, 1)])\n",
            "/usr/local/lib/python3.6/dist-packages/tensorflow/python/framework/dtypes.py:517: FutureWarning: Passing (type, 1) or '1type' as a synonym of type is deprecated; in a future version of numpy, it will be understood as (type, (1,)) / '(1,)type'.\n",
            "  _np_quint8 = np.dtype([(\"quint8\", np.uint8, 1)])\n",
            "/usr/local/lib/python3.6/dist-packages/tensorflow/python/framework/dtypes.py:518: FutureWarning: Passing (type, 1) or '1type' as a synonym of type is deprecated; in a future version of numpy, it will be understood as (type, (1,)) / '(1,)type'.\n",
            "  _np_qint16 = np.dtype([(\"qint16\", np.int16, 1)])\n",
            "/usr/local/lib/python3.6/dist-packages/tensorflow/python/framework/dtypes.py:519: FutureWarning: Passing (type, 1) or '1type' as a synonym of type is deprecated; in a future version of numpy, it will be understood as (type, (1,)) / '(1,)type'.\n",
            "  _np_quint16 = np.dtype([(\"quint16\", np.uint16, 1)])\n",
            "/usr/local/lib/python3.6/dist-packages/tensorflow/python/framework/dtypes.py:520: FutureWarning: Passing (type, 1) or '1type' as a synonym of type is deprecated; in a future version of numpy, it will be understood as (type, (1,)) / '(1,)type'.\n",
            "  _np_qint32 = np.dtype([(\"qint32\", np.int32, 1)])\n",
            "/usr/local/lib/python3.6/dist-packages/tensorflow/python/framework/dtypes.py:525: FutureWarning: Passing (type, 1) or '1type' as a synonym of type is deprecated; in a future version of numpy, it will be understood as (type, (1,)) / '(1,)type'.\n",
            "  np_resource = np.dtype([(\"resource\", np.ubyte, 1)])\n",
            "/usr/local/lib/python3.6/dist-packages/tensorboard/compat/tensorflow_stub/dtypes.py:541: FutureWarning: Passing (type, 1) or '1type' as a synonym of type is deprecated; in a future version of numpy, it will be understood as (type, (1,)) / '(1,)type'.\n",
            "  _np_qint8 = np.dtype([(\"qint8\", np.int8, 1)])\n",
            "/usr/local/lib/python3.6/dist-packages/tensorboard/compat/tensorflow_stub/dtypes.py:542: FutureWarning: Passing (type, 1) or '1type' as a synonym of type is deprecated; in a future version of numpy, it will be understood as (type, (1,)) / '(1,)type'.\n",
            "  _np_quint8 = np.dtype([(\"quint8\", np.uint8, 1)])\n",
            "/usr/local/lib/python3.6/dist-packages/tensorboard/compat/tensorflow_stub/dtypes.py:543: FutureWarning: Passing (type, 1) or '1type' as a synonym of type is deprecated; in a future version of numpy, it will be understood as (type, (1,)) / '(1,)type'.\n",
            "  _np_qint16 = np.dtype([(\"qint16\", np.int16, 1)])\n",
            "/usr/local/lib/python3.6/dist-packages/tensorboard/compat/tensorflow_stub/dtypes.py:544: FutureWarning: Passing (type, 1) or '1type' as a synonym of type is deprecated; in a future version of numpy, it will be understood as (type, (1,)) / '(1,)type'.\n",
            "  _np_quint16 = np.dtype([(\"quint16\", np.uint16, 1)])\n",
            "/usr/local/lib/python3.6/dist-packages/tensorboard/compat/tensorflow_stub/dtypes.py:545: FutureWarning: Passing (type, 1) or '1type' as a synonym of type is deprecated; in a future version of numpy, it will be understood as (type, (1,)) / '(1,)type'.\n",
            "  _np_qint32 = np.dtype([(\"qint32\", np.int32, 1)])\n",
            "/usr/local/lib/python3.6/dist-packages/tensorboard/compat/tensorflow_stub/dtypes.py:550: FutureWarning: Passing (type, 1) or '1type' as a synonym of type is deprecated; in a future version of numpy, it will be understood as (type, (1,)) / '(1,)type'.\n",
            "  np_resource = np.dtype([(\"resource\", np.ubyte, 1)])\n"
          ],
          "name": "stderr"
        },
        {
          "output_type": "stream",
          "text": [
            "Requirement already satisfied: tensorflow==1.14.0 in /usr/local/lib/python3.6/dist-packages (1.14.0)\n",
            "Requirement already satisfied: six>=1.10.0 in /usr/local/lib/python3.6/dist-packages (from tensorflow==1.14.0) (1.12.0)\n",
            "Requirement already satisfied: protobuf>=3.6.1 in /usr/local/lib/python3.6/dist-packages (from tensorflow==1.14.0) (3.10.0)\n",
            "Requirement already satisfied: wheel>=0.26 in /usr/local/lib/python3.6/dist-packages (from tensorflow==1.14.0) (0.34.2)\n",
            "Requirement already satisfied: keras-applications>=1.0.6 in /usr/local/lib/python3.6/dist-packages (from tensorflow==1.14.0) (1.0.8)\n",
            "Requirement already satisfied: keras-preprocessing>=1.0.5 in /usr/local/lib/python3.6/dist-packages (from tensorflow==1.14.0) (1.1.2)\n",
            "Requirement already satisfied: absl-py>=0.7.0 in /usr/local/lib/python3.6/dist-packages (from tensorflow==1.14.0) (0.9.0)\n",
            "Requirement already satisfied: gast>=0.2.0 in /usr/local/lib/python3.6/dist-packages (from tensorflow==1.14.0) (0.3.3)\n",
            "Requirement already satisfied: termcolor>=1.1.0 in /usr/local/lib/python3.6/dist-packages (from tensorflow==1.14.0) (1.1.0)\n",
            "Requirement already satisfied: tensorboard<1.15.0,>=1.14.0 in /usr/local/lib/python3.6/dist-packages (from tensorflow==1.14.0) (1.14.0)\n",
            "Requirement already satisfied: wrapt>=1.11.1 in /usr/local/lib/python3.6/dist-packages (from tensorflow==1.14.0) (1.12.1)\n",
            "Requirement already satisfied: astor>=0.6.0 in /usr/local/lib/python3.6/dist-packages (from tensorflow==1.14.0) (0.8.1)\n",
            "Requirement already satisfied: numpy<2.0,>=1.14.5 in /usr/local/lib/python3.6/dist-packages (from tensorflow==1.14.0) (1.18.5)\n",
            "Requirement already satisfied: tensorflow-estimator<1.15.0rc0,>=1.14.0rc0 in /usr/local/lib/python3.6/dist-packages (from tensorflow==1.14.0) (1.14.0)\n",
            "Requirement already satisfied: grpcio>=1.8.6 in /usr/local/lib/python3.6/dist-packages (from tensorflow==1.14.0) (1.29.0)\n",
            "Requirement already satisfied: google-pasta>=0.1.6 in /usr/local/lib/python3.6/dist-packages (from tensorflow==1.14.0) (0.2.0)\n",
            "Requirement already satisfied: setuptools in /usr/local/lib/python3.6/dist-packages (from protobuf>=3.6.1->tensorflow==1.14.0) (47.1.1)\n",
            "Requirement already satisfied: h5py in /usr/local/lib/python3.6/dist-packages (from keras-applications>=1.0.6->tensorflow==1.14.0) (2.10.0)\n",
            "Requirement already satisfied: werkzeug>=0.11.15 in /usr/local/lib/python3.6/dist-packages (from tensorboard<1.15.0,>=1.14.0->tensorflow==1.14.0) (1.0.1)\n",
            "Requirement already satisfied: markdown>=2.6.8 in /usr/local/lib/python3.6/dist-packages (from tensorboard<1.15.0,>=1.14.0->tensorflow==1.14.0) (3.2.2)\n",
            "Requirement already satisfied: importlib-metadata; python_version < \"3.8\" in /usr/local/lib/python3.6/dist-packages (from markdown>=2.6.8->tensorboard<1.15.0,>=1.14.0->tensorflow==1.14.0) (1.6.0)\n",
            "Requirement already satisfied: zipp>=0.5 in /usr/local/lib/python3.6/dist-packages (from importlib-metadata; python_version < \"3.8\"->markdown>=2.6.8->tensorboard<1.15.0,>=1.14.0->tensorflow==1.14.0) (3.1.0)\n"
          ],
          "name": "stdout"
        }
      ]
    },
    {
      "cell_type": "code",
      "metadata": {
        "id": "TzCMgUURkR3X",
        "colab_type": "code",
        "colab": {}
      },
      "source": [
        "iris=pd.read_csv(\"Iris.csv\")"
      ],
      "execution_count": 0,
      "outputs": []
    },
    {
      "cell_type": "code",
      "metadata": {
        "id": "Bug8NSSokcx0",
        "colab_type": "code",
        "outputId": "a4621c65-8bef-4347-8f6a-3647ca58919c",
        "colab": {
          "base_uri": "https://localhost:8080/",
          "height": 424
        }
      },
      "source": [
        "from sklearn.utils import shuffle\n",
        "iris=shuffle(iris)\n",
        "iris.pop('Id')\n",
        "iris"
      ],
      "execution_count": 3,
      "outputs": [
        {
          "output_type": "execute_result",
          "data": {
            "text/html": [
              "<div>\n",
              "<style scoped>\n",
              "    .dataframe tbody tr th:only-of-type {\n",
              "        vertical-align: middle;\n",
              "    }\n",
              "\n",
              "    .dataframe tbody tr th {\n",
              "        vertical-align: top;\n",
              "    }\n",
              "\n",
              "    .dataframe thead th {\n",
              "        text-align: right;\n",
              "    }\n",
              "</style>\n",
              "<table border=\"1\" class=\"dataframe\">\n",
              "  <thead>\n",
              "    <tr style=\"text-align: right;\">\n",
              "      <th></th>\n",
              "      <th>SepalLengthCm</th>\n",
              "      <th>SepalWidthCm</th>\n",
              "      <th>PetalLengthCm</th>\n",
              "      <th>PetalWidthCm</th>\n",
              "      <th>Species</th>\n",
              "    </tr>\n",
              "  </thead>\n",
              "  <tbody>\n",
              "    <tr>\n",
              "      <th>49</th>\n",
              "      <td>5.0</td>\n",
              "      <td>3.3</td>\n",
              "      <td>1.4</td>\n",
              "      <td>0.2</td>\n",
              "      <td>Iris-setosa</td>\n",
              "    </tr>\n",
              "    <tr>\n",
              "      <th>124</th>\n",
              "      <td>6.7</td>\n",
              "      <td>3.3</td>\n",
              "      <td>5.7</td>\n",
              "      <td>2.1</td>\n",
              "      <td>Iris-virginica</td>\n",
              "    </tr>\n",
              "    <tr>\n",
              "      <th>35</th>\n",
              "      <td>5.0</td>\n",
              "      <td>3.2</td>\n",
              "      <td>1.2</td>\n",
              "      <td>0.2</td>\n",
              "      <td>Iris-setosa</td>\n",
              "    </tr>\n",
              "    <tr>\n",
              "      <th>1</th>\n",
              "      <td>4.9</td>\n",
              "      <td>3.0</td>\n",
              "      <td>1.4</td>\n",
              "      <td>0.2</td>\n",
              "      <td>Iris-setosa</td>\n",
              "    </tr>\n",
              "    <tr>\n",
              "      <th>8</th>\n",
              "      <td>4.4</td>\n",
              "      <td>2.9</td>\n",
              "      <td>1.4</td>\n",
              "      <td>0.2</td>\n",
              "      <td>Iris-setosa</td>\n",
              "    </tr>\n",
              "    <tr>\n",
              "      <th>...</th>\n",
              "      <td>...</td>\n",
              "      <td>...</td>\n",
              "      <td>...</td>\n",
              "      <td>...</td>\n",
              "      <td>...</td>\n",
              "    </tr>\n",
              "    <tr>\n",
              "      <th>128</th>\n",
              "      <td>6.4</td>\n",
              "      <td>2.8</td>\n",
              "      <td>5.6</td>\n",
              "      <td>2.1</td>\n",
              "      <td>Iris-virginica</td>\n",
              "    </tr>\n",
              "    <tr>\n",
              "      <th>101</th>\n",
              "      <td>5.8</td>\n",
              "      <td>2.7</td>\n",
              "      <td>5.1</td>\n",
              "      <td>1.9</td>\n",
              "      <td>Iris-virginica</td>\n",
              "    </tr>\n",
              "    <tr>\n",
              "      <th>10</th>\n",
              "      <td>5.4</td>\n",
              "      <td>3.7</td>\n",
              "      <td>1.5</td>\n",
              "      <td>0.2</td>\n",
              "      <td>Iris-setosa</td>\n",
              "    </tr>\n",
              "    <tr>\n",
              "      <th>111</th>\n",
              "      <td>6.4</td>\n",
              "      <td>2.7</td>\n",
              "      <td>5.3</td>\n",
              "      <td>1.9</td>\n",
              "      <td>Iris-virginica</td>\n",
              "    </tr>\n",
              "    <tr>\n",
              "      <th>103</th>\n",
              "      <td>6.3</td>\n",
              "      <td>2.9</td>\n",
              "      <td>5.6</td>\n",
              "      <td>1.8</td>\n",
              "      <td>Iris-virginica</td>\n",
              "    </tr>\n",
              "  </tbody>\n",
              "</table>\n",
              "<p>150 rows × 5 columns</p>\n",
              "</div>"
            ],
            "text/plain": [
              "     SepalLengthCm  SepalWidthCm  PetalLengthCm  PetalWidthCm         Species\n",
              "49             5.0           3.3            1.4           0.2     Iris-setosa\n",
              "124            6.7           3.3            5.7           2.1  Iris-virginica\n",
              "35             5.0           3.2            1.2           0.2     Iris-setosa\n",
              "1              4.9           3.0            1.4           0.2     Iris-setosa\n",
              "8              4.4           2.9            1.4           0.2     Iris-setosa\n",
              "..             ...           ...            ...           ...             ...\n",
              "128            6.4           2.8            5.6           2.1  Iris-virginica\n",
              "101            5.8           2.7            5.1           1.9  Iris-virginica\n",
              "10             5.4           3.7            1.5           0.2     Iris-setosa\n",
              "111            6.4           2.7            5.3           1.9  Iris-virginica\n",
              "103            6.3           2.9            5.6           1.8  Iris-virginica\n",
              "\n",
              "[150 rows x 5 columns]"
            ]
          },
          "metadata": {
            "tags": []
          },
          "execution_count": 3
        }
      ]
    },
    {
      "cell_type": "code",
      "metadata": {
        "id": "nJzka4nXkeT9",
        "colab_type": "code",
        "colab": {}
      },
      "source": [
        "one_hot = pd.get_dummies(iris['Species'])"
      ],
      "execution_count": 0,
      "outputs": []
    },
    {
      "cell_type": "code",
      "metadata": {
        "id": "QsMi8187t7XL",
        "colab_type": "code",
        "outputId": "1dc66fa3-a376-4d90-fb47-c7ea7fac3c21",
        "colab": {
          "base_uri": "https://localhost:8080/",
          "height": 225
        }
      },
      "source": [
        "iris.pop('Species')"
      ],
      "execution_count": 5,
      "outputs": [
        {
          "output_type": "execute_result",
          "data": {
            "text/plain": [
              "49        Iris-setosa\n",
              "124    Iris-virginica\n",
              "35        Iris-setosa\n",
              "1         Iris-setosa\n",
              "8         Iris-setosa\n",
              "            ...      \n",
              "128    Iris-virginica\n",
              "101    Iris-virginica\n",
              "10        Iris-setosa\n",
              "111    Iris-virginica\n",
              "103    Iris-virginica\n",
              "Name: Species, Length: 150, dtype: object"
            ]
          },
          "metadata": {
            "tags": []
          },
          "execution_count": 5
        }
      ]
    },
    {
      "cell_type": "code",
      "metadata": {
        "id": "9ZP-dEqalBwv",
        "colab_type": "code",
        "colab": {}
      },
      "source": [
        "train_x=iris.iloc[0:125,:]"
      ],
      "execution_count": 0,
      "outputs": []
    },
    {
      "cell_type": "code",
      "metadata": {
        "id": "U8tzgpWdlCvR",
        "colab_type": "code",
        "colab": {}
      },
      "source": [
        "test_x=iris.iloc[125:,:]"
      ],
      "execution_count": 0,
      "outputs": []
    },
    {
      "cell_type": "code",
      "metadata": {
        "id": "6QQjkZLYluRl",
        "colab_type": "code",
        "colab": {}
      },
      "source": [
        "train_y=one_hot.iloc[0:125,:]"
      ],
      "execution_count": 0,
      "outputs": []
    },
    {
      "cell_type": "code",
      "metadata": {
        "id": "JO7k1-qDl0p-",
        "colab_type": "code",
        "colab": {}
      },
      "source": [
        "test_y=one_hot.iloc[125:,:]"
      ],
      "execution_count": 0,
      "outputs": []
    },
    {
      "cell_type": "code",
      "metadata": {
        "id": "uueu1qvgrr7J",
        "colab_type": "code",
        "outputId": "d4436688-6187-4e01-f07f-cc1f8c0ef907",
        "colab": {
          "base_uri": "https://localhost:8080/",
          "height": 52
        }
      },
      "source": [
        "print(len(train_x),len(train_y),len(test_x),len(test_y))\n",
        "print(len(one_hot))"
      ],
      "execution_count": 10,
      "outputs": [
        {
          "output_type": "stream",
          "text": [
            "125 125 25 25\n",
            "150\n"
          ],
          "name": "stdout"
        }
      ]
    },
    {
      "cell_type": "code",
      "metadata": {
        "id": "eAXIMq1smA5f",
        "colab_type": "code",
        "colab": {}
      },
      "source": [
        "model = tf.keras.Sequential()\n",
        "model.add(tf.keras.layers.Dense(10, input_dim = 4 , activation = 'relu'))\n",
        "model.add(tf.keras.layers.Dropout(0.3))\n",
        "model.add(tf.keras.layers.Dense(8, activation = 'relu'))\n",
        "model.add(tf.keras.layers.Dropout(0.3))\n",
        "model.add(tf.keras.layers.Dense(16, activation = 'relu'))\n",
        "model.add(tf.keras.layers.Dropout(0.3))\n",
        "model.add(tf.keras.layers.Dense(10, activation = 'relu'))\n",
        "model.add(tf.keras.layers.Dropout(0.3))\n",
        "model.add(tf.keras.layers.Dense(3, activation = 'softmax'))"
      ],
      "execution_count": 0,
      "outputs": []
    },
    {
      "cell_type": "code",
      "metadata": {
        "id": "-PsK76xFoalq",
        "colab_type": "code",
        "outputId": "1d2e067e-133c-48d4-d54d-67a31d772f18",
        "colab": {
          "base_uri": "https://localhost:8080/",
          "height": 34
        }
      },
      "source": [
        "len(train_y)"
      ],
      "execution_count": 147,
      "outputs": [
        {
          "output_type": "execute_result",
          "data": {
            "text/plain": [
              "125"
            ]
          },
          "metadata": {
            "tags": []
          },
          "execution_count": 147
        }
      ]
    },
    {
      "cell_type": "code",
      "metadata": {
        "id": "oZkTL1q3mCn3",
        "colab_type": "code",
        "outputId": "dc553b07-fb82-48c7-d554-8ab882019897",
        "colab": {
          "base_uri": "https://localhost:8080/",
          "height": 469
        }
      },
      "source": [
        "model.summary()"
      ],
      "execution_count": 148,
      "outputs": [
        {
          "output_type": "stream",
          "text": [
            "Model: \"sequential_12\"\n",
            "_________________________________________________________________\n",
            "Layer (type)                 Output Shape              Param #   \n",
            "=================================================================\n",
            "dense_60 (Dense)             (None, 10)                50        \n",
            "_________________________________________________________________\n",
            "dropout_48 (Dropout)         (None, 10)                0         \n",
            "_________________________________________________________________\n",
            "dense_61 (Dense)             (None, 8)                 88        \n",
            "_________________________________________________________________\n",
            "dropout_49 (Dropout)         (None, 8)                 0         \n",
            "_________________________________________________________________\n",
            "dense_62 (Dense)             (None, 16)                144       \n",
            "_________________________________________________________________\n",
            "dropout_50 (Dropout)         (None, 16)                0         \n",
            "_________________________________________________________________\n",
            "dense_63 (Dense)             (None, 10)                170       \n",
            "_________________________________________________________________\n",
            "dropout_51 (Dropout)         (None, 10)                0         \n",
            "_________________________________________________________________\n",
            "dense_64 (Dense)             (None, 3)                 33        \n",
            "=================================================================\n",
            "Total params: 485\n",
            "Trainable params: 485\n",
            "Non-trainable params: 0\n",
            "_________________________________________________________________\n"
          ],
          "name": "stdout"
        }
      ]
    },
    {
      "cell_type": "code",
      "metadata": {
        "id": "GnPUrCSAzbK8",
        "colab_type": "code",
        "colab": {}
      },
      "source": [
        "from keras import backend as K\n",
        "func = K.function([model.layers[0].input], [model.layers[-2].output])"
      ],
      "execution_count": 0,
      "outputs": []
    },
    {
      "cell_type": "code",
      "metadata": {
        "id": "lF2oE8wo2Z-6",
        "colab_type": "code",
        "colab": {}
      },
      "source": [
        "K1 = 0.\n",
        "K2 = 0.\n",
        "beta1 = 0.9\n",
        "beta2 = 0.999\n",
        "batch_size=125\n",
        "num_classes = 3\n",
        "epochs = 50\n",
        "lrs=[]"
      ],
      "execution_count": 0,
      "outputs": []
    },
    {
      "cell_type": "code",
      "metadata": {
        "id": "YfbS6vIEyzlA",
        "colab_type": "code",
        "colab": {}
      },
      "source": [
        "def lr_schedule(epoch):\n",
        "    \"\"\"Learning Rate Schedule\n",
        "    # Arguments\n",
        "        epoch (int): The number of epochs\n",
        "    # Returns\n",
        "        lr (float32): learning rate\n",
        "    \"\"\"\n",
        "    global K1, K2\n",
        "\n",
        "    Kz = 0.  # max penultimate activation\n",
        "    S = 0.\n",
        "    \n",
        "    sess = K.get_session()\n",
        "    max_wt = 0.\n",
        "    for weight in model.weights:\n",
        "        norm = np.linalg.norm(weight.eval(sess))\n",
        "        if norm > max_wt:\n",
        "            max_wt = norm\n",
        "    \n",
        "    for i in range((len(train_x) - 1) // batch_size + 1):\n",
        "        start_i = i * batch_size\n",
        "        end_i = start_i + batch_size\n",
        "        xb = train_x[start_i:end_i]\n",
        "        #print(xb)\n",
        "        tmp = np.array(func([xb]))\n",
        "        activ = np.linalg.norm(tmp)\n",
        "        sq = np.linalg.norm(np.square(tmp))\n",
        "\n",
        "        if sq > S:\n",
        "          S = sq\n",
        "        \n",
        "        if activ > Kz:\n",
        "          print(\"value of active is \", activ,\" and the value of Kz is\",Kz)\n",
        "          Kz = activ\n",
        "\n",
        "    K_ = ((num_classes - 1) * Kz) / (num_classes * batch_size)\n",
        "    S_ = (num_classes - 1) ** 2 / (num_classes * batch_size) ** 2 * S\n",
        "    \n",
        "    K1 = beta1 * K1 + (1 - beta1) * K_\n",
        "    K2 = beta2 * K2 + (1 - beta2) * S_\n",
        "\n",
        "    lr = (np.sqrt(K2) + K.epsilon()) / K1\n",
        "    print('S =', S, ', K1 =', K1,', K2 =', K2, ', K_ =', K_, ', lr =', lr)\n",
        "    lrs.append(lr)\n",
        "    print('Epoch', epoch, 'LR =', lr)\n",
        "    return lr\n",
        "\n",
        "\n",
        "lr_scheduler = LearningRateScheduler(lr_schedule)\n"
      ],
      "execution_count": 0,
      "outputs": []
    },
    {
      "cell_type": "code",
      "metadata": {
        "id": "xI_IRLk4ndBh",
        "colab_type": "code",
        "colab": {}
      },
      "source": [
        "model.compile(loss = 'categorical_crossentropy' , optimizer=keras.optimizers.Adam(lr=1e-5) , metrics = ['accuracy'] )"
      ],
      "execution_count": 0,
      "outputs": []
    },
    {
      "cell_type": "code",
      "metadata": {
        "id": "0-5ZUxcToTvc",
        "colab_type": "code",
        "outputId": "2c4ce4b9-e053-404b-8e0e-e1d8730006ef",
        "colab": {
          "base_uri": "https://localhost:8080/",
          "height": 1000
        }
      },
      "source": [
        "history=model.fit(train_x, train_y, epochs = 50, batch_size = 125,validation_data=(test_x,test_y),callbacks=[lr_scheduler])"
      ],
      "execution_count": 153,
      "outputs": [
        {
          "output_type": "stream",
          "text": [
            "Train on 125 samples, validate on 25 samples\n",
            "value of active is  9.893211  and the value of Kz is 0.0\n",
            "S = 5.193198 , K1 = 0.005276379394531248 , K2 = 1.4771763780381958e-07 , K_ = 0.0527637939453125 , lr = 0.0728606672290673\n",
            "Epoch 0 LR = 0.0728606672290673\n",
            "Epoch 1/50\n",
            "125/125 [==============================] - 1s 6ms/sample - loss: 1.3964 - acc: 0.2880 - val_loss: 1.0907 - val_acc: 0.2800\n",
            "value of active is  1.6332808  and the value of Kz is 0.0\n",
            "S = 0.26265204 , K1 = 0.005619824523925779 , K2 = 1.5504091151258695e-07 , K_ = 0.008710830688476563 , lr = 0.07008267718479612\n",
            "Epoch 1 LR = 0.07008267718479612\n",
            "Epoch 2/50\n",
            "125/125 [==============================] - 0s 46us/sample - loss: 1.1579 - acc: 0.2720 - val_loss: 1.0973 - val_acc: 0.6800\n",
            "value of active is  2.491582  and the value of Kz is 0.0\n",
            "S = 0.4860369 , K1 = 0.006386685760498044 , K2 = 1.6871092010736776e-07 , K_ = 0.013288436889648437 , lr = 0.06432825478673099\n",
            "Epoch 2 LR = 0.06432825478673099\n",
            "Epoch 3/50\n",
            "125/125 [==============================] - 0s 43us/sample - loss: 1.1410 - acc: 0.2400 - val_loss: 1.0984 - val_acc: 0.2800\n",
            "value of active is  2.0133393  and the value of Kz is 0.0\n",
            "S = 0.42126533 , K1 = 0.006821798134358722 , K2 = 1.8052486757349086e-07 , K_ = 0.010737809499104817 , lr = 0.062297677598198396\n",
            "Epoch 3 LR = 0.062297677598198396\n",
            "Epoch 4/50\n",
            "125/125 [==============================] - 0s 43us/sample - loss: 1.1093 - acc: 0.3680 - val_loss: 1.0988 - val_acc: 0.2800\n",
            "value of active is  1.4237521  and the value of Kz is 0.0\n",
            "S = 0.24422626 , K1 = 0.006898952757975258 , K2 = 1.8729122304649355e-07 , K_ = 0.007593344370524088 , lr = 0.06274453168069308\n",
            "Epoch 4 LR = 0.06274453168069308\n",
            "Epoch 5/50\n",
            "125/125 [==============================] - 0s 44us/sample - loss: 1.0954 - acc: 0.3840 - val_loss: 1.0968 - val_acc: 0.3200\n",
            "value of active is  1.8200538  and the value of Kz is 0.0\n",
            "S = 0.36159864 , K1 = 0.007179752850626625 , K2 = 1.9738940426946488e-07 , K_ = 0.009706953684488932 , lr = 0.06189422989459598\n",
            "Epoch 5 LR = 0.06189422989459598\n",
            "Epoch 6/50\n",
            "125/125 [==============================] - 0s 41us/sample - loss: 1.0893 - acc: 0.3840 - val_loss: 1.0929 - val_acc: 0.6000\n",
            "value of active is  2.3492908  and the value of Kz is 0.0\n",
            "S = 0.588235 , K1 = 0.007714732684379066 , K2 = 2.1392403322999577e-07 , K_ = 0.012529551188151042 , lr = 0.05996568431342703\n",
            "Epoch 6 LR = 0.05996568431342703\n",
            "Epoch 7/50\n",
            "125/125 [==============================] - 0s 41us/sample - loss: 1.0826 - acc: 0.3680 - val_loss: 1.0843 - val_acc: 0.3200\n",
            "value of active is  2.8012261  and the value of Kz is 0.0\n",
            "S = 0.87775564 , K1 = 0.008437246690111082 , K2 = 2.386773807896477e-07 , K_ = 0.01493987274169922 , lr = 0.057915361372912\n",
            "Epoch 7 LR = 0.057915361372912\n",
            "Epoch 8/50\n",
            "125/125 [==============================] - 0s 53us/sample - loss: 1.0752 - acc: 0.3920 - val_loss: 1.0690 - val_acc: 0.3600\n",
            "value of active is  3.4412827  and the value of Kz is 0.0\n",
            "S = 1.3933985 , K1 = 0.00942887282066052 , K2 = 2.780731502947088e-07 , K_ = 0.018353507995605468 , lr = 0.055937377377824705\n",
            "Epoch 8 LR = 0.055937377377824705\n",
            "Epoch 9/50\n",
            "125/125 [==============================] - 0s 40us/sample - loss: 1.0482 - acc: 0.4160 - val_loss: 1.0342 - val_acc: 0.6000\n",
            "value of active is  4.9392543  and the value of Kz is 0.0\n",
            "S = 3.0205183 , K1 = 0.011120254490010485 , K2 = 3.63712042205178e-07 , K_ = 0.026342689514160158 , lr = 0.05424205316409698\n",
            "Epoch 9 LR = 0.05424205316409698\n",
            "Epoch 10/50\n",
            "125/125 [==============================] - 0s 40us/sample - loss: 1.0319 - acc: 0.4720 - val_loss: 0.9878 - val_acc: 0.6000\n",
            "value of active is  7.416225  and the value of Kz is 0.0\n",
            "S = 6.5618577 , K1 = 0.013963549017816075 , K2 = 5.499967269728688e-07 , K_ = 0.039553199768066406 , lr = 0.053118132151467004\n",
            "Epoch 10 LR = 0.053118132151467004\n",
            "Epoch 11/50\n",
            "125/125 [==============================] - 0s 41us/sample - loss: 1.0286 - acc: 0.5280 - val_loss: 0.9469 - val_acc: 0.6000\n",
            "value of active is  9.9769945  and the value of Kz is 0.0\n",
            "S = 11.866526 , K1 = 0.017888257857082646 , K2 = 8.869834598465908e-07 , K_ = 0.05321063741048177 , lr = 0.05265454023785696\n",
            "Epoch 11 LR = 0.05265454023785696\n",
            "Epoch 12/50\n",
            "125/125 [==============================] - 0s 43us/sample - loss: 1.0439 - acc: 0.5440 - val_loss: 0.9288 - val_acc: 0.6000\n",
            "value of active is  9.898715  and the value of Kz is 0.0\n",
            "S = 12.231025 , K1 = 0.021378746748294954 , K2 = 1.2340011801627862e-06 , K_ = 0.052793146769205726 , lr = 0.05196544355172852\n",
            "Epoch 12 LR = 0.05196544355172852\n",
            "Epoch 13/50\n",
            "125/125 [==============================] - 0s 49us/sample - loss: 0.9660 - acc: 0.5520 - val_loss: 0.9237 - val_acc: 0.6000\n",
            "value of active is  9.058445  and the value of Kz is 0.0\n",
            "S = 10.687372 , K1 = 0.02407204272776233 , K2 = 1.536763543999985e-06 , K_ = 0.04831170654296875 , lr = 0.05150217983130595\n",
            "Epoch 13 LR = 0.05150217983130595\n",
            "Epoch 14/50\n",
            "125/125 [==============================] - 0s 41us/sample - loss: 0.9779 - acc: 0.5200 - val_loss: 0.9126 - val_acc: 0.6800\n",
            "value of active is  8.8359785  and the value of Kz is 0.0\n",
            "S = 10.455193 , K1 = 0.026377360325917087 , K2 = 1.8326189245532072e-06 , K_ = 0.0471252187093099 , lr = 0.05132593047270154\n",
            "Epoch 14 LR = 0.05132593047270154\n",
            "Epoch 15/50\n",
            "125/125 [==============================] - 0s 41us/sample - loss: 0.9864 - acc: 0.5200 - val_loss: 0.8786 - val_acc: 0.8000\n",
            "value of active is  10.160788  and the value of Kz is 0.0\n",
            "S = 13.734125 , K1 = 0.029158711003937358 , K2 = 2.22144586509046e-06 , K_ = 0.05419086710611979 , lr = 0.05111856844265793\n",
            "Epoch 15 LR = 0.05111856844265793\n",
            "Epoch 16/50\n",
            "125/125 [==============================] - 0s 42us/sample - loss: 0.9721 - acc: 0.5520 - val_loss: 0.8237 - val_acc: 0.9600\n",
            "value of active is  12.851326  and the value of Kz is 0.0\n",
            "S = 21.373514 , K1 = 0.03309688043088737 , K2 = 2.827182155770509e-06 , K_ = 0.0685404052734375 , lr = 0.0508060770799622\n",
            "Epoch 16 LR = 0.0508060770799622\n",
            "Epoch 17/50\n",
            "125/125 [==============================] - 0s 43us/sample - loss: 0.9329 - acc: 0.5280 - val_loss: 0.7570 - val_acc: 0.9600\n",
            "value of active is  17.31335  and the value of Kz is 0.0\n",
            "S = 37.30247 , K1 = 0.039020979415793425 , K2 = 3.885403042191128e-06 , K_ = 0.09233787027994791 , lr = 0.050517506282104524\n",
            "Epoch 17 LR = 0.050517506282104524\n",
            "Epoch 18/50\n",
            "125/125 [==============================] - 0s 41us/sample - loss: 0.9140 - acc: 0.5680 - val_loss: 0.7000 - val_acc: 0.9200\n",
            "value of active is  23.215767  and the value of Kz is 0.0\n",
            "S = 63.903038 , K1 = 0.047500623824474494 , K2 = 5.699204054079493e-06 , K_ = 0.12381742350260416 , lr = 0.05026040474195083\n",
            "Epoch 18 LR = 0.05026040474195083\n",
            "Epoch 19/50\n",
            "125/125 [==============================] - 0s 42us/sample - loss: 0.8603 - acc: 0.6160 - val_loss: 0.6577 - val_acc: 0.9200\n",
            "value of active is  30.922022  and the value of Kz is 0.0\n",
            "S = 107.823456 , K1 = 0.05924230643714423 , K2 = 8.760483148636527e-06 , K_ = 0.16491744995117188 , lr = 0.04996279710687941\n",
            "Epoch 19 LR = 0.04996279710687941\n",
            "Epoch 20/50\n",
            "125/125 [==============================] - 0s 41us/sample - loss: 0.8923 - acc: 0.5920 - val_loss: 0.6317 - val_acc: 0.9600\n",
            "value of active is  38.224144  and the value of Kz is 0.0\n",
            "S = 159.15329 , K1 = 0.07370428591712772 , K2 = 1.3278749575210116e-05 , K_ = 0.20386210123697918 , lr = 0.04944219752399033\n",
            "Epoch 20 LR = 0.04944219752399033\n",
            "Epoch 21/50\n",
            "125/125 [==============================] - 0s 41us/sample - loss: 0.8543 - acc: 0.5680 - val_loss: 0.6219 - val_acc: 0.6800\n",
            "value of active is  43.66785  and the value of Kz is 0.0\n",
            "S = 204.90039 , K1 = 0.08962337758908681 , K2 = 1.909374860341269e-05 , K_ = 0.23289520263671876 , lr = 0.04875669195894536\n",
            "Epoch 21 LR = 0.04875669195894536\n",
            "Epoch 22/50\n",
            "125/125 [==============================] - 0s 48us/sample - loss: 0.8726 - acc: 0.5440 - val_loss: 0.6183 - val_acc: 0.6800\n",
            "value of active is  50.156277  and the value of Kz is 0.0\n",
            "S = 267.98807 , K1 = 0.10741105407171458 , K2 = 2.6697426556198175e-05 , K_ = 0.2675001424153646 , lr = 0.048105432859987134\n",
            "Epoch 22 LR = 0.048105432859987134\n",
            "Epoch 23/50\n",
            "125/125 [==============================] - 0s 44us/sample - loss: 0.8460 - acc: 0.5920 - val_loss: 0.5918 - val_acc: 0.8000\n",
            "value of active is  58.530117  and the value of Kz is 0.0\n",
            "S = 360.74664 , K1 = 0.12788601108316291 , K2 = 3.6931966976864204e-05 , K_ = 0.31216062418619794 , lr = 0.04752097298001526\n",
            "Epoch 23 LR = 0.04752097298001526\n",
            "Epoch 24/50\n",
            "125/125 [==============================] - 0s 43us/sample - loss: 0.8270 - acc: 0.6160 - val_loss: 0.5806 - val_acc: 0.6400\n",
            "value of active is  67.376305  and the value of Kz is 0.0\n",
            "S = 470.4591 , K1 = 0.15103143910896122 , K2 = 5.0276982926554024e-05 , K_ = 0.3593402913411458 , lr = 0.046948678067821006\n",
            "Epoch 24 LR = 0.046948678067821006\n",
            "Epoch 25/50\n",
            "125/125 [==============================] - 0s 45us/sample - loss: 0.8232 - acc: 0.5680 - val_loss: 0.5701 - val_acc: 0.6800\n",
            "value of active is  69.937065  and the value of Kz is 0.0\n",
            "S = 501.02405 , K1 = 0.17322806326447135 , K2 = 6.447805663807193e-05 , K_ = 0.3729976806640625 , lr = 0.04635463100220346\n",
            "Epoch 25 LR = 0.04635463100220346\n",
            "Epoch 26/50\n",
            "125/125 [==============================] - 0s 39us/sample - loss: 0.8001 - acc: 0.6080 - val_loss: 0.5621 - val_acc: 0.8800\n",
            "value of active is  70.997765  and the value of Kz is 0.0\n",
            "S = 509.97498 , K1 = 0.1937707313846388 , K2 = 7.891953344254499e-05 , K_ = 0.37865474446614583 , lr = 0.04584679328543847\n",
            "Epoch 26 LR = 0.04584679328543847\n",
            "Epoch 27/50\n",
            "125/125 [==============================] - 0s 39us/sample - loss: 0.7909 - acc: 0.6640 - val_loss: 0.5688 - val_acc: 0.6800\n",
            "value of active is  71.34462  and the value of Kz is 0.0\n",
            "S = 509.69092 , K1 = 0.21244412211336242 , K2 = 9.333848890910246e-05 , K_ = 0.380504638671875 , lr = 0.045476827305905416\n",
            "Epoch 27 LR = 0.045476827305905416\n",
            "Epoch 28/50\n",
            "125/125 [==============================] - 0s 39us/sample - loss: 0.7595 - acc: 0.6880 - val_loss: 0.5762 - val_acc: 0.6800\n",
            "value of active is  72.89306  and the value of Kz is 0.0\n",
            "S = 527.7547 , K1 = 0.23007600791634908 , K2 = 0.00010825683965630448 , K_ = 0.3887629801432292 , lr = 0.04522311911305058\n",
            "Epoch 28 LR = 0.04522311911305058\n",
            "Epoch 29/50\n",
            "125/125 [==============================] - 0s 66us/sample - loss: 0.7897 - acc: 0.6160 - val_loss: 0.5557 - val_acc: 0.9200\n",
            "value of active is  76.7093  and the value of Kz is 0.0\n",
            "S = 578.7477 , K1 = 0.24798003228747456 , K2 = 0.00012461073906664817 , K_ = 0.4091162516276042 , lr = 0.045015793943160326\n",
            "Epoch 29 LR = 0.045015793943160326\n",
            "Epoch 30/50\n",
            "125/125 [==============================] - 0s 59us/sample - loss: 0.8812 - acc: 0.5600 - val_loss: 0.5510 - val_acc: 0.7200\n",
            "value of active is  80.551926  and the value of Kz is 0.0\n",
            "S = 633.2753 , K1 = 0.26614305607695626 , K2 = 0.00014249929325813707 , K_ = 0.42961027018229164 , lr = 0.04485334676800933\n",
            "Epoch 30 LR = 0.04485334676800933\n",
            "Epoch 31/50\n",
            "125/125 [==============================] - 0s 46us/sample - loss: 0.8563 - acc: 0.6000 - val_loss: 0.5545 - val_acc: 0.9600\n",
            "value of active is  74.95995  and the value of Kz is 0.0\n",
            "S = 551.5333 , K1 = 0.27950739223358356 , K2 = 0.0001580448529926567 , K_ = 0.39978641764322914 , lr = 0.04497802014881309\n",
            "Epoch 31 LR = 0.04497802014881309\n",
            "Epoch 32/50\n",
            "125/125 [==============================] - 0s 54us/sample - loss: 0.8252 - acc: 0.5920 - val_loss: 0.5689 - val_acc: 0.8000\n",
            "value of active is  67.58288  and the value of Kz is 0.0\n",
            "S = 453.69943 , K1 = 0.2876008546703815 , K2 = 0.00017079203643827518 , K_ = 0.3604420166015625 , lr = 0.04544090364743259\n",
            "Epoch 32 LR = 0.04544090364743259\n",
            "Epoch 33/50\n",
            "125/125 [==============================] - 0s 64us/sample - loss: 0.8213 - acc: 0.6240 - val_loss: 0.5776 - val_acc: 0.6800\n",
            "value of active is  61.531067  and the value of Kz is 0.0\n",
            "S = 381.41824 , K1 = 0.29165733821376005 , K2 = 0.00018147047443655914 , K_ = 0.3281656901041667 , lr = 0.04618844095199663\n",
            "Epoch 33 LR = 0.04618844095199663\n",
            "Epoch 34/50\n",
            "125/125 [==============================] - 0s 52us/sample - loss: 0.7880 - acc: 0.6480 - val_loss: 0.5698 - val_acc: 0.8000\n",
            "value of active is  59.19808  and the value of Kz is 0.0\n",
            "S = 356.36398 , K1 = 0.29406391274199345 , K2 = 0.00019142557948295593 , K_ = 0.31572308349609374 , lr = 0.04705019119896068\n",
            "Epoch 34 LR = 0.04705019119896068\n",
            "Epoch 35/50\n",
            "125/125 [==============================] - 0s 55us/sample - loss: 0.7918 - acc: 0.6080 - val_loss: 0.5569 - val_acc: 1.0000\n",
            "value of active is  61.10678  and the value of Kz is 0.0\n",
            "S = 378.15347 , K1 = 0.2972478046709191 , K2 = 0.0002019905193548619 , K_ = 0.32590283203125 , lr = 0.047813429227646496\n",
            "Epoch 35 LR = 0.047813429227646496\n",
            "Epoch 36/50\n",
            "125/125 [==============================] - 0s 44us/sample - loss: 0.7813 - acc: 0.6400 - val_loss: 0.5478 - val_acc: 0.9600\n",
            "value of active is  62.915897  and the value of Kz is 0.0\n",
            "S = 399.41827 , K1 = 0.30107816946749905 , K2 = 0.0002131497597382848 , K_ = 0.33555145263671876 , lr = 0.04849155728465961\n",
            "Epoch 36 LR = 0.04849155728465961\n",
            "Epoch 37/50\n",
            "125/125 [==============================] - 0s 43us/sample - loss: 0.6969 - acc: 0.6880 - val_loss: 0.5381 - val_acc: 0.8000\n",
            "value of active is  66.1985  and the value of Kz is 0.0\n",
            "S = 440.5766 , K1 = 0.30627622003377 , K2 = 0.00022546856657576874 , K_ = 0.35305867513020833 , lr = 0.04902669479532658\n",
            "Epoch 37 LR = 0.04902669479532658\n",
            "Epoch 38/50\n",
            "125/125 [==============================] - 0s 42us/sample - loss: 0.8036 - acc: 0.6160 - val_loss: 0.5262 - val_acc: 0.8000\n",
            "value of active is  63.258736  and the value of Kz is 0.0\n",
            "S = 412.45505 , K1 = 0.3093865903806534 , K2 = 0.00023697515269669296 , K_ = 0.33737992350260415 , lr = 0.04975683424208094\n",
            "Epoch 38 LR = 0.04975683424208094\n",
            "Epoch 39/50\n",
            "125/125 [==============================] - 0s 54us/sample - loss: 0.7762 - acc: 0.6560 - val_loss: 0.5391 - val_acc: 0.9200\n",
            "value of active is  53.229527  and the value of Kz is 0.0\n",
            "S = 308.2403 , K1 = 0.30683701215313497 , K2 = 0.00024550590150232963 , K_ = 0.28389080810546874 , lr = 0.051065312588651046\n",
            "Epoch 39 LR = 0.051065312588651046\n",
            "Epoch 40/50\n",
            "125/125 [==============================] - 0s 44us/sample - loss: 0.7727 - acc: 0.6480 - val_loss: 0.5350 - val_acc: 0.9200\n",
            "value of active is  54.159443  and the value of Kz is 0.0\n",
            "S = 323.41495 , K1 = 0.30503834715201417 , K2 = 0.00025445975410777174 , K_ = 0.2888503621419271 , lr = 0.052294719164266666\n",
            "Epoch 40 LR = 0.052294719164266666\n",
            "Epoch 41/50\n",
            "125/125 [==============================] - 0s 43us/sample - loss: 0.7402 - acc: 0.6720 - val_loss: 0.5108 - val_acc: 0.9600\n",
            "value of active is  60.941563  and the value of Kz is 0.0\n",
            "S = 407.66162 , K1 = 0.3070366791848596 , K2 = 0.0002658010026869973 , K_ = 0.32502166748046873 , lr = 0.05309953416026256\n",
            "Epoch 41 LR = 0.05309953416026256\n",
            "Epoch 42/50\n",
            "125/125 [==============================] - 0s 56us/sample - loss: 0.7570 - acc: 0.6400 - val_loss: 0.4993 - val_acc: 0.8400\n",
            "value of active is  71.543816  and the value of Kz is 0.0\n",
            "S = 553.9791 , K1 = 0.3144897129265299 , K2 = 0.00028129283015653254 , K_ = 0.3815670166015625 , lr = 0.05333047804685599\n",
            "Epoch 42 LR = 0.05333047804685599\n",
            "Epoch 43/50\n",
            "125/125 [==============================] - 0s 42us/sample - loss: 0.7372 - acc: 0.7520 - val_loss: 0.4991 - val_acc: 0.9600\n",
            "value of active is  69.50089  and the value of Kz is 0.0\n",
            "S = 534.19727 , K1 = 0.3201078843747623 , K2 = 0.0002962064817708205 , K_ = 0.37067142740885417 , lr = 0.0537654680894529\n",
            "Epoch 43 LR = 0.0537654680894529\n",
            "Epoch 44/50\n",
            "125/125 [==============================] - 0s 58us/sample - loss: 0.8370 - acc: 0.6240 - val_loss: 0.5373 - val_acc: 0.9200\n",
            "value of active is  61.274395  and the value of Kz is 0.0\n",
            "S = 433.4167 , K1 = 0.32077677326476 , K2 = 0.00030823857216404966 , K_ = 0.3267967732747396 , lr = 0.05473221840763891\n",
            "Epoch 44 LR = 0.05473221840763891\n",
            "Epoch 45/50\n",
            "125/125 [==============================] - 0s 61us/sample - loss: 0.7879 - acc: 0.6560 - val_loss: 0.5329 - val_acc: 0.8800\n",
            "value of active is  71.18279  and the value of Kz is 0.0\n",
            "S = 576.1369 , K1 = 0.3266632520255236 , K2 = 0.00032431822768910784 , K_ = 0.3796415608723958 , lr = 0.05512997674787665\n",
            "Epoch 45 LR = 0.05512997674787665\n",
            "Epoch 46/50\n",
            "125/125 [==============================] - 0s 72us/sample - loss: 0.7839 - acc: 0.6560 - val_loss: 0.5051 - val_acc: 1.0000\n",
            "value of active is  90.22373  and the value of Kz is 0.0\n",
            "S = 894.69507 , K1 = 0.34211625055343997 , K2 = 0.00034944301362808543 , K_ = 0.4811932373046875 , lr = 0.054640768714062773\n",
            "Epoch 46 LR = 0.054640768714062773\n",
            "Epoch 47/50\n",
            "125/125 [==============================] - 0s 62us/sample - loss: 0.7623 - acc: 0.6400 - val_loss: 0.5001 - val_acc: 1.0000\n",
            "value of active is  102.03949  and the value of Kz is 0.0\n",
            "S = 1125.7355 , K1 = 0.36232568669601267 , K2 = 0.00038111449075334627 , K_ = 0.5442106119791666 , lr = 0.05388040252724277\n",
            "Epoch 47 LR = 0.05388040252724277\n",
            "Epoch 48/50\n",
            "125/125 [==============================] - 0s 44us/sample - loss: 0.7802 - acc: 0.6560 - val_loss: 0.5126 - val_acc: 0.9200\n",
            "value of active is  112.46713  and the value of Kz is 0.0\n",
            "S = 1344.4016 , K1 = 0.3860755887295364 , K2 = 0.00041897413320703743 , K_ = 0.59982470703125 , lr = 0.053018005386716485\n",
            "Epoch 48 LR = 0.053018005386716485\n",
            "Epoch 49/50\n",
            "125/125 [==============================] - 0s 62us/sample - loss: 0.7451 - acc: 0.6240 - val_loss: 0.5275 - val_acc: 0.8000\n",
            "value of active is  119.37707  and the value of Kz is 0.0\n",
            "S = 1501.4355 , K1 = 0.4111357992250723 , K2 = 0.0004612626590738304 , K_ = 0.6366776936848958 , lr = 0.05223852155272334\n",
            "Epoch 49 LR = 0.05223852155272334\n",
            "Epoch 50/50\n",
            "125/125 [==============================] - 0s 52us/sample - loss: 0.7276 - acc: 0.6400 - val_loss: 0.5098 - val_acc: 1.0000\n"
          ],
          "name": "stdout"
        }
      ]
    },
    {
      "cell_type": "code",
      "metadata": {
        "id": "uhihxFO7oW6i",
        "colab_type": "code",
        "outputId": "fde55428-a17d-4189-b5a8-b6d82798fd8c",
        "colab": {
          "base_uri": "https://localhost:8080/",
          "height": 545
        }
      },
      "source": [
        "%matplotlib inline\n",
        "import matplotlib.pyplot as plt\n",
        "acc = history.history['acc']\n",
        "val_acc = history.history['val_acc']\n",
        "loss = history.history['loss']\n",
        "val_loss = history.history['val_loss']\n",
        "\n",
        "epochs = range(len(acc))\n",
        "\n",
        "plt.plot(epochs, acc, 'r', label='Training accuracy')\n",
        "plt.plot(epochs, val_acc, 'b', label='Validation accuracy')\n",
        "plt.title('Training and validation accuracy')\n",
        "plt.legend()\n",
        "plt.figure()\n",
        "\n",
        "plt.plot(epochs, loss, 'r', label='Training Loss')\n",
        "plt.plot(epochs, val_loss, 'b', label='Validation Loss')\n",
        "plt.title('Training and validation loss')\n",
        "plt.legend()\n",
        "\n",
        "plt.show()"
      ],
      "execution_count": 154,
      "outputs": [
        {
          "output_type": "display_data",
          "data": {
            "image/png": "[encoded data removed]",
            "text/plain": [
              "<Figure size 432x288 with 1 Axes>"
            ]
          },
          "metadata": {
            "tags": [],
            "needs_background": "light"
          }
        },
        {
          "output_type": "display_data",
          "data": {
            "image/png": "[encoded data removed]",
            "text/plain": [
              "<Figure size 432x288 with 1 Axes>"
            ]
          },
          "metadata": {
            "tags": [],
            "needs_background": "light"
          }
        }
      ]
    },
    {
      "cell_type": "code",
      "metadata": {
        "id": "tsMCNFkZsohq",
        "colab_type": "code",
        "colab": {}
      },
      "source": [
        ""
      ],
      "execution_count": 0,
      "outputs": []
    },
    {
      "cell_type": "code",
      "metadata": {
        "id": "HUx7NjBMssi7",
        "colab_type": "code",
        "colab": {}
      },
      "source": [
        ""
      ],
      "execution_count": 0,
      "outputs": []
    }
  ]
}