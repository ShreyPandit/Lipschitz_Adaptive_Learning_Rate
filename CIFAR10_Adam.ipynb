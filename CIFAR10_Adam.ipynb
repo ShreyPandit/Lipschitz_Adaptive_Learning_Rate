{
  "nbformat": 4,
  "nbformat_minor": 0,
  "metadata": {
    "colab": {
      "name": "CIFAR10_Adam",
      "provenance": [],
      "collapsed_sections": [],
      "authorship_tag": "ABX9TyNwTP+ox1P+tP4eYDAxTXxx",
      "include_colab_link": true
    },
    "kernelspec": {
      "name": "python3",
      "display_name": "Python 3"
    },
    "accelerator": "GPU"
  },
  "cells": [
    {
      "cell_type": "markdown",
      "metadata": {
        "id": "view-in-github",
        "colab_type": "text"
      },
      "source": [
        "<a href=\"https://colab.research.google.com/github/ShreyPandit/Lipschitz/blob/master/CIFAR10_Adam.ipynb\" target=\"_parent\"><img src=\"https://colab.research.google.com/assets/colab-badge.svg\" alt=\"Open In Colab\"/></a>"
      ]
    },
    {
      "cell_type": "code",
      "metadata": {
        "id": "rPippuJUmiKg",
        "colab_type": "code",
        "colab": {
          "base_uri": "https://localhost:8080/",
          "height": 853
        },
        "outputId": "0967f8fe-b13d-4d50-b5d0-c318cdb976f5"
      },
      "source": [
        "import pandas as pd\n",
        "import tensorflow as tf\n",
        "from tensorflow import keras\n",
        "from tensorflow.keras.callbacks import LearningRateScheduler\n",
        "import numpy as np\n",
        "from tqdm import tqdm\n",
        "import keras\n",
        "from keras.models import Sequential\n",
        "from keras.layers import Dense, Flatten, Conv2D, AveragePooling2D, BatchNormalization, MaxPool2D, Dropout,Input\n",
        "from keras.callbacks import LearningRateScheduler\n",
        "from keras.preprocessing.image import ImageDataGenerator\n",
        "from keras import backend as K\n",
        "\n",
        "from tqdm import tqdm_notebook as tqdm\n",
        "\n",
        "import numpy as np\n",
        "import matplotlib.pyplot as plt\n",
        "\n",
        "plt.style.use('ggplot')\n",
        "!pip install tensorflow==1.14.0"
      ],
      "execution_count": 2,
      "outputs": [
        {
          "output_type": "stream",
          "text": [
            "/usr/local/lib/python3.6/dist-packages/tensorflow/python/framework/dtypes.py:516: FutureWarning: Passing (type, 1) or '1type' as a synonym of type is deprecated; in a future version of numpy, it will be understood as (type, (1,)) / '(1,)type'.\n",
            "  _np_qint8 = np.dtype([(\"qint8\", np.int8, 1)])\n",
            "/usr/local/lib/python3.6/dist-packages/tensorflow/python/framework/dtypes.py:517: FutureWarning: Passing (type, 1) or '1type' as a synonym of type is deprecated; in a future version of numpy, it will be understood as (type, (1,)) / '(1,)type'.\n",
            "  _np_quint8 = np.dtype([(\"quint8\", np.uint8, 1)])\n",
            "/usr/local/lib/python3.6/dist-packages/tensorflow/python/framework/dtypes.py:518: FutureWarning: Passing (type, 1) or '1type' as a synonym of type is deprecated; in a future version of numpy, it will be understood as (type, (1,)) / '(1,)type'.\n",
            "  _np_qint16 = np.dtype([(\"qint16\", np.int16, 1)])\n",
            "/usr/local/lib/python3.6/dist-packages/tensorflow/python/framework/dtypes.py:519: FutureWarning: Passing (type, 1) or '1type' as a synonym of type is deprecated; in a future version of numpy, it will be understood as (type, (1,)) / '(1,)type'.\n",
            "  _np_quint16 = np.dtype([(\"quint16\", np.uint16, 1)])\n",
            "/usr/local/lib/python3.6/dist-packages/tensorflow/python/framework/dtypes.py:520: FutureWarning: Passing (type, 1) or '1type' as a synonym of type is deprecated; in a future version of numpy, it will be understood as (type, (1,)) / '(1,)type'.\n",
            "  _np_qint32 = np.dtype([(\"qint32\", np.int32, 1)])\n",
            "/usr/local/lib/python3.6/dist-packages/tensorflow/python/framework/dtypes.py:525: FutureWarning: Passing (type, 1) or '1type' as a synonym of type is deprecated; in a future version of numpy, it will be understood as (type, (1,)) / '(1,)type'.\n",
            "  np_resource = np.dtype([(\"resource\", np.ubyte, 1)])\n",
            "/usr/local/lib/python3.6/dist-packages/tensorboard/compat/tensorflow_stub/dtypes.py:541: FutureWarning: Passing (type, 1) or '1type' as a synonym of type is deprecated; in a future version of numpy, it will be understood as (type, (1,)) / '(1,)type'.\n",
            "  _np_qint8 = np.dtype([(\"qint8\", np.int8, 1)])\n",
            "/usr/local/lib/python3.6/dist-packages/tensorboard/compat/tensorflow_stub/dtypes.py:542: FutureWarning: Passing (type, 1) or '1type' as a synonym of type is deprecated; in a future version of numpy, it will be understood as (type, (1,)) / '(1,)type'.\n",
            "  _np_quint8 = np.dtype([(\"quint8\", np.uint8, 1)])\n",
            "/usr/local/lib/python3.6/dist-packages/tensorboard/compat/tensorflow_stub/dtypes.py:543: FutureWarning: Passing (type, 1) or '1type' as a synonym of type is deprecated; in a future version of numpy, it will be understood as (type, (1,)) / '(1,)type'.\n",
            "  _np_qint16 = np.dtype([(\"qint16\", np.int16, 1)])\n",
            "/usr/local/lib/python3.6/dist-packages/tensorboard/compat/tensorflow_stub/dtypes.py:544: FutureWarning: Passing (type, 1) or '1type' as a synonym of type is deprecated; in a future version of numpy, it will be understood as (type, (1,)) / '(1,)type'.\n",
            "  _np_quint16 = np.dtype([(\"quint16\", np.uint16, 1)])\n",
            "/usr/local/lib/python3.6/dist-packages/tensorboard/compat/tensorflow_stub/dtypes.py:545: FutureWarning: Passing (type, 1) or '1type' as a synonym of type is deprecated; in a future version of numpy, it will be understood as (type, (1,)) / '(1,)type'.\n",
            "  _np_qint32 = np.dtype([(\"qint32\", np.int32, 1)])\n",
            "/usr/local/lib/python3.6/dist-packages/tensorboard/compat/tensorflow_stub/dtypes.py:550: FutureWarning: Passing (type, 1) or '1type' as a synonym of type is deprecated; in a future version of numpy, it will be understood as (type, (1,)) / '(1,)type'.\n",
            "  np_resource = np.dtype([(\"resource\", np.ubyte, 1)])\n",
            "Using TensorFlow backend.\n"
          ],
          "name": "stderr"
        },
        {
          "output_type": "stream",
          "text": [
            "Requirement already satisfied: tensorflow==1.14.0 in /usr/local/lib/python3.6/dist-packages (1.14.0)\n",
            "Requirement already satisfied: keras-applications>=1.0.6 in /usr/local/lib/python3.6/dist-packages (from tensorflow==1.14.0) (1.0.8)\n",
            "Requirement already satisfied: gast>=0.2.0 in /usr/local/lib/python3.6/dist-packages (from tensorflow==1.14.0) (0.3.3)\n",
            "Requirement already satisfied: tensorboard<1.15.0,>=1.14.0 in /usr/local/lib/python3.6/dist-packages (from tensorflow==1.14.0) (1.14.0)\n",
            "Requirement already satisfied: absl-py>=0.7.0 in /usr/local/lib/python3.6/dist-packages (from tensorflow==1.14.0) (0.9.0)\n",
            "Requirement already satisfied: termcolor>=1.1.0 in /usr/local/lib/python3.6/dist-packages (from tensorflow==1.14.0) (1.1.0)\n",
            "Requirement already satisfied: wrapt>=1.11.1 in /usr/local/lib/python3.6/dist-packages (from tensorflow==1.14.0) (1.12.1)\n",
            "Requirement already satisfied: wheel>=0.26 in /usr/local/lib/python3.6/dist-packages (from tensorflow==1.14.0) (0.34.2)\n",
            "Requirement already satisfied: numpy<2.0,>=1.14.5 in /usr/local/lib/python3.6/dist-packages (from tensorflow==1.14.0) (1.18.5)\n",
            "Requirement already satisfied: protobuf>=3.6.1 in /usr/local/lib/python3.6/dist-packages (from tensorflow==1.14.0) (3.10.0)\n",
            "Requirement already satisfied: astor>=0.6.0 in /usr/local/lib/python3.6/dist-packages (from tensorflow==1.14.0) (0.8.1)\n",
            "Requirement already satisfied: grpcio>=1.8.6 in /usr/local/lib/python3.6/dist-packages (from tensorflow==1.14.0) (1.30.0)\n",
            "Requirement already satisfied: tensorflow-estimator<1.15.0rc0,>=1.14.0rc0 in /usr/local/lib/python3.6/dist-packages (from tensorflow==1.14.0) (1.14.0)\n",
            "Requirement already satisfied: keras-preprocessing>=1.0.5 in /usr/local/lib/python3.6/dist-packages (from tensorflow==1.14.0) (1.1.2)\n",
            "Requirement already satisfied: six>=1.10.0 in /usr/local/lib/python3.6/dist-packages (from tensorflow==1.14.0) (1.12.0)\n",
            "Requirement already satisfied: google-pasta>=0.1.6 in /usr/local/lib/python3.6/dist-packages (from tensorflow==1.14.0) (0.2.0)\n",
            "Requirement already satisfied: h5py in /usr/local/lib/python3.6/dist-packages (from keras-applications>=1.0.6->tensorflow==1.14.0) (2.10.0)\n",
            "Requirement already satisfied: werkzeug>=0.11.15 in /usr/local/lib/python3.6/dist-packages (from tensorboard<1.15.0,>=1.14.0->tensorflow==1.14.0) (1.0.1)\n",
            "Requirement already satisfied: setuptools>=41.0.0 in /usr/local/lib/python3.6/dist-packages (from tensorboard<1.15.0,>=1.14.0->tensorflow==1.14.0) (47.3.1)\n",
            "Requirement already satisfied: markdown>=2.6.8 in /usr/local/lib/python3.6/dist-packages (from tensorboard<1.15.0,>=1.14.0->tensorflow==1.14.0) (3.2.2)\n",
            "Requirement already satisfied: importlib-metadata; python_version < \"3.8\" in /usr/local/lib/python3.6/dist-packages (from markdown>=2.6.8->tensorboard<1.15.0,>=1.14.0->tensorflow==1.14.0) (1.6.1)\n",
            "Requirement already satisfied: zipp>=0.5 in /usr/local/lib/python3.6/dist-packages (from importlib-metadata; python_version < \"3.8\"->markdown>=2.6.8->tensorboard<1.15.0,>=1.14.0->tensorflow==1.14.0) (3.1.0)\n"
          ],
          "name": "stdout"
        }
      ]
    },
    {
      "cell_type": "code",
      "metadata": {
        "id": "Vv5mgSkqxuNs",
        "colab_type": "code",
        "colab": {}
      },
      "source": [
        "import keras\n",
        "from keras.layers import Input, Dense, Conv2D, MaxPooling2D, BatchNormalization\n",
        "from keras.layers import Activation, AveragePooling2D, Flatten\n",
        "from keras.models import Model\n",
        "from keras.optimizers import Adam\n",
        "from keras.datasets import cifar10\n",
        "from keras.regularizers import l2\n",
        "from keras.callbacks import ModelCheckpoint, LearningRateScheduler\n",
        "from keras.preprocessing.image import ImageDataGenerator\n",
        "from keras import backend as K\n",
        "import pickle\n",
        "import os\n",
        "import numpy as np"
      ],
      "execution_count": 3,
      "outputs": []
    },
    {
      "cell_type": "code",
      "metadata": {
        "id": "lpH3CFAkmvl2",
        "colab_type": "code",
        "colab": {}
      },
      "source": [
        "from keras.datasets import cifar10\n",
        "(x_train, y_train), (x_test, y_test) = cifar10.load_data()"
      ],
      "execution_count": 4,
      "outputs": []
    },
    {
      "cell_type": "code",
      "metadata": {
        "id": "E4-0R1Duo_7Q",
        "colab_type": "code",
        "colab": {}
      },
      "source": [
        "y_train = keras.utils.to_categorical(y_train, 10)\n",
        "y_test = keras.utils.to_categorical(y_test, 10)"
      ],
      "execution_count": 5,
      "outputs": []
    },
    {
      "cell_type": "code",
      "metadata": {
        "id": "Cvls17f_pGhT",
        "colab_type": "code",
        "colab": {}
      },
      "source": [
        "batch_size = 256\n",
        "num_classes = 10\n",
        "epochs = 20\n",
        "img_rows, img_cols = 32, 32\n",
        "lrs=[]\n",
        "depth=20"
      ],
      "execution_count": 6,
      "outputs": []
    },
    {
      "cell_type": "code",
      "metadata": {
        "id": "yQhHkWMxpHwd",
        "colab_type": "code",
        "colab": {}
      },
      "source": [
        "if K.image_data_format() == 'channels_first':\n",
        "    x_train = x_train.reshape(x_train.shape[0], 3, img_rows, img_cols)\n",
        "    x_test = x_test.reshape(x_test.shape[0], 3, img_rows, img_cols)\n",
        "    input_shape = (3, img_rows, img_cols)\n",
        "else:\n",
        "    x_train = x_train.reshape(x_train.shape[0], img_rows, img_cols, 3)\n",
        "    x_test = x_test.reshape(x_test.shape[0], img_rows, img_cols, 3)\n",
        "    input_shape = (img_rows, img_cols, 3)"
      ],
      "execution_count": 7,
      "outputs": []
    },
    {
      "cell_type": "code",
      "metadata": {
        "id": "A2IQyCqEpNs3",
        "colab_type": "code",
        "colab": {}
      },
      "source": [
        "def resnet_layer(inputs,\n",
        "                 num_filters=16,\n",
        "                 kernel_size=3,\n",
        "                 strides=1,\n",
        "                 activation='relu',\n",
        "                 batch_normalization=True,\n",
        "                 conv_first=True):\n",
        "\n",
        "    conv = Conv2D(num_filters,\n",
        "                  kernel_size=kernel_size,\n",
        "                  strides=strides,\n",
        "                  padding='same',\n",
        "                  kernel_initializer='he_normal',\n",
        "                  kernel_regularizer=l2(1e-4))\n",
        "\n",
        "    x = inputs\n",
        "    if conv_first:\n",
        "        x = conv(x)\n",
        "        if batch_normalization:\n",
        "            x = BatchNormalization()(x)\n",
        "        if activation is not None:\n",
        "            x = Activation(activation)(x)\n",
        "    else:\n",
        "        if batch_normalization:\n",
        "            x = BatchNormalization()(x)\n",
        "        if activation is not None:\n",
        "            x = Activation(activation)(x)\n",
        "        x = conv(x)\n",
        "    return x"
      ],
      "execution_count": 8,
      "outputs": []
    },
    {
      "cell_type": "code",
      "metadata": {
        "id": "48o8Q5nIw9ae",
        "colab_type": "code",
        "colab": {}
      },
      "source": [
        "def resnet_v1(input_shape, depth, num_classes=10):\n",
        "    \"\"\"ResNet Version 1 Model builder [a]\n",
        "    Stacks of 2 x (3 x 3) Conv2D-BN-ReLU\n",
        "    Last ReLU is after the shortcut connection.\n",
        "    At the beginning of each stage, the feature map size is halved (downsampled)\n",
        "    by a convolutional layer with strides=2, while the number of filters is\n",
        "    doubled. Within each stage, the layers have the same number filters and the\n",
        "    same number of filters.\n",
        "    Features maps sizes:\n",
        "    stage 0: 32x32, 16\n",
        "    stage 1: 16x16, 32\n",
        "    stage 2:  8x8,  64\n",
        "    The Number of parameters is approx the same as Table 6 of [a]:\n",
        "    ResNet20 0.27M\n",
        "    ResNet32 0.46M\n",
        "    ResNet44 0.66M\n",
        "    ResNet56 0.85M\n",
        "    ResNet110 1.7M\n",
        "    # Arguments\n",
        "        input_shape (tensor): shape of input image tensor\n",
        "        depth (int): number of core convolutional layers\n",
        "        num_classes (int): number of classes (CIFAR10 has 10)\n",
        "    # Returns\n",
        "        model (Model): Keras model instance\n",
        "    \"\"\"\n",
        "    if (depth - 2) % 6 != 0:\n",
        "        raise ValueError('depth should be 6n+2 (eg 20, 32, 44 in [a])')\n",
        "    # Start model definition.\n",
        "    num_filters = 16\n",
        "    num_res_blocks = int((depth - 2) / 6)\n",
        "\n",
        "    inputs = Input(shape=input_shape)\n",
        "    x = resnet_layer(inputs=inputs)\n",
        "    # Instantiate the stack of residual units\n",
        "    for stack in range(3):\n",
        "        for res_block in range(num_res_blocks):\n",
        "            strides = 1\n",
        "            if stack > 0 and res_block == 0:  # first layer but not first stack\n",
        "                strides = 2  # downsample\n",
        "            y = resnet_layer(inputs=x,\n",
        "                             num_filters=num_filters,\n",
        "                             strides=strides)\n",
        "            y = resnet_layer(inputs=y,\n",
        "                             num_filters=num_filters,\n",
        "                             activation=None)\n",
        "            if stack > 0 and res_block == 0:  # first layer but not first stack\n",
        "                # linear projection residual shortcut connection to match\n",
        "                # changed dims\n",
        "                x = resnet_layer(inputs=x,\n",
        "                                 num_filters=num_filters,\n",
        "                                 kernel_size=1,\n",
        "                                 strides=strides,\n",
        "                                 activation=None,\n",
        "                                 batch_normalization=False)\n",
        "            x = keras.layers.add([x, y])\n",
        "            x = Activation('relu')(x)\n",
        "            \n",
        "        num_filters *= 2\n",
        "\n",
        "    # Add classifier on top.\n",
        "    # v1 does not use BN after last shortcut connection-ReLU\n",
        "    x = AveragePooling2D(pool_size=8)(x)\n",
        "    y = Flatten()(x)\n",
        "    outputs = Dense(num_classes,\n",
        "                    activation='softmax',\n",
        "                    kernel_initializer='he_normal')(y)\n",
        "\n",
        "    # Instantiate model.\n",
        "    model = Model(inputs=inputs, outputs=outputs)\n",
        "    return model"
      ],
      "execution_count": 9,
      "outputs": []
    },
    {
      "cell_type": "code",
      "metadata": {
        "id": "CFO593zlxKHe",
        "colab_type": "code",
        "colab": {
          "base_uri": "https://localhost:8080/",
          "height": 52
        },
        "outputId": "cd6aeb22-d08d-4b27-ef9f-7e64faee7303"
      },
      "source": [
        "model = resnet_v1(input_shape=input_shape, depth=depth)"
      ],
      "execution_count": 10,
      "outputs": [
        {
          "output_type": "stream",
          "text": [
            "WARNING:tensorflow:From /usr/local/lib/python3.6/dist-packages/keras/backend/tensorflow_backend.py:4074: The name tf.nn.avg_pool is deprecated. Please use tf.nn.avg_pool2d instead.\n",
            "\n"
          ],
          "name": "stdout"
        }
      ]
    },
    {
      "cell_type": "code",
      "metadata": {
        "id": "k8Iiq4cXpvOQ",
        "colab_type": "code",
        "colab": {
          "base_uri": "https://localhost:8080/",
          "height": 52
        },
        "outputId": "d40e138e-0461-4fef-f9dc-6e4df7e4f294"
      },
      "source": [
        "from keras import backend as K\n",
        "func = K.function([model.layers[0].input], [model.layers[-2].output])"
      ],
      "execution_count": 11,
      "outputs": [
        {
          "output_type": "stream",
          "text": [
            "WARNING:tensorflow:From /usr/local/lib/python3.6/dist-packages/keras/backend/tensorflow_backend.py:422: The name tf.global_variables is deprecated. Please use tf.compat.v1.global_variables instead.\n",
            "\n"
          ],
          "name": "stdout"
        }
      ]
    },
    {
      "cell_type": "code",
      "metadata": {
        "id": "VC7xOIk2px5u",
        "colab_type": "code",
        "colab": {
          "base_uri": "https://localhost:8080/",
          "height": 52
        },
        "outputId": "e2973c29-1ccb-4b30-a31c-57c72ee8bc26"
      },
      "source": [
        "x_train = x_train.astype('float32')\n",
        "x_test = x_test.astype('float32')\n",
        "x_train /= 255\n",
        "x_test /= 255\n",
        "print(x_train.shape)\n",
        "print(x_test.shape)"
      ],
      "execution_count": 12,
      "outputs": [
        {
          "output_type": "stream",
          "text": [
            "(50000, 32, 32, 3)\n",
            "(10000, 32, 32, 3)\n"
          ],
          "name": "stdout"
        }
      ]
    },
    {
      "cell_type": "code",
      "metadata": {
        "id": "IlO084fhp0P_",
        "colab_type": "code",
        "colab": {}
      },
      "source": [
        "K1 = 0.\n",
        "K2 = 0.\n",
        "beta1 = 0.9\n",
        "beta2 = 0.999"
      ],
      "execution_count": 13,
      "outputs": []
    },
    {
      "cell_type": "code",
      "metadata": {
        "id": "l77DJ25Sp2-F",
        "colab_type": "code",
        "colab": {}
      },
      "source": [
        "def lr_schedule(epoch):\n",
        "    \"\"\"Learning Rate Schedule\n",
        "    # Arguments\n",
        "        epoch (int): The number of epochs\n",
        "    # Returns\n",
        "        lr (float32): learning rate\n",
        "    \"\"\"\n",
        "    global K1, K2\n",
        "\n",
        "    Kz = 0.\n",
        "    S = 0.\n",
        "    \n",
        "    sess = tf.compat.v1.keras.backend.get_session()\n",
        "    max_wt = 0.\n",
        "    for weight in model.weights:\n",
        "        norm = np.linalg.norm(weight.eval(sess))\n",
        "        if norm > max_wt:\n",
        "            max_wt = norm\n",
        "    \n",
        "    for i in range((len(x_train) - 1) // batch_size + 1):\n",
        "        start_i = i * batch_size\n",
        "        end_i = start_i + batch_size\n",
        "        xb = x_train[start_i:end_i]\n",
        "    \t\n",
        "        tmp = np.array(func([xb]))\n",
        "        activ = np.linalg.norm(tmp)\n",
        "        sq = np.linalg.norm(np.square(tmp))\n",
        "\n",
        "        if sq > S:\n",
        "            S = sq\n",
        "        \n",
        "        if activ > Kz:\n",
        "            Kz = activ\n",
        "\n",
        "    K_ = ((num_classes - 1) * Kz) / (num_classes * batch_size)\n",
        "    S_ = (num_classes - 1) ** 2 / (num_classes * batch_size) ** 2 * S \n",
        "    \n",
        "    K1 = beta1 * K1 + (1 - beta1) * K_\n",
        "    K2 = beta2 * K2 + (1 - beta2) * S_\n",
        "\n",
        "    lr = (np.sqrt(K2) + K.epsilon()) / K1\n",
        "    print('S =', S, ', K1 =', K1,', K2 =', K2, ', K_ =', K_, ', lr =', lr)\n",
        "    lrs.append(lr)\n",
        "    print('Epoch', epoch, 'LR =', lr)\n",
        "    return lr"
      ],
      "execution_count": 14,
      "outputs": []
    },
    {
      "cell_type": "code",
      "metadata": {
        "id": "B_kdE82Op5X8",
        "colab_type": "code",
        "colab": {}
      },
      "source": [
        "lr_scheduler = LearningRateScheduler(lr_schedule)"
      ],
      "execution_count": 15,
      "outputs": []
    },
    {
      "cell_type": "code",
      "metadata": {
        "id": "ck4EBdUjp7ZU",
        "colab_type": "code",
        "colab": {}
      },
      "source": [
        "model.compile(loss=keras.losses.categorical_crossentropy,\n",
        "              optimizer=Adam(1e-3, decay=1e-3),\n",
        "              metrics=['accuracy'])\n"
      ],
      "execution_count": 16,
      "outputs": []
    },
    {
      "cell_type": "code",
      "metadata": {
        "id": "5LsqyD_tp93V",
        "colab_type": "code",
        "colab": {}
      },
      "source": [
        "datagen = ImageDataGenerator(\n",
        "        featurewise_center=False, \n",
        "        samplewise_center=False, \n",
        "        featurewise_std_normalization=False,\n",
        "        samplewise_std_normalization=False,\n",
        "        zca_whitening=False,\n",
        "        rotation_range=15,\n",
        "        zoom_range = 0.1,\n",
        "        width_shift_range=0.1,\n",
        "        height_shift_range=0.1,\n",
        "        horizontal_flip=False,\n",
        "        vertical_flip=False)\n",
        "\n",
        "datagen.fit(x_train)"
      ],
      "execution_count": 17,
      "outputs": []
    },
    {
      "cell_type": "code",
      "metadata": {
        "id": "Bs2to7pup_he",
        "colab_type": "code",
        "colab": {
          "base_uri": "https://localhost:8080/",
          "height": 1000
        },
        "outputId": "46172c5f-156a-47d2-c729-403ef90c3f16"
      },
      "source": [
        "history=model.fit_generator(datagen.flow(x_train, y_train, batch_size=batch_size),\n",
        "                    steps_per_epoch=len(x_train) / batch_size,\n",
        "                    epochs=35,\n",
        "                    verbose=1,\n",
        "                    validation_data=(x_test, y_test),\n",
        "                    callbacks=[lr_scheduler])"
      ],
      "execution_count": null,
      "outputs": [
        {
          "output_type": "stream",
          "text": [
            "Epoch 1/35\n",
            "S = 4888.4277 , K1 = 0.20830221891403194 , K2 = 6.041910499334341e-05 , K_ = 2.08302218914032 , lr = 0.037316322246356635\n",
            "Epoch 0 LR = 0.037316322246356635\n",
            "196/195 [==============================] - 1057s 5s/step - loss: 2.5161 - accuracy: 0.2586 - val_loss: 3.1410 - val_accuracy: 0.1466\n",
            "Epoch 2/35\n",
            "S = 226.74054 , K1 = 0.21236459988355633 , K2 = 6.316111260093755e-05 , K_ = 0.24892602860927582 , lr = 0.03742382956958148\n",
            "Epoch 1 LR = 0.03742382956958148\n",
            "196/195 [==============================] - 1072s 5s/step - loss: 1.7665 - accuracy: 0.4155 - val_loss: 2.7663 - val_accuracy: 0.2572\n",
            "Epoch 3/35\n",
            "S = 320.29465 , K1 = 0.2212464396178722 , K2 = 6.705667134071707e-05 , K_ = 0.3011829972267151 , lr = 0.037012635355423124\n",
            "Epoch 2 LR = 0.037012635355423124\n",
            "196/195 [==============================] - 1027s 5s/step - loss: 1.5657 - accuracy: 0.4943 - val_loss: 1.9527 - val_accuracy: 0.3820\n",
            "Epoch 4/35\n",
            "S = 219.6182 , K1 = 0.2259971517938375 , K2 = 6.97040119107378e-05 , K_ = 0.2687535613775253 , lr = 0.036942911842550934\n",
            "Epoch 3 LR = 0.036942911842550934\n",
            "196/195 [==============================] - 1077s 5s/step - loss: 1.4348 - accuracy: 0.5444 - val_loss: 2.0569 - val_accuracy: 0.3746\n",
            "Epoch 5/35\n",
            "S = 180.10168 , K1 = 0.23063955533069366 , K2 = 7.18602961267011e-05 , K_ = 0.27242118716239927 , lr = 0.03675494966706462\n",
            "Epoch 4 LR = 0.03675494966706462\n",
            "196/195 [==============================] - 1066s 5s/step - loss: 1.3366 - accuracy: 0.5830 - val_loss: 2.5539 - val_accuracy: 0.3466\n",
            "Epoch 6/35\n",
            "S = 231.52393 , K1 = 0.23867475385274284 , K2 = 7.464998337517298e-05 , K_ = 0.3109915405511856 , lr = 0.036200402625597906\n",
            "Epoch 5 LR = 0.036200402625597906\n",
            "196/195 [==============================] - 1038s 5s/step - loss: 1.2488 - accuracy: 0.6232 - val_loss: 1.8701 - val_accuracy: 0.4272\n",
            "Epoch 7/35\n",
            "S = 184.9933 , K1 = 0.24326758409862928 , K2 = 7.686178014056486e-05 , K_ = 0.28460305631160737 , lr = 0.03603926546514006\n",
            "Epoch 6 LR = 0.03603926546514006\n",
            "196/195 [==============================] - 1041s 5s/step - loss: 1.1913 - accuracy: 0.6437 - val_loss: 2.6596 - val_accuracy: 0.3649\n",
            "Epoch 8/35\n",
            "S = 234.68134 , K1 = 0.2521154194354285 , K2 = 7.968549028598989e-05 , K_ = 0.3317459374666214 , lr = 0.035407485144933866\n",
            "Epoch 7 LR = 0.035407485144933866\n",
            "196/195 [==============================] - 1067s 5s/step - loss: 1.1278 - accuracy: 0.6670 - val_loss: 2.3050 - val_accuracy: 0.4365\n",
            "Epoch 9/35\n",
            "S = 373.94412 , K1 = 0.2608607830952945 , K2 = 8.422761172738583e-05 , K_ = 0.33956905603408816 , lr = 0.0351822152739538\n",
            "Epoch 8 LR = 0.0351822152739538\n",
            "196/195 [==============================] - 1071s 5s/step - loss: 1.0915 - accuracy: 0.6810 - val_loss: 1.7502 - val_accuracy: 0.4854\n",
            "Epoch 10/35\n",
            "S = 168.28612 , K1 = 0.26499787888091886 , K2 = 8.622333643527676e-05 , K_ = 0.3022317409515381 , lr = 0.035040854744519526\n",
            "Epoch 9 LR = 0.035040854744519526\n",
            "196/195 [==============================] - 1075s 5s/step - loss: 1.0574 - accuracy: 0.6919 - val_loss: 1.4286 - val_accuracy: 0.5466\n",
            "Epoch 11/35\n",
            "S = 186.18468 , K1 = 0.2665173153981157 , K2 = 8.843828479791464e-05 , K_ = 0.28019224405288695 , lr = 0.035285749254365124\n",
            "Epoch 10 LR = 0.035285749254365124\n",
            "196/195 [==============================] - 1121s 6s/step - loss: 1.0205 - accuracy: 0.7014 - val_loss: 1.8905 - val_accuracy: 0.4826\n",
            "Epoch 12/35\n",
            "S = 406.96967 , K1 = 0.27314026155214793 , K2 = 9.337983658082225e-05 , K_ = 0.3327467769384384 , lr = 0.03537898165533336\n",
            "Epoch 11 LR = 0.03537898165533336\n",
            "196/195 [==============================] - 1112s 6s/step - loss: 1.0023 - accuracy: 0.7088 - val_loss: 1.5778 - val_accuracy: 0.5362\n",
            "Epoch 13/35\n",
            "S = 256.88092 , K1 = 0.2779297828508135 , K2 = 9.646140708500417e-05 , K_ = 0.3210354745388031 , lr = 0.03533833879680696\n",
            "Epoch 12 LR = 0.03533833879680696\n",
            "196/195 [==============================] - 1103s 6s/step - loss: 0.9761 - accuracy: 0.7171 - val_loss: 1.3386 - val_accuracy: 0.6320\n",
            "Epoch 14/35\n",
            "S = 238.38184 , K1 = 0.28382892249519076 , K2 = 9.931125438014962e-05 , K_ = 0.3369211792945862 , lr = 0.03511130271713789\n",
            "Epoch 13 LR = 0.03511130271713789\n",
            "196/195 [==============================] - 1113s 6s/step - loss: 0.9531 - accuracy: 0.7256 - val_loss: 1.0882 - val_accuracy: 0.6815\n",
            "Epoch 15/35\n",
            "S = 289.34546 , K1 = 0.2894150218829016 , K2 = 0.00010278814279888568 , K_ = 0.33968991637229917 , lr = 0.03503117658282217\n",
            "Epoch 14 LR = 0.03503117658282217\n",
            "196/195 [==============================] - 1113s 6s/step - loss: 0.9282 - accuracy: 0.7329 - val_loss: 1.2267 - val_accuracy: 0.6287\n",
            "Epoch 16/35\n",
            "S = 205.28596 , K1 = 0.2897798664687127 , K2 = 0.00010522261099798002 , K_ = 0.29306346774101255 , lr = 0.0353989648908707\n",
            "Epoch 15 LR = 0.0353989648908707\n",
            "196/195 [==============================] - 1097s 6s/step - loss: 0.9084 - accuracy: 0.7405 - val_loss: 1.4520 - val_accuracy: 0.5876\n",
            "Epoch 17/35\n",
            "S = 194.77797 , K1 = 0.2905253020511315 , K2 = 0.00010752476990526032 , K_ = 0.2972342222929001 , lr = 0.03569229614616984\n",
            "Epoch 16 LR = 0.03569229614616984\n",
            "196/195 [==============================] - 1104s 6s/step - loss: 0.8905 - accuracy: 0.7446 - val_loss: 1.2834 - val_accuracy: 0.6531\n",
            "Epoch 18/35\n",
            "S = 410.84445 , K1 = 0.29899342396136336 , K2 = 0.000112495126086931 , K_ = 0.37520652115345 , lr = 0.035473930551110686\n",
            "Epoch 17 LR = 0.035473930551110686\n",
            "196/195 [==============================] - 1053s 5s/step - loss: 0.8696 - accuracy: 0.7515 - val_loss: 1.2725 - val_accuracy: 0.6188\n",
            "Epoch 19/35\n",
            "S = 189.47081 , K1 = 0.29797939394363354 , K2 = 0.00011472441800992525 , K_ = 0.28885312378406525 , lr = 0.0359456013701483\n",
            "Epoch 18 LR = 0.0359456013701483\n",
            "196/195 [==============================] - 1048s 5s/step - loss: 0.8547 - accuracy: 0.7570 - val_loss: 0.9974 - val_accuracy: 0.7154\n",
            "Epoch 20/35\n",
            "S = 328.48016 , K1 = 0.3033349606494479 , K2 = 0.00011866958330894288 , K_ = 0.35153506100177767 , lr = 0.03591296215841953\n",
            "Epoch 19 LR = 0.03591296215841953\n",
            "196/195 [==============================] - 976s 5s/step - loss: 0.8449 - accuracy: 0.7590 - val_loss: 1.2144 - val_accuracy: 0.6412\n",
            "Epoch 21/35\n",
            "S = 265.27118 , K1 = 0.3037606030494308 , K2 = 0.00012182956446952077 , K_ = 0.3075913846492767 , lr = 0.0363369803587682\n",
            "Epoch 20 LR = 0.0363369803587682\n",
            "196/195 [==============================] - 985s 5s/step - loss: 0.8343 - accuracy: 0.7618 - val_loss: 1.4388 - val_accuracy: 0.6086\n",
            "Epoch 22/35\n",
            "S = 340.31845 , K1 = 0.30467689631494904 , K2 = 0.00012591394134504552 , K_ = 0.31292353570461273 , lr = 0.03682996080142938\n",
            "Epoch 21 LR = 0.03682996080142938\n",
            "196/195 [==============================] - 979s 5s/step - loss: 0.8119 - accuracy: 0.7702 - val_loss: 1.4887 - val_accuracy: 0.6144\n",
            "Epoch 23/35\n",
            "S = 253.46597 , K1 = 0.3065364476869675 , K2 = 0.0001289207702938573 , K_ = 0.32327241003513335 , lr = 0.03704103818071951\n",
            "Epoch 22 LR = 0.03704103818071951\n",
            "196/195 [==============================] - 949s 5s/step - loss: 0.8054 - accuracy: 0.7715 - val_loss: 1.0840 - val_accuracy: 0.6911\n",
            "Epoch 24/35\n",
            "S = 292.17154 , K1 = 0.31216567726405015 , K2 = 0.00013240297847312365 , K_ = 0.3628287434577942 , lr = 0.036861032950483735\n",
            "Epoch 23 LR = 0.036861032950483735\n",
            "196/195 [==============================] - 984s 5s/step - loss: 0.7903 - accuracy: 0.7777 - val_loss: 0.9790 - val_accuracy: 0.7234\n",
            "Epoch 25/35\n",
            "S = 350.9376 , K1 = 0.31768260840897156 , K2 = 0.00013660803046837056 , K_ = 0.3673349887132645 , lr = 0.03679157592837323\n",
            "Epoch 24 LR = 0.03679157592837323\n",
            "196/195 [==============================] - 1083s 6s/step - loss: 0.7772 - accuracy: 0.7817 - val_loss: 1.3484 - val_accuracy: 0.6213\n",
            "Epoch 26/35\n",
            "S = 369.01392 , K1 = 0.3207014049082195 , K2 = 0.0001410322938974459 , K_ = 0.3478705734014511 , lr = 0.03703071344814582\n",
            "Epoch 25 LR = 0.03703071344814582\n",
            "196/195 [==============================] - 1087s 6s/step - loss: 0.7750 - accuracy: 0.7832 - val_loss: 1.3484 - val_accuracy: 0.6590\n",
            "Epoch 27/35\n",
            "S = 372.1974 , K1 = 0.3261597083499308 , K2 = 0.00014549147956059805 , K_ = 0.3752844393253326 , lr = 0.03698214274868893\n",
            "Epoch 26 LR = 0.03698214274868893\n",
            "196/195 [==============================] - 1112s 6s/step - loss: 0.7623 - accuracy: 0.7852 - val_loss: 1.0506 - val_accuracy: 0.6979\n",
            "Epoch 28/35\n",
            "S = 257.32303 , K1 = 0.3227076509437211 , K2 = 0.00014852640271020628 , K_ = 0.29163913428783417 , lr = 0.037765577727975896\n",
            "Epoch 27 LR = 0.037765577727975896\n",
            "196/195 [==============================] - 1078s 6s/step - loss: 0.7596 - accuracy: 0.7866 - val_loss: 0.9496 - val_accuracy: 0.7345\n",
            "Epoch 29/35\n",
            "S = 357.78458 , K1 = 0.3270218708075209 , K2 = 0.00015279995740638788 , K_ = 0.36584984958171846 , lr = 0.037799698102437725\n",
            "Epoch 28 LR = 0.037799698102437725\n",
            "196/195 [==============================] - 1071s 5s/step - loss: 0.7422 - accuracy: 0.7903 - val_loss: 0.9937 - val_accuracy: 0.7168\n",
            "Epoch 30/35\n",
            "S = 316.1363 , K1 = 0.3285737217626384 , K2 = 0.00015655448160849938 , K_ = 0.342540380358696 , lr = 0.03808056611956859\n",
            "Epoch 29 LR = 0.03808056611956859\n",
            "196/195 [==============================] - 1040s 5s/step - loss: 0.7407 - accuracy: 0.7918 - val_loss: 1.0267 - val_accuracy: 0.7095\n",
            "Epoch 31/35\n",
            "S = 350.82086 , K1 = 0.33259568552625873 , K2 = 0.00016073393936552748 , K_ = 0.36879335939884184 , lr = 0.03811892186042377\n",
            "Epoch 30 LR = 0.03811892186042377\n",
            "196/195 [==============================] - 1054s 5s/step - loss: 0.7249 - accuracy: 0.7975 - val_loss: 0.9775 - val_accuracy: 0.7266\n",
            "Epoch 32/35\n",
            "S = 355.13303 , K1 = 0.33399429953503046 , K2 = 0.00016496251437330046 , K_ = 0.34658182561397555 , lr = 0.038455367015613244\n",
            "Epoch 31 LR = 0.038455367015613244\n",
            "196/195 [==============================] - 984s 5s/step - loss: 0.7216 - accuracy: 0.7975 - val_loss: 1.5203 - val_accuracy: 0.6100\n",
            "Epoch 33/35\n",
            "S = 347.22665 , K1 = 0.3348013252294728 , K2 = 0.0001690891410584925 , K_ = 0.34206455647945405 , lr = 0.03883953577948123\n",
            "Epoch 32 LR = 0.03883953577948123\n",
            "196/195 [==============================] - 986s 5s/step - loss: 0.7131 - accuracy: 0.7983 - val_loss: 1.0434 - val_accuracy: 0.7161\n",
            "Epoch 34/35\n",
            "S = 336.72537 , K1 = 0.337528616512716 , K2 = 0.0001730818492742258 , K_ = 0.3620742380619049 , lr = 0.03897790252128461\n",
            "Epoch 33 LR = 0.03897790252128461\n",
            "196/195 [==============================] - 1010s 5s/step - loss: 0.7080 - accuracy: 0.8012 - val_loss: 1.1194 - val_accuracy: 0.7010\n",
            "Epoch 35/35\n"
          ],
          "name": "stdout"
        }
      ]
    },
    {
      "cell_type": "code",
      "metadata": {
        "id": "m-XffrlMx9-R",
        "colab_type": "code",
        "colab": {}
      },
      "source": [
        "%matplotlib inline\n",
        "import matplotlib.pyplot as plt\n",
        "acc = history.history['accuracy']\n",
        "val_acc = history.history['val_accuracy']\n",
        "loss = history.history['loss']\n",
        "val_loss = history.history['val_loss']\n",
        "\n",
        "epochs = range(len(acc))\n",
        "\n",
        "plt.plot(epochs, acc, 'r', label='Training accuracy')\n",
        "plt.plot(epochs, val_acc, 'b', label='Validation accuracy')\n",
        "plt.title('Training and validation accuracy')\n",
        "plt.legend()\n",
        "plt.figure()\n",
        "\n",
        "plt.plot(epochs, loss, 'r', label='Training Loss')\n",
        "plt.plot(epochs, val_loss, 'b', label='Validation Loss')\n",
        "plt.title('Training and validation loss')\n",
        "plt.legend()\n",
        "\n",
        "plt.show()"
      ],
      "execution_count": null,
      "outputs": []
    },
    {
      "cell_type": "code",
      "metadata": {
        "id": "y1dWYDEC_Uhq",
        "colab_type": "code",
        "colab": {}
      },
      "source": [
        ""
      ],
      "execution_count": null,
      "outputs": []
    }
  ]
}