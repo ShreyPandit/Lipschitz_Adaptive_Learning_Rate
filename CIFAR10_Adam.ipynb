{
  "nbformat": 4,
  "nbformat_minor": 0,
  "metadata": {
    "colab": {
      "name": "CIFAR10_Adam",
      "provenance": [],
      "collapsed_sections": [],
      "authorship_tag": "ABX9TyMLfYBx9439Loe0gBb6bfPN",
      "include_colab_link": true
    },
    "kernelspec": {
      "name": "python3",
      "display_name": "Python 3"
    },
    "accelerator": "GPU"
  },
  "cells": [
    {
      "cell_type": "markdown",
      "metadata": {
        "id": "view-in-github",
        "colab_type": "text"
      },
      "source": [
        "<a href=\"https://colab.research.google.com/github/ShreyPandit/Lipschitz/blob/master/CIFAR10_Adam.ipynb\" target=\"_parent\"><img src=\"https://colab.research.google.com/assets/colab-badge.svg\" alt=\"Open In Colab\"/></a>"
      ]
    },
    {
      "cell_type": "code",
      "metadata": {
        "id": "rPippuJUmiKg",
        "colab_type": "code",
        "colab": {
          "base_uri": "https://localhost:8080/",
          "height": 853
        },
        "outputId": "4137e50a-e6e0-4171-ac1e-f056e86f3c03"
      },
      "source": [
        "import pandas as pd\n",
        "import tensorflow as tf\n",
        "from tensorflow import keras\n",
        "from tensorflow.keras.callbacks import LearningRateScheduler\n",
        "import numpy as np\n",
        "from tqdm import tqdm\n",
        "import keras\n",
        "from keras.models import Sequential\n",
        "from keras.layers import Dense, Flatten, Conv2D, AveragePooling2D, BatchNormalization, MaxPool2D, Dropout,Input\n",
        "from keras.callbacks import LearningRateScheduler\n",
        "from keras.preprocessing.image import ImageDataGenerator\n",
        "from keras import backend as K\n",
        "\n",
        "from tqdm import tqdm_notebook as tqdm\n",
        "\n",
        "import numpy as np\n",
        "import matplotlib.pyplot as plt\n",
        "\n",
        "plt.style.use('ggplot')\n",
        "!pip install tensorflow==1.14.0"
      ],
      "execution_count": 1,
      "outputs": [
        {
          "output_type": "stream",
          "text": [
            "/usr/local/lib/python3.6/dist-packages/tensorflow/python/framework/dtypes.py:516: FutureWarning: Passing (type, 1) or '1type' as a synonym of type is deprecated; in a future version of numpy, it will be understood as (type, (1,)) / '(1,)type'.\n",
            "  _np_qint8 = np.dtype([(\"qint8\", np.int8, 1)])\n",
            "/usr/local/lib/python3.6/dist-packages/tensorflow/python/framework/dtypes.py:517: FutureWarning: Passing (type, 1) or '1type' as a synonym of type is deprecated; in a future version of numpy, it will be understood as (type, (1,)) / '(1,)type'.\n",
            "  _np_quint8 = np.dtype([(\"quint8\", np.uint8, 1)])\n",
            "/usr/local/lib/python3.6/dist-packages/tensorflow/python/framework/dtypes.py:518: FutureWarning: Passing (type, 1) or '1type' as a synonym of type is deprecated; in a future version of numpy, it will be understood as (type, (1,)) / '(1,)type'.\n",
            "  _np_qint16 = np.dtype([(\"qint16\", np.int16, 1)])\n",
            "/usr/local/lib/python3.6/dist-packages/tensorflow/python/framework/dtypes.py:519: FutureWarning: Passing (type, 1) or '1type' as a synonym of type is deprecated; in a future version of numpy, it will be understood as (type, (1,)) / '(1,)type'.\n",
            "  _np_quint16 = np.dtype([(\"quint16\", np.uint16, 1)])\n",
            "/usr/local/lib/python3.6/dist-packages/tensorflow/python/framework/dtypes.py:520: FutureWarning: Passing (type, 1) or '1type' as a synonym of type is deprecated; in a future version of numpy, it will be understood as (type, (1,)) / '(1,)type'.\n",
            "  _np_qint32 = np.dtype([(\"qint32\", np.int32, 1)])\n",
            "/usr/local/lib/python3.6/dist-packages/tensorflow/python/framework/dtypes.py:525: FutureWarning: Passing (type, 1) or '1type' as a synonym of type is deprecated; in a future version of numpy, it will be understood as (type, (1,)) / '(1,)type'.\n",
            "  np_resource = np.dtype([(\"resource\", np.ubyte, 1)])\n",
            "/usr/local/lib/python3.6/dist-packages/tensorboard/compat/tensorflow_stub/dtypes.py:541: FutureWarning: Passing (type, 1) or '1type' as a synonym of type is deprecated; in a future version of numpy, it will be understood as (type, (1,)) / '(1,)type'.\n",
            "  _np_qint8 = np.dtype([(\"qint8\", np.int8, 1)])\n",
            "/usr/local/lib/python3.6/dist-packages/tensorboard/compat/tensorflow_stub/dtypes.py:542: FutureWarning: Passing (type, 1) or '1type' as a synonym of type is deprecated; in a future version of numpy, it will be understood as (type, (1,)) / '(1,)type'.\n",
            "  _np_quint8 = np.dtype([(\"quint8\", np.uint8, 1)])\n",
            "/usr/local/lib/python3.6/dist-packages/tensorboard/compat/tensorflow_stub/dtypes.py:543: FutureWarning: Passing (type, 1) or '1type' as a synonym of type is deprecated; in a future version of numpy, it will be understood as (type, (1,)) / '(1,)type'.\n",
            "  _np_qint16 = np.dtype([(\"qint16\", np.int16, 1)])\n",
            "/usr/local/lib/python3.6/dist-packages/tensorboard/compat/tensorflow_stub/dtypes.py:544: FutureWarning: Passing (type, 1) or '1type' as a synonym of type is deprecated; in a future version of numpy, it will be understood as (type, (1,)) / '(1,)type'.\n",
            "  _np_quint16 = np.dtype([(\"quint16\", np.uint16, 1)])\n",
            "/usr/local/lib/python3.6/dist-packages/tensorboard/compat/tensorflow_stub/dtypes.py:545: FutureWarning: Passing (type, 1) or '1type' as a synonym of type is deprecated; in a future version of numpy, it will be understood as (type, (1,)) / '(1,)type'.\n",
            "  _np_qint32 = np.dtype([(\"qint32\", np.int32, 1)])\n",
            "/usr/local/lib/python3.6/dist-packages/tensorboard/compat/tensorflow_stub/dtypes.py:550: FutureWarning: Passing (type, 1) or '1type' as a synonym of type is deprecated; in a future version of numpy, it will be understood as (type, (1,)) / '(1,)type'.\n",
            "  np_resource = np.dtype([(\"resource\", np.ubyte, 1)])\n",
            "Using TensorFlow backend.\n"
          ],
          "name": "stderr"
        },
        {
          "output_type": "stream",
          "text": [
            "Requirement already satisfied: tensorflow==1.14.0 in /usr/local/lib/python3.6/dist-packages (1.14.0)\n",
            "Requirement already satisfied: wheel>=0.26 in /usr/local/lib/python3.6/dist-packages (from tensorflow==1.14.0) (0.34.2)\n",
            "Requirement already satisfied: google-pasta>=0.1.6 in /usr/local/lib/python3.6/dist-packages (from tensorflow==1.14.0) (0.2.0)\n",
            "Requirement already satisfied: astor>=0.6.0 in /usr/local/lib/python3.6/dist-packages (from tensorflow==1.14.0) (0.8.1)\n",
            "Requirement already satisfied: keras-applications>=1.0.6 in /usr/local/lib/python3.6/dist-packages (from tensorflow==1.14.0) (1.0.8)\n",
            "Requirement already satisfied: keras-preprocessing>=1.0.5 in /usr/local/lib/python3.6/dist-packages (from tensorflow==1.14.0) (1.1.2)\n",
            "Requirement already satisfied: termcolor>=1.1.0 in /usr/local/lib/python3.6/dist-packages (from tensorflow==1.14.0) (1.1.0)\n",
            "Requirement already satisfied: wrapt>=1.11.1 in /usr/local/lib/python3.6/dist-packages (from tensorflow==1.14.0) (1.12.1)\n",
            "Requirement already satisfied: absl-py>=0.7.0 in /usr/local/lib/python3.6/dist-packages (from tensorflow==1.14.0) (0.9.0)\n",
            "Requirement already satisfied: grpcio>=1.8.6 in /usr/local/lib/python3.6/dist-packages (from tensorflow==1.14.0) (1.30.0)\n",
            "Requirement already satisfied: tensorflow-estimator<1.15.0rc0,>=1.14.0rc0 in /usr/local/lib/python3.6/dist-packages (from tensorflow==1.14.0) (1.14.0)\n",
            "Requirement already satisfied: six>=1.10.0 in /usr/local/lib/python3.6/dist-packages (from tensorflow==1.14.0) (1.12.0)\n",
            "Requirement already satisfied: protobuf>=3.6.1 in /usr/local/lib/python3.6/dist-packages (from tensorflow==1.14.0) (3.10.0)\n",
            "Requirement already satisfied: tensorboard<1.15.0,>=1.14.0 in /usr/local/lib/python3.6/dist-packages (from tensorflow==1.14.0) (1.14.0)\n",
            "Requirement already satisfied: gast>=0.2.0 in /usr/local/lib/python3.6/dist-packages (from tensorflow==1.14.0) (0.3.3)\n",
            "Requirement already satisfied: numpy<2.0,>=1.14.5 in /usr/local/lib/python3.6/dist-packages (from tensorflow==1.14.0) (1.18.5)\n",
            "Requirement already satisfied: h5py in /usr/local/lib/python3.6/dist-packages (from keras-applications>=1.0.6->tensorflow==1.14.0) (2.10.0)\n",
            "Requirement already satisfied: setuptools in /usr/local/lib/python3.6/dist-packages (from protobuf>=3.6.1->tensorflow==1.14.0) (47.3.1)\n",
            "Requirement already satisfied: markdown>=2.6.8 in /usr/local/lib/python3.6/dist-packages (from tensorboard<1.15.0,>=1.14.0->tensorflow==1.14.0) (3.2.2)\n",
            "Requirement already satisfied: werkzeug>=0.11.15 in /usr/local/lib/python3.6/dist-packages (from tensorboard<1.15.0,>=1.14.0->tensorflow==1.14.0) (1.0.1)\n",
            "Requirement already satisfied: importlib-metadata; python_version < \"3.8\" in /usr/local/lib/python3.6/dist-packages (from markdown>=2.6.8->tensorboard<1.15.0,>=1.14.0->tensorflow==1.14.0) (1.6.1)\n",
            "Requirement already satisfied: zipp>=0.5 in /usr/local/lib/python3.6/dist-packages (from importlib-metadata; python_version < \"3.8\"->markdown>=2.6.8->tensorboard<1.15.0,>=1.14.0->tensorflow==1.14.0) (3.1.0)\n"
          ],
          "name": "stdout"
        }
      ]
    },
    {
      "cell_type": "code",
      "metadata": {
        "id": "Vv5mgSkqxuNs",
        "colab_type": "code",
        "colab": {}
      },
      "source": [
        "import keras\n",
        "from keras.layers import Input, Dense, Conv2D, MaxPooling2D, BatchNormalization\n",
        "from keras.layers import Activation, AveragePooling2D, Flatten\n",
        "from keras.models import Model\n",
        "from keras.optimizers import Adam\n",
        "from keras.datasets import cifar10\n",
        "from keras.regularizers import l2\n",
        "from keras.callbacks import ModelCheckpoint, LearningRateScheduler\n",
        "from keras.preprocessing.image import ImageDataGenerator\n",
        "from keras import backend as K\n",
        "import pickle\n",
        "import os\n",
        "import numpy as np"
      ],
      "execution_count": 2,
      "outputs": []
    },
    {
      "cell_type": "code",
      "metadata": {
        "id": "lpH3CFAkmvl2",
        "colab_type": "code",
        "colab": {}
      },
      "source": [
        "from keras.datasets import cifar10\n",
        "(x_train, y_train), (x_test, y_test) = cifar10.load_data()"
      ],
      "execution_count": 3,
      "outputs": []
    },
    {
      "cell_type": "code",
      "metadata": {
        "id": "E4-0R1Duo_7Q",
        "colab_type": "code",
        "colab": {}
      },
      "source": [
        "y_train = keras.utils.to_categorical(y_train, 10)\n",
        "y_test = keras.utils.to_categorical(y_test, 10)"
      ],
      "execution_count": 4,
      "outputs": []
    },
    {
      "cell_type": "code",
      "metadata": {
        "id": "Cvls17f_pGhT",
        "colab_type": "code",
        "colab": {}
      },
      "source": [
        "batch_size = 256\n",
        "num_classes = 10\n",
        "epochs = 20\n",
        "img_rows, img_cols = 32, 32\n",
        "lrs=[]\n",
        "depth=20"
      ],
      "execution_count": 5,
      "outputs": []
    },
    {
      "cell_type": "code",
      "metadata": {
        "id": "yQhHkWMxpHwd",
        "colab_type": "code",
        "colab": {}
      },
      "source": [
        "if K.image_data_format() == 'channels_first':\n",
        "    x_train = x_train.reshape(x_train.shape[0], 3, img_rows, img_cols)\n",
        "    x_test = x_test.reshape(x_test.shape[0], 3, img_rows, img_cols)\n",
        "    input_shape = (3, img_rows, img_cols)\n",
        "else:\n",
        "    x_train = x_train.reshape(x_train.shape[0], img_rows, img_cols, 3)\n",
        "    x_test = x_test.reshape(x_test.shape[0], img_rows, img_cols, 3)\n",
        "    input_shape = (img_rows, img_cols, 3)"
      ],
      "execution_count": 6,
      "outputs": []
    },
    {
      "cell_type": "code",
      "metadata": {
        "id": "A2IQyCqEpNs3",
        "colab_type": "code",
        "colab": {}
      },
      "source": [
        "def resnet_layer(inputs,\n",
        "                 num_filters=16,\n",
        "                 kernel_size=3,\n",
        "                 strides=1,\n",
        "                 activation='relu',\n",
        "                 batch_normalization=True,\n",
        "                 conv_first=True):\n",
        "\n",
        "    conv = Conv2D(num_filters,\n",
        "                  kernel_size=kernel_size,\n",
        "                  strides=strides,\n",
        "                  padding='same',\n",
        "                  kernel_initializer='he_normal',\n",
        "                  kernel_regularizer=l2(1e-4))\n",
        "\n",
        "    x = inputs\n",
        "    if conv_first:\n",
        "        x = conv(x)\n",
        "        if batch_normalization:\n",
        "            x = BatchNormalization()(x)\n",
        "        if activation is not None:\n",
        "            x = Activation(activation)(x)\n",
        "    else:\n",
        "        if batch_normalization:\n",
        "            x = BatchNormalization()(x)\n",
        "        if activation is not None:\n",
        "            x = Activation(activation)(x)\n",
        "        x = conv(x)\n",
        "    return x"
      ],
      "execution_count": 7,
      "outputs": []
    },
    {
      "cell_type": "code",
      "metadata": {
        "id": "48o8Q5nIw9ae",
        "colab_type": "code",
        "colab": {}
      },
      "source": [
        "def resnet_v1(input_shape, depth, num_classes=10):\n",
        "    \"\"\"ResNet Version 1 Model builder [a]\n",
        "    Stacks of 2 x (3 x 3) Conv2D-BN-ReLU\n",
        "    Last ReLU is after the shortcut connection.\n",
        "    At the beginning of each stage, the feature map size is halved (downsampled)\n",
        "    by a convolutional layer with strides=2, while the number of filters is\n",
        "    doubled. Within each stage, the layers have the same number filters and the\n",
        "    same number of filters.\n",
        "    Features maps sizes:\n",
        "    stage 0: 32x32, 16\n",
        "    stage 1: 16x16, 32\n",
        "    stage 2:  8x8,  64\n",
        "    The Number of parameters is approx the same as Table 6 of [a]:\n",
        "    ResNet20 0.27M\n",
        "    ResNet32 0.46M\n",
        "    ResNet44 0.66M\n",
        "    ResNet56 0.85M\n",
        "    ResNet110 1.7M\n",
        "    # Arguments\n",
        "        input_shape (tensor): shape of input image tensor\n",
        "        depth (int): number of core convolutional layers\n",
        "        num_classes (int): number of classes (CIFAR10 has 10)\n",
        "    # Returns\n",
        "        model (Model): Keras model instance\n",
        "    \"\"\"\n",
        "    if (depth - 2) % 6 != 0:\n",
        "        raise ValueError('depth should be 6n+2 (eg 20, 32, 44 in [a])')\n",
        "    # Start model definition.\n",
        "    num_filters = 16\n",
        "    num_res_blocks = int((depth - 2) / 6)\n",
        "\n",
        "    inputs = Input(shape=input_shape)\n",
        "    x = resnet_layer(inputs=inputs)\n",
        "    # Instantiate the stack of residual units\n",
        "    for stack in range(3):\n",
        "        for res_block in range(num_res_blocks):\n",
        "            strides = 1\n",
        "            if stack > 0 and res_block == 0:  # first layer but not first stack\n",
        "                strides = 2  # downsample\n",
        "            y = resnet_layer(inputs=x,\n",
        "                             num_filters=num_filters,\n",
        "                             strides=strides)\n",
        "            y = resnet_layer(inputs=y,\n",
        "                             num_filters=num_filters,\n",
        "                             activation=None)\n",
        "            if stack > 0 and res_block == 0:  # first layer but not first stack\n",
        "                # linear projection residual shortcut connection to match\n",
        "                # changed dims\n",
        "                x = resnet_layer(inputs=x,\n",
        "                                 num_filters=num_filters,\n",
        "                                 kernel_size=1,\n",
        "                                 strides=strides,\n",
        "                                 activation=None,\n",
        "                                 batch_normalization=False)\n",
        "            x = keras.layers.add([x, y])\n",
        "            x = Activation('relu')(x)\n",
        "            \n",
        "        num_filters *= 2\n",
        "\n",
        "    # Add classifier on top.\n",
        "    # v1 does not use BN after last shortcut connection-ReLU\n",
        "    x = AveragePooling2D(pool_size=8)(x)\n",
        "    y = Flatten()(x)\n",
        "    outputs = Dense(num_classes,\n",
        "                    activation='softmax',\n",
        "                    kernel_initializer='he_normal')(y)\n",
        "\n",
        "    # Instantiate model.\n",
        "    model = Model(inputs=inputs, outputs=outputs)\n",
        "    return model"
      ],
      "execution_count": 8,
      "outputs": []
    },
    {
      "cell_type": "code",
      "metadata": {
        "id": "CFO593zlxKHe",
        "colab_type": "code",
        "colab": {
          "base_uri": "https://localhost:8080/",
          "height": 52
        },
        "outputId": "175706fd-0d4f-4230-9ffd-58c883ff7f4f"
      },
      "source": [
        "model = resnet_v1(input_shape=input_shape, depth=depth)"
      ],
      "execution_count": 9,
      "outputs": [
        {
          "output_type": "stream",
          "text": [
            "WARNING:tensorflow:From /usr/local/lib/python3.6/dist-packages/keras/backend/tensorflow_backend.py:4074: The name tf.nn.avg_pool is deprecated. Please use tf.nn.avg_pool2d instead.\n",
            "\n"
          ],
          "name": "stdout"
        }
      ]
    },
    {
      "cell_type": "code",
      "metadata": {
        "id": "k8Iiq4cXpvOQ",
        "colab_type": "code",
        "colab": {
          "base_uri": "https://localhost:8080/",
          "height": 52
        },
        "outputId": "07de9171-6e19-4344-9a1a-58a6b0ba8cc5"
      },
      "source": [
        "from keras import backend as K\n",
        "func = K.function([model.layers[0].input], [model.layers[-2].output])"
      ],
      "execution_count": 10,
      "outputs": [
        {
          "output_type": "stream",
          "text": [
            "WARNING:tensorflow:From /usr/local/lib/python3.6/dist-packages/keras/backend/tensorflow_backend.py:422: The name tf.global_variables is deprecated. Please use tf.compat.v1.global_variables instead.\n",
            "\n"
          ],
          "name": "stdout"
        }
      ]
    },
    {
      "cell_type": "code",
      "metadata": {
        "id": "VC7xOIk2px5u",
        "colab_type": "code",
        "colab": {
          "base_uri": "https://localhost:8080/",
          "height": 52
        },
        "outputId": "1017bd0d-cc28-45a9-d745-9be2a17f87da"
      },
      "source": [
        "x_train = x_train.astype('float32')\n",
        "x_test = x_test.astype('float32')\n",
        "x_train /= 255\n",
        "x_test /= 255\n",
        "print(x_train.shape)\n",
        "print(x_test.shape)"
      ],
      "execution_count": 11,
      "outputs": [
        {
          "output_type": "stream",
          "text": [
            "(50000, 32, 32, 3)\n",
            "(10000, 32, 32, 3)\n"
          ],
          "name": "stdout"
        }
      ]
    },
    {
      "cell_type": "code",
      "metadata": {
        "id": "IlO084fhp0P_",
        "colab_type": "code",
        "colab": {}
      },
      "source": [
        "K1 = 0.\n",
        "K2 = 0.\n",
        "beta1 = 0.9\n",
        "beta2 = 0.999"
      ],
      "execution_count": 12,
      "outputs": []
    },
    {
      "cell_type": "code",
      "metadata": {
        "id": "l77DJ25Sp2-F",
        "colab_type": "code",
        "colab": {}
      },
      "source": [
        "def lr_schedule(epoch):\n",
        "    \"\"\"Learning Rate Schedule\n",
        "    # Arguments\n",
        "        epoch (int): The number of epochs\n",
        "    # Returns\n",
        "        lr (float32): learning rate\n",
        "    \"\"\"\n",
        "    global K1, K2\n",
        "\n",
        "    Kz = 0.\n",
        "    S = 0.\n",
        "    \n",
        "    sess = K.get_session()\n",
        "    max_wt = 0.\n",
        "    for weight in model.weights:\n",
        "        norm = np.linalg.norm(weight.eval(sess))\n",
        "        if norm > max_wt:\n",
        "            max_wt = norm\n",
        "    \n",
        "    for i in range((len(x_train) - 1) // batch_size + 1):\n",
        "        start_i = i * batch_size\n",
        "        end_i = start_i + batch_size\n",
        "        xb = x_train[start_i:end_i]\n",
        "    \t\n",
        "        tmp = np.array(func([xb]))\n",
        "        activ = np.linalg.norm(tmp)\n",
        "        sq = np.linalg.norm(np.square(tmp))\n",
        "\n",
        "        if sq > S:\n",
        "            S = sq\n",
        "        \n",
        "        if activ > Kz:\n",
        "            Kz = activ\n",
        "\n",
        "    K_ = ((num_classes - 1) * Kz) / (num_classes * batch_size)\n",
        "    S_ = (num_classes - 1) ** 2 / (num_classes * batch_size) ** 2 * S \n",
        "    \n",
        "    K1 = beta1 * K1 + (1 - beta1) * K_\n",
        "    K2 = beta2 * K2 + (1 - beta2) * S_\n",
        "\n",
        "    lr = (np.sqrt(K2) + K.epsilon()) / K1\n",
        "    print('S =', S, ', K1 =', K1,', K2 =', K2, ', K_ =', K_, ', lr =', lr)\n",
        "    lrs.append(lr)\n",
        "    print('Epoch', epoch, 'LR =', lr)\n",
        "    return lr"
      ],
      "execution_count": 13,
      "outputs": []
    },
    {
      "cell_type": "code",
      "metadata": {
        "id": "B_kdE82Op5X8",
        "colab_type": "code",
        "colab": {}
      },
      "source": [
        "lr_scheduler = LearningRateScheduler(lr_schedule)"
      ],
      "execution_count": 14,
      "outputs": []
    },
    {
      "cell_type": "code",
      "metadata": {
        "id": "ck4EBdUjp7ZU",
        "colab_type": "code",
        "colab": {}
      },
      "source": [
        "model.compile(loss=keras.losses.categorical_crossentropy,\n",
        "              optimizer=Adam(1e-3, decay=1e-3),\n",
        "              metrics=['accuracy'])\n"
      ],
      "execution_count": 15,
      "outputs": []
    },
    {
      "cell_type": "code",
      "metadata": {
        "id": "5LsqyD_tp93V",
        "colab_type": "code",
        "colab": {}
      },
      "source": [
        "datagen = ImageDataGenerator(\n",
        "        featurewise_center=False, \n",
        "        samplewise_center=False, \n",
        "        featurewise_std_normalization=False,\n",
        "        samplewise_std_normalization=False,\n",
        "        zca_whitening=False,\n",
        "        rotation_range=15,\n",
        "        zoom_range = 0.1,\n",
        "        width_shift_range=0.1,\n",
        "        height_shift_range=0.1,\n",
        "        horizontal_flip=False,\n",
        "        vertical_flip=False)\n",
        "\n",
        "datagen.fit(x_train)"
      ],
      "execution_count": 16,
      "outputs": []
    },
    {
      "cell_type": "code",
      "metadata": {
        "id": "Bs2to7pup_he",
        "colab_type": "code",
        "colab": {
          "base_uri": "https://localhost:8080/",
          "height": 1000
        },
        "outputId": "5b6f6168-73e8-490d-e8a5-47861ac6e860"
      },
      "source": [
        "history=model.fit_generator(datagen.flow(x_train, y_train, batch_size=batch_size),\n",
        "                    steps_per_epoch=len(x_train) / batch_size,\n",
        "                    epochs=15,\n",
        "                    verbose=1,\n",
        "                    validation_data=(x_test, y_test),\n",
        "                    callbacks=[lr_scheduler])"
      ],
      "execution_count": 17,
      "outputs": [
        {
          "output_type": "stream",
          "text": [
            "Epoch 1/15\n",
            "S = 14444.584 , K1 = 0.3444156789779662 , K2 = 0.00017852955669164674 , K_ = 3.444156789779663 , lr = 0.03879496816502751\n",
            "Epoch 0 LR = 0.03879496816502751\n",
            "196/195 [==============================] - 1108s 6s/step - loss: 2.5642 - accuracy: 0.2374 - val_loss: 2.9730 - val_accuracy: 0.1447\n",
            "Epoch 2/15\n",
            "S = 255.88634 , K1 = 0.3377440885305404 , K2 = 0.0001815136848070288 , K_ = 0.27769977450370786 , lr = 0.03989056189014842\n",
            "Epoch 1 LR = 0.03989056189014842\n",
            "196/195 [==============================] - 1100s 6s/step - loss: 1.8074 - accuracy: 0.3841 - val_loss: 2.7614 - val_accuracy: 0.2334\n",
            "Epoch 3/15\n",
            "S = 182.23347 , K1 = 0.33105851014852516 , K2 = 0.00018358450746457517 , K_ = 0.27088830471038816 , lr = 0.040927617436742766\n",
            "Epoch 2 LR = 0.040927617436742766\n",
            "196/195 [==============================] - 1116s 6s/step - loss: 1.6233 - accuracy: 0.4504 - val_loss: 2.8577 - val_accuracy: 0.2469\n",
            "Epoch 4/15\n",
            "S = 253.70972 , K1 = 0.3301378557121753 , K2 = 0.00018653667842899582 , K_ = 0.32185196578502656 , lr = 0.04137042412468104\n",
            "Epoch 3 LR = 0.04137042412468104\n",
            "196/195 [==============================] - 1117s 6s/step - loss: 1.4848 - accuracy: 0.5083 - val_loss: 2.6469 - val_accuracy: 0.3015\n",
            "Epoch 5/15\n",
            "S = 283.47528 , K1 = 0.3300841595860719 , K2 = 0.0001898537882565634 , K_ = 0.3296008944511414 , lr = 0.041743427164970745\n",
            "Epoch 4 LR = 0.041743427164970745\n",
            "196/195 [==============================] - 1113s 6s/step - loss: 1.3907 - accuracy: 0.5553 - val_loss: 1.7957 - val_accuracy: 0.4129\n",
            "Epoch 6/15\n",
            "S = 164.25471 , K1 = 0.3220920446037411 , K2 = 0.0001916940601873363 , K_ = 0.25016300976276395 , lr = 0.042986042776239096\n",
            "Epoch 5 LR = 0.042986042776239096\n",
            "196/195 [==============================] - 1085s 6s/step - loss: 1.2979 - accuracy: 0.5945 - val_loss: 4.4315 - val_accuracy: 0.2224\n",
            "Epoch 7/15\n",
            "S = 302.72116 , K1 = 0.32392213784329527 , K2 = 0.00019524388438154082 , K_ = 0.34039297699928284 , lr = 0.04313712508125787\n",
            "Epoch 6 LR = 0.04313712508125787\n",
            "196/195 [==============================] - 1095s 6s/step - loss: 1.2365 - accuracy: 0.6181 - val_loss: 3.4520 - val_accuracy: 0.2836\n",
            "Epoch 8/15\n",
            "S = 570.41223 , K1 = 0.331175304138712 , K2 = 0.0002020987184309774 , K_ = 0.39645380079746245 , lr = 0.042926639468496126\n",
            "Epoch 7 LR = 0.042926639468496126\n",
            "196/195 [==============================] - 1102s 6s/step - loss: 1.1845 - accuracy: 0.6394 - val_loss: 1.8294 - val_accuracy: 0.4819\n",
            "Epoch 9/15\n",
            "S = 279.74228 , K1 = 0.3278554663217532 , K2 = 0.00020535412773916865 , K_ = 0.29797692596912384 , lr = 0.043709145877682765\n",
            "Epoch 8 LR = 0.043709145877682765\n",
            "196/195 [==============================] - 1098s 6s/step - loss: 1.1315 - accuracy: 0.6587 - val_loss: 1.5780 - val_accuracy: 0.5461\n",
            "Epoch 10/15\n",
            "S = 201.18996 , K1 = 0.3231419326504887 , K2 = 0.0002076354048507282 , K_ = 0.28072012960910797 , lr = 0.04459235413114804\n",
            "Epoch 9 LR = 0.04459235413114804\n",
            "196/195 [==============================] - 1106s 6s/step - loss: 1.0980 - accuracy: 0.6755 - val_loss: 1.6342 - val_accuracy: 0.5298\n",
            "Epoch 11/15\n",
            "S = 228.76572 , K1 = 0.3198167513287801 , K2 = 0.00021025522657490146 , K_ = 0.28989011943340304 , lr = 0.045339339372796085\n",
            "Epoch 10 LR = 0.045339339372796085\n",
            "196/195 [==============================] - 1105s 6s/step - loss: 1.0696 - accuracy: 0.6834 - val_loss: 1.6390 - val_accuracy: 0.5460\n",
            "Epoch 12/15\n",
            "S = 402.8188 , K1 = 0.3224935242959921 , K2 = 0.00021502365813365196 , K_ = 0.3465844810009003 , lr = 0.04547001383701097\n",
            "Epoch 11 LR = 0.04547001383701097\n",
            "196/195 [==============================] - 1088s 6s/step - loss: 1.0248 - accuracy: 0.6992 - val_loss: 1.3048 - val_accuracy: 0.6152\n",
            "Epoch 13/15\n",
            "S = 378.679 , K1 = 0.32515142703912236 , K2 = 0.00021948896251403941 , K_ = 0.3490725517272949 , lr = 0.045564185349415226\n",
            "Epoch 12 LR = 0.045564185349415226\n",
            "196/195 [==============================] - 1081s 6s/step - loss: 1.0076 - accuracy: 0.7060 - val_loss: 1.2252 - val_accuracy: 0.6398\n",
            "Epoch 14/15\n",
            "S = 247.84189 , K1 = 0.3215830032068036 , K2 = 0.00022233270489958545 , K_ = 0.28946718871593474 , lr = 0.046367267369491934\n",
            "Epoch 13 LR = 0.046367267369491934\n",
            "196/195 [==============================] - 1086s 6s/step - loss: 0.9825 - accuracy: 0.7146 - val_loss: 1.4042 - val_accuracy: 0.5976\n",
            "Epoch 15/15\n",
            "S = 441.24042 , K1 = 0.32450303739644965 , K2 = 0.00022756393570419486 , K_ = 0.35078334510326387 , lr = 0.04648746140898227\n",
            "Epoch 14 LR = 0.04648746140898227\n",
            "196/195 [==============================] - 1091s 6s/step - loss: 0.9663 - accuracy: 0.7194 - val_loss: 1.9779 - val_accuracy: 0.4801\n"
          ],
          "name": "stdout"
        }
      ]
    },
    {
      "cell_type": "code",
      "metadata": {
        "id": "m-XffrlMx9-R",
        "colab_type": "code",
        "colab": {
          "base_uri": "https://localhost:8080/",
          "height": 547
        },
        "outputId": "b363d9c7-159c-481e-e6b0-6d66ac344678"
      },
      "source": [
        "%matplotlib inline\n",
        "import matplotlib.pyplot as plt\n",
        "acc = history.history['accuracy']\n",
        "val_acc = history.history['val_accuracy']\n",
        "loss = history.history['loss']\n",
        "val_loss = history.history['val_loss']\n",
        "\n",
        "epochs = range(len(acc))\n",
        "\n",
        "plt.plot(epochs, acc, 'r', label='Training accuracy')\n",
        "plt.plot(epochs, val_acc, 'b', label='Validation accuracy')\n",
        "plt.title('Training and validation accuracy')\n",
        "plt.legend()\n",
        "plt.figure()\n",
        "\n",
        "plt.plot(epochs, loss, 'r', label='Training Loss')\n",
        "plt.plot(epochs, val_loss, 'b', label='Validation Loss')\n",
        "plt.title('Training and validation loss')\n",
        "plt.legend()\n",
        "\n",
        "plt.show()"
      ],
      "execution_count": 18,
      "outputs": [
        {
          "output_type": "display_data",
          "data": {
            "image/png": "[encoded data removed]",
            "text/plain": [
              "<Figure size 432x288 with 1 Axes>"
            ]
          },
          "metadata": {
            "tags": [],
            "needs_background": "light"
          }
        },
        {
          "output_type": "display_data",
          "data": {
            "image/png": "[encoded data removed]",
            "text/plain": [
              "<Figure size 432x288 with 1 Axes>"
            ]
          },
          "metadata": {
            "tags": [],
            "needs_background": "light"
          }
        }
      ]
    },
    {
      "cell_type": "code",
      "metadata": {
        "id": "y1dWYDEC_Uhq",
        "colab_type": "code",
        "colab": {}
      },
      "source": [
        ""
      ],
      "execution_count": 18,
      "outputs": []
    }
  ]
}