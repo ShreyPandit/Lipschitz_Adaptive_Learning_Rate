{
  "nbformat": 4,
  "nbformat_minor": 0,
  "metadata": {
    "colab": {
      "name": "IRIS_RMSProp",
      "provenance": [],
      "authorship_tag": "ABX9TyMP+J+hlHEnwCmlULW2023c",
      "include_colab_link": true
    },
    "kernelspec": {
      "name": "python3",
      "display_name": "Python 3"
    }
  },
  "cells": [
    {
      "cell_type": "markdown",
      "metadata": {
        "id": "view-in-github",
        "colab_type": "text"
      },
      "source": [
        "<a href=\"https://colab.research.google.com/github/ShreyPandit/Lipschitz/blob/master/IRIS_RMSProp.ipynb\" target=\"_parent\"><img src=\"https://colab.research.google.com/assets/colab-badge.svg\" alt=\"Open In Colab\"/></a>"
      ]
    },
    {
      "cell_type": "code",
      "metadata": {
        "id": "iLM4OpTYtEf4",
        "colab_type": "code",
        "colab": {
          "base_uri": "https://localhost:8080/",
          "height": 836
        },
        "outputId": "acadebc5-7d20-4f21-f390-23d3d7d09d28"
      },
      "source": [
        "import pandas as pd\n",
        "import tensorflow as tf\n",
        "from tensorflow import keras\n",
        "from tensorflow.keras.callbacks import LearningRateScheduler\n",
        "import numpy as np\n",
        "!pip install tensorflow==1.14.0"
      ],
      "execution_count": 1,
      "outputs": [
        {
          "output_type": "stream",
          "text": [
            "/usr/local/lib/python3.6/dist-packages/tensorflow/python/framework/dtypes.py:516: FutureWarning: Passing (type, 1) or '1type' as a synonym of type is deprecated; in a future version of numpy, it will be understood as (type, (1,)) / '(1,)type'.\n",
            "  _np_qint8 = np.dtype([(\"qint8\", np.int8, 1)])\n",
            "/usr/local/lib/python3.6/dist-packages/tensorflow/python/framework/dtypes.py:517: FutureWarning: Passing (type, 1) or '1type' as a synonym of type is deprecated; in a future version of numpy, it will be understood as (type, (1,)) / '(1,)type'.\n",
            "  _np_quint8 = np.dtype([(\"quint8\", np.uint8, 1)])\n",
            "/usr/local/lib/python3.6/dist-packages/tensorflow/python/framework/dtypes.py:518: FutureWarning: Passing (type, 1) or '1type' as a synonym of type is deprecated; in a future version of numpy, it will be understood as (type, (1,)) / '(1,)type'.\n",
            "  _np_qint16 = np.dtype([(\"qint16\", np.int16, 1)])\n",
            "/usr/local/lib/python3.6/dist-packages/tensorflow/python/framework/dtypes.py:519: FutureWarning: Passing (type, 1) or '1type' as a synonym of type is deprecated; in a future version of numpy, it will be understood as (type, (1,)) / '(1,)type'.\n",
            "  _np_quint16 = np.dtype([(\"quint16\", np.uint16, 1)])\n",
            "/usr/local/lib/python3.6/dist-packages/tensorflow/python/framework/dtypes.py:520: FutureWarning: Passing (type, 1) or '1type' as a synonym of type is deprecated; in a future version of numpy, it will be understood as (type, (1,)) / '(1,)type'.\n",
            "  _np_qint32 = np.dtype([(\"qint32\", np.int32, 1)])\n",
            "/usr/local/lib/python3.6/dist-packages/tensorflow/python/framework/dtypes.py:525: FutureWarning: Passing (type, 1) or '1type' as a synonym of type is deprecated; in a future version of numpy, it will be understood as (type, (1,)) / '(1,)type'.\n",
            "  np_resource = np.dtype([(\"resource\", np.ubyte, 1)])\n",
            "/usr/local/lib/python3.6/dist-packages/tensorboard/compat/tensorflow_stub/dtypes.py:541: FutureWarning: Passing (type, 1) or '1type' as a synonym of type is deprecated; in a future version of numpy, it will be understood as (type, (1,)) / '(1,)type'.\n",
            "  _np_qint8 = np.dtype([(\"qint8\", np.int8, 1)])\n",
            "/usr/local/lib/python3.6/dist-packages/tensorboard/compat/tensorflow_stub/dtypes.py:542: FutureWarning: Passing (type, 1) or '1type' as a synonym of type is deprecated; in a future version of numpy, it will be understood as (type, (1,)) / '(1,)type'.\n",
            "  _np_quint8 = np.dtype([(\"quint8\", np.uint8, 1)])\n",
            "/usr/local/lib/python3.6/dist-packages/tensorboard/compat/tensorflow_stub/dtypes.py:543: FutureWarning: Passing (type, 1) or '1type' as a synonym of type is deprecated; in a future version of numpy, it will be understood as (type, (1,)) / '(1,)type'.\n",
            "  _np_qint16 = np.dtype([(\"qint16\", np.int16, 1)])\n",
            "/usr/local/lib/python3.6/dist-packages/tensorboard/compat/tensorflow_stub/dtypes.py:544: FutureWarning: Passing (type, 1) or '1type' as a synonym of type is deprecated; in a future version of numpy, it will be understood as (type, (1,)) / '(1,)type'.\n",
            "  _np_quint16 = np.dtype([(\"quint16\", np.uint16, 1)])\n",
            "/usr/local/lib/python3.6/dist-packages/tensorboard/compat/tensorflow_stub/dtypes.py:545: FutureWarning: Passing (type, 1) or '1type' as a synonym of type is deprecated; in a future version of numpy, it will be understood as (type, (1,)) / '(1,)type'.\n",
            "  _np_qint32 = np.dtype([(\"qint32\", np.int32, 1)])\n",
            "/usr/local/lib/python3.6/dist-packages/tensorboard/compat/tensorflow_stub/dtypes.py:550: FutureWarning: Passing (type, 1) or '1type' as a synonym of type is deprecated; in a future version of numpy, it will be understood as (type, (1,)) / '(1,)type'.\n",
            "  np_resource = np.dtype([(\"resource\", np.ubyte, 1)])\n"
          ],
          "name": "stderr"
        },
        {
          "output_type": "stream",
          "text": [
            "Requirement already satisfied: tensorflow==1.14.0 in /usr/local/lib/python3.6/dist-packages (1.14.0)\n",
            "Requirement already satisfied: grpcio>=1.8.6 in /usr/local/lib/python3.6/dist-packages (from tensorflow==1.14.0) (1.30.0)\n",
            "Requirement already satisfied: six>=1.10.0 in /usr/local/lib/python3.6/dist-packages (from tensorflow==1.14.0) (1.12.0)\n",
            "Requirement already satisfied: tensorflow-estimator<1.15.0rc0,>=1.14.0rc0 in /usr/local/lib/python3.6/dist-packages (from tensorflow==1.14.0) (1.14.0)\n",
            "Requirement already satisfied: termcolor>=1.1.0 in /usr/local/lib/python3.6/dist-packages (from tensorflow==1.14.0) (1.1.0)\n",
            "Requirement already satisfied: keras-preprocessing>=1.0.5 in /usr/local/lib/python3.6/dist-packages (from tensorflow==1.14.0) (1.1.2)\n",
            "Requirement already satisfied: keras-applications>=1.0.6 in /usr/local/lib/python3.6/dist-packages (from tensorflow==1.14.0) (1.0.8)\n",
            "Requirement already satisfied: protobuf>=3.6.1 in /usr/local/lib/python3.6/dist-packages (from tensorflow==1.14.0) (3.10.0)\n",
            "Requirement already satisfied: numpy<2.0,>=1.14.5 in /usr/local/lib/python3.6/dist-packages (from tensorflow==1.14.0) (1.18.5)\n",
            "Requirement already satisfied: astor>=0.6.0 in /usr/local/lib/python3.6/dist-packages (from tensorflow==1.14.0) (0.8.1)\n",
            "Requirement already satisfied: gast>=0.2.0 in /usr/local/lib/python3.6/dist-packages (from tensorflow==1.14.0) (0.3.3)\n",
            "Requirement already satisfied: wrapt>=1.11.1 in /usr/local/lib/python3.6/dist-packages (from tensorflow==1.14.0) (1.12.1)\n",
            "Requirement already satisfied: google-pasta>=0.1.6 in /usr/local/lib/python3.6/dist-packages (from tensorflow==1.14.0) (0.2.0)\n",
            "Requirement already satisfied: wheel>=0.26 in /usr/local/lib/python3.6/dist-packages (from tensorflow==1.14.0) (0.34.2)\n",
            "Requirement already satisfied: absl-py>=0.7.0 in /usr/local/lib/python3.6/dist-packages (from tensorflow==1.14.0) (0.9.0)\n",
            "Requirement already satisfied: tensorboard<1.15.0,>=1.14.0 in /usr/local/lib/python3.6/dist-packages (from tensorflow==1.14.0) (1.14.0)\n",
            "Requirement already satisfied: h5py in /usr/local/lib/python3.6/dist-packages (from keras-applications>=1.0.6->tensorflow==1.14.0) (2.10.0)\n",
            "Requirement already satisfied: setuptools in /usr/local/lib/python3.6/dist-packages (from protobuf>=3.6.1->tensorflow==1.14.0) (47.3.1)\n",
            "Requirement already satisfied: werkzeug>=0.11.15 in /usr/local/lib/python3.6/dist-packages (from tensorboard<1.15.0,>=1.14.0->tensorflow==1.14.0) (1.0.1)\n",
            "Requirement already satisfied: markdown>=2.6.8 in /usr/local/lib/python3.6/dist-packages (from tensorboard<1.15.0,>=1.14.0->tensorflow==1.14.0) (3.2.2)\n",
            "Requirement already satisfied: importlib-metadata; python_version < \"3.8\" in /usr/local/lib/python3.6/dist-packages (from markdown>=2.6.8->tensorboard<1.15.0,>=1.14.0->tensorflow==1.14.0) (1.6.1)\n",
            "Requirement already satisfied: zipp>=0.5 in /usr/local/lib/python3.6/dist-packages (from importlib-metadata; python_version < \"3.8\"->markdown>=2.6.8->tensorboard<1.15.0,>=1.14.0->tensorflow==1.14.0) (3.1.0)\n"
          ],
          "name": "stdout"
        }
      ]
    },
    {
      "cell_type": "code",
      "metadata": {
        "id": "vkLzFxVDvolV",
        "colab_type": "code",
        "colab": {}
      },
      "source": [
        "iris=pd.read_csv(\"Iris.csv\")"
      ],
      "execution_count": 2,
      "outputs": []
    },
    {
      "cell_type": "code",
      "metadata": {
        "id": "XLZFaqUbxPih",
        "colab_type": "code",
        "colab": {
          "base_uri": "https://localhost:8080/",
          "height": 424
        },
        "outputId": "c69a8350-c744-43dc-d15d-2a23d6cd8b25"
      },
      "source": [
        "from sklearn.utils import shuffle\n",
        "iris=shuffle(iris)\n",
        "iris.pop('Id')\n",
        "iris"
      ],
      "execution_count": 3,
      "outputs": [
        {
          "output_type": "execute_result",
          "data": {
            "text/html": [
              "<div>\n",
              "<style scoped>\n",
              "    .dataframe tbody tr th:only-of-type {\n",
              "        vertical-align: middle;\n",
              "    }\n",
              "\n",
              "    .dataframe tbody tr th {\n",
              "        vertical-align: top;\n",
              "    }\n",
              "\n",
              "    .dataframe thead th {\n",
              "        text-align: right;\n",
              "    }\n",
              "</style>\n",
              "<table border=\"1\" class=\"dataframe\">\n",
              "  <thead>\n",
              "    <tr style=\"text-align: right;\">\n",
              "      <th></th>\n",
              "      <th>SepalLengthCm</th>\n",
              "      <th>SepalWidthCm</th>\n",
              "      <th>PetalLengthCm</th>\n",
              "      <th>PetalWidthCm</th>\n",
              "      <th>Species</th>\n",
              "    </tr>\n",
              "  </thead>\n",
              "  <tbody>\n",
              "    <tr>\n",
              "      <th>88</th>\n",
              "      <td>5.6</td>\n",
              "      <td>3.0</td>\n",
              "      <td>4.1</td>\n",
              "      <td>1.3</td>\n",
              "      <td>Iris-versicolor</td>\n",
              "    </tr>\n",
              "    <tr>\n",
              "      <th>30</th>\n",
              "      <td>4.8</td>\n",
              "      <td>3.1</td>\n",
              "      <td>1.6</td>\n",
              "      <td>0.2</td>\n",
              "      <td>Iris-setosa</td>\n",
              "    </tr>\n",
              "    <tr>\n",
              "      <th>25</th>\n",
              "      <td>5.0</td>\n",
              "      <td>3.0</td>\n",
              "      <td>1.6</td>\n",
              "      <td>0.2</td>\n",
              "      <td>Iris-setosa</td>\n",
              "    </tr>\n",
              "    <tr>\n",
              "      <th>113</th>\n",
              "      <td>5.7</td>\n",
              "      <td>2.5</td>\n",
              "      <td>5.0</td>\n",
              "      <td>2.0</td>\n",
              "      <td>Iris-virginica</td>\n",
              "    </tr>\n",
              "    <tr>\n",
              "      <th>137</th>\n",
              "      <td>6.4</td>\n",
              "      <td>3.1</td>\n",
              "      <td>5.5</td>\n",
              "      <td>1.8</td>\n",
              "      <td>Iris-virginica</td>\n",
              "    </tr>\n",
              "    <tr>\n",
              "      <th>...</th>\n",
              "      <td>...</td>\n",
              "      <td>...</td>\n",
              "      <td>...</td>\n",
              "      <td>...</td>\n",
              "      <td>...</td>\n",
              "    </tr>\n",
              "    <tr>\n",
              "      <th>64</th>\n",
              "      <td>5.6</td>\n",
              "      <td>2.9</td>\n",
              "      <td>3.6</td>\n",
              "      <td>1.3</td>\n",
              "      <td>Iris-versicolor</td>\n",
              "    </tr>\n",
              "    <tr>\n",
              "      <th>77</th>\n",
              "      <td>6.7</td>\n",
              "      <td>3.0</td>\n",
              "      <td>5.0</td>\n",
              "      <td>1.7</td>\n",
              "      <td>Iris-versicolor</td>\n",
              "    </tr>\n",
              "    <tr>\n",
              "      <th>67</th>\n",
              "      <td>5.8</td>\n",
              "      <td>2.7</td>\n",
              "      <td>4.1</td>\n",
              "      <td>1.0</td>\n",
              "      <td>Iris-versicolor</td>\n",
              "    </tr>\n",
              "    <tr>\n",
              "      <th>115</th>\n",
              "      <td>6.4</td>\n",
              "      <td>3.2</td>\n",
              "      <td>5.3</td>\n",
              "      <td>2.3</td>\n",
              "      <td>Iris-virginica</td>\n",
              "    </tr>\n",
              "    <tr>\n",
              "      <th>74</th>\n",
              "      <td>6.4</td>\n",
              "      <td>2.9</td>\n",
              "      <td>4.3</td>\n",
              "      <td>1.3</td>\n",
              "      <td>Iris-versicolor</td>\n",
              "    </tr>\n",
              "  </tbody>\n",
              "</table>\n",
              "<p>150 rows × 5 columns</p>\n",
              "</div>"
            ],
            "text/plain": [
              "     SepalLengthCm  SepalWidthCm  PetalLengthCm  PetalWidthCm          Species\n",
              "88             5.6           3.0            4.1           1.3  Iris-versicolor\n",
              "30             4.8           3.1            1.6           0.2      Iris-setosa\n",
              "25             5.0           3.0            1.6           0.2      Iris-setosa\n",
              "113            5.7           2.5            5.0           2.0   Iris-virginica\n",
              "137            6.4           3.1            5.5           1.8   Iris-virginica\n",
              "..             ...           ...            ...           ...              ...\n",
              "64             5.6           2.9            3.6           1.3  Iris-versicolor\n",
              "77             6.7           3.0            5.0           1.7  Iris-versicolor\n",
              "67             5.8           2.7            4.1           1.0  Iris-versicolor\n",
              "115            6.4           3.2            5.3           2.3   Iris-virginica\n",
              "74             6.4           2.9            4.3           1.3  Iris-versicolor\n",
              "\n",
              "[150 rows x 5 columns]"
            ]
          },
          "metadata": {
            "tags": []
          },
          "execution_count": 3
        }
      ]
    },
    {
      "cell_type": "code",
      "metadata": {
        "id": "R7vhul2ixTzI",
        "colab_type": "code",
        "colab": {}
      },
      "source": [
        "one_hot = pd.get_dummies(iris['Species'])"
      ],
      "execution_count": 4,
      "outputs": []
    },
    {
      "cell_type": "code",
      "metadata": {
        "id": "dzNXRyFmxZSO",
        "colab_type": "code",
        "colab": {
          "base_uri": "https://localhost:8080/",
          "height": 225
        },
        "outputId": "cf375126-e5d9-442a-c131-df287916bcea"
      },
      "source": [
        "iris.pop('Species')"
      ],
      "execution_count": 5,
      "outputs": [
        {
          "output_type": "execute_result",
          "data": {
            "text/plain": [
              "88     Iris-versicolor\n",
              "30         Iris-setosa\n",
              "25         Iris-setosa\n",
              "113     Iris-virginica\n",
              "137     Iris-virginica\n",
              "            ...       \n",
              "64     Iris-versicolor\n",
              "77     Iris-versicolor\n",
              "67     Iris-versicolor\n",
              "115     Iris-virginica\n",
              "74     Iris-versicolor\n",
              "Name: Species, Length: 150, dtype: object"
            ]
          },
          "metadata": {
            "tags": []
          },
          "execution_count": 5
        }
      ]
    },
    {
      "cell_type": "code",
      "metadata": {
        "id": "mpLGHLoExb72",
        "colab_type": "code",
        "colab": {}
      },
      "source": [
        "train_x=iris.iloc[0:125,:]"
      ],
      "execution_count": 6,
      "outputs": []
    },
    {
      "cell_type": "code",
      "metadata": {
        "id": "VJMOSnv1xgP-",
        "colab_type": "code",
        "colab": {}
      },
      "source": [
        "test_x=iris.iloc[125:,:]"
      ],
      "execution_count": 7,
      "outputs": []
    },
    {
      "cell_type": "code",
      "metadata": {
        "id": "klJfWjX8xorg",
        "colab_type": "code",
        "colab": {}
      },
      "source": [
        "train_y=one_hot.iloc[0:125,:]"
      ],
      "execution_count": 8,
      "outputs": []
    },
    {
      "cell_type": "code",
      "metadata": {
        "id": "xCQAngJBxrS4",
        "colab_type": "code",
        "colab": {}
      },
      "source": [
        "test_y=one_hot.iloc[125:,:]"
      ],
      "execution_count": 9,
      "outputs": []
    },
    {
      "cell_type": "code",
      "metadata": {
        "id": "8PCKFuCAxuaM",
        "colab_type": "code",
        "colab": {
          "base_uri": "https://localhost:8080/",
          "height": 34
        },
        "outputId": "05810de2-85e2-4edd-8ec7-9e80a3f345a8"
      },
      "source": [
        "print(len(train_x),len(train_y),len(test_x),len(test_y))"
      ],
      "execution_count": 11,
      "outputs": [
        {
          "output_type": "stream",
          "text": [
            "125 125 25 25\n"
          ],
          "name": "stdout"
        }
      ]
    },
    {
      "cell_type": "code",
      "metadata": {
        "id": "z02EgNsSxyyQ",
        "colab_type": "code",
        "colab": {}
      },
      "source": [
        "model = tf.keras.Sequential()\n",
        "model.add(tf.keras.layers.Dense(10, input_dim = 4 , activation = 'relu'))\n",
        "model.add(tf.keras.layers.Dropout(0.3))\n",
        "model.add(tf.keras.layers.Dense(8, activation = 'relu'))\n",
        "model.add(tf.keras.layers.Dropout(0.3))\n",
        "model.add(tf.keras.layers.Dense(16, activation = 'relu'))\n",
        "model.add(tf.keras.layers.Dropout(0.3))\n",
        "model.add(tf.keras.layers.Dense(10, activation = 'relu'))\n",
        "model.add(tf.keras.layers.Dropout(0.3))\n",
        "model.add(tf.keras.layers.Dense(3, activation = 'softmax'))"
      ],
      "execution_count": 31,
      "outputs": []
    },
    {
      "cell_type": "code",
      "metadata": {
        "id": "seM8kUMAx98N",
        "colab_type": "code",
        "colab": {
          "base_uri": "https://localhost:8080/",
          "height": 69
        },
        "outputId": "7f05151d-046a-4a82-f099-71150c749150"
      },
      "source": [
        "from keras import backend as K\n",
        "func = K.function([model.layers[0].input], [model.layers[-2].output])"
      ],
      "execution_count": 13,
      "outputs": [
        {
          "output_type": "stream",
          "text": [
            "WARNING:tensorflow:From /usr/local/lib/python3.6/dist-packages/keras/backend/tensorflow_backend.py:422: The name tf.global_variables is deprecated. Please use tf.compat.v1.global_variables instead.\n",
            "\n"
          ],
          "name": "stdout"
        },
        {
          "output_type": "stream",
          "text": [
            "Using TensorFlow backend.\n"
          ],
          "name": "stderr"
        }
      ]
    },
    {
      "cell_type": "code",
      "metadata": {
        "id": "iPfhIMkVyUio",
        "colab_type": "code",
        "colab": {}
      },
      "source": [
        "lrs = []\n",
        "K2 = 0.\n",
        "beta2 = 0.9\n",
        "batch_size=16\n",
        "num_classes=3\n",
        "from tqdm import tqdm"
      ],
      "execution_count": 32,
      "outputs": []
    },
    {
      "cell_type": "code",
      "metadata": {
        "id": "mQMXjxLOyBs8",
        "colab_type": "code",
        "colab": {}
      },
      "source": [
        "def lr_schedule(epoch):\n",
        "    global K2\n",
        "\n",
        "    Kz = 0.  # max penultimate activation\n",
        "    S = 0.\n",
        "    \n",
        "    sess = K.get_session()\n",
        "    max_wt = 0.\n",
        "    for weight in model.weights:\n",
        "        norm = np.linalg.norm(weight.eval(sess))\n",
        "        if norm > max_wt:\n",
        "            max_wt = norm\n",
        "    \n",
        "    for i in tqdm(range((len(train_x) - 1) // batch_size + 1)):\n",
        "        start_i = i * batch_size\n",
        "        end_i = start_i + batch_size\n",
        "        xb = train_x[start_i:end_i]\n",
        "    \t\n",
        "        tmp = np.array(func([xb]))\n",
        "        activ = np.linalg.norm(tmp)\n",
        "        sq = np.linalg.norm(np.square(tmp))\n",
        "\n",
        "        if sq > S:\n",
        "            S = sq\n",
        "        \n",
        "        if activ > Kz:\n",
        "            Kz = activ\n",
        "\n",
        "    S_ = (num_classes - 1) ** 2 / (num_classes * batch_size) ** 2 * S + 2e-4 * max_wt * ((num_classes - 1) * Kz) / (num_classes * batch_size)\n",
        "    \n",
        "    K2 = beta2 * K2 + (1 - beta2) * S_\n",
        "\n",
        "    lr = (np.sqrt(K2) + K.epsilon()) / Kz\n",
        "    print('S =', S, 'max_wt =', max_wt, 'Kz =', Kz, 'K2 =', K2, 'S_ =', S_)\n",
        "    lrs.append(lr)\n",
        "    print('Epoch', epoch+1, 'LR =', lr)\n",
        "    return lr"
      ],
      "execution_count": 33,
      "outputs": []
    },
    {
      "cell_type": "code",
      "metadata": {
        "id": "2sF8hNBIyRGQ",
        "colab_type": "code",
        "colab": {}
      },
      "source": [
        "lr_scheduler = LearningRateScheduler(lr_schedule)"
      ],
      "execution_count": 34,
      "outputs": []
    },
    {
      "cell_type": "code",
      "metadata": {
        "id": "R0C1wyyHycQq",
        "colab_type": "code",
        "colab": {}
      },
      "source": [
        "from tensorflow.keras.optimizers import RMSprop\n",
        "optimizer = RMSprop(lr=1e-3, decay=1e-4)\n",
        "model.compile(loss='categorical_crossentropy', optimizer=optimizer, metrics=[\"accuracy\"])"
      ],
      "execution_count": 35,
      "outputs": []
    },
    {
      "cell_type": "code",
      "metadata": {
        "id": "U39pzv0yymMC",
        "colab_type": "code",
        "colab": {
          "base_uri": "https://localhost:8080/",
          "height": 1000
        },
        "outputId": "97a61183-2e64-4437-b58b-b0c1c0ae1c6e"
      },
      "source": [
        "history=model.fit(train_x,train_y,batch_size=16,epochs=50,validation_data=(test_x,test_y),callbacks=[lr_scheduler])"
      ],
      "execution_count": 36,
      "outputs": [
        {
          "output_type": "stream",
          "text": [
            "Train on 125 samples, validate on 25 samples\n"
          ],
          "name": "stdout"
        },
        {
          "output_type": "stream",
          "text": [
            "100%|██████████| 8/8 [00:00<00:00, 801.64it/s]\n"
          ],
          "name": "stderr"
        },
        {
          "output_type": "stream",
          "text": [
            "S = 607.65857 max_wt = 3.5607178 Kz = 57.85122 K2 = 0.10566793928784857 S_ = 1.056679392878486\n",
            "Epoch 1 LR = 0.0056190026477133245\n",
            "Epoch 1/50\n",
            "125/125 [==============================] - 0s 2ms/sample - loss: 1.1205 - acc: 0.3360 - val_loss: 0.9666 - val_acc: 0.4000\n"
          ],
          "name": "stdout"
        },
        {
          "output_type": "stream",
          "text": [
            "100%|██████████| 8/8 [00:00<00:00, 884.64it/s]"
          ],
          "name": "stderr"
        },
        {
          "output_type": "stream",
          "text": [
            "S = 607.65857 max_wt = 3.5353575 Kz = 57.85122 K2 = 0.20076786204114092 S_ = 1.0566671668207723\n",
            "Epoch 2 LR = 0.007745236406476711\n",
            "Epoch 2/50\n",
            "125/125 [==============================] - 0s 166us/sample - loss: 1.0506 - acc: 0.3600 - val_loss: 0.9983 - val_acc: 0.9200\n"
          ],
          "name": "stdout"
        },
        {
          "output_type": "stream",
          "text": [
            "\n",
            "100%|██████████| 8/8 [00:00<00:00, 712.20it/s]"
          ],
          "name": "stderr"
        },
        {
          "output_type": "stream",
          "text": [
            "S = 607.65857 max_wt = 3.5391953 Kz = 57.85122 K2 = 0.28635797753809544 S_ = 1.0566690170106867\n",
            "Epoch 3 LR = 0.009250010133791547\n",
            "Epoch 3/50\n",
            "125/125 [==============================] - 0s 152us/sample - loss: 0.9808 - acc: 0.4800 - val_loss: 0.8570 - val_acc: 0.6400\n"
          ],
          "name": "stdout"
        },
        {
          "output_type": "stream",
          "text": [
            "\n",
            "100%|██████████| 8/8 [00:00<00:00, 870.62it/s]"
          ],
          "name": "stderr"
        },
        {
          "output_type": "stream",
          "text": [
            "S = 607.65857 max_wt = 3.5955 Kz = 57.85122 K2 = 0.36339179589797815 S_ = 1.0566961611369226\n",
            "Epoch 4 LR = 0.010420177461512045\n",
            "Epoch 4/50\n",
            "125/125 [==============================] - 0s 152us/sample - loss: 0.9296 - acc: 0.5600 - val_loss: 0.7972 - val_acc: 0.9200\n"
          ],
          "name": "stdout"
        },
        {
          "output_type": "stream",
          "text": [
            "\n",
            "100%|██████████| 8/8 [00:00<00:00, 1006.64it/s]"
          ],
          "name": "stderr"
        },
        {
          "output_type": "stream",
          "text": [
            "S = 607.65857 max_wt = 3.6417956 Kz = 57.85122 K2 = 0.4327244643046906 S_ = 1.0567184799651028\n",
            "Epoch 5 LR = 0.011370859009848102\n",
            "Epoch 5/50\n",
            "125/125 [==============================] - 0s 158us/sample - loss: 0.8478 - acc: 0.5280 - val_loss: 0.6828 - val_acc: 0.9200\n"
          ],
          "name": "stdout"
        },
        {
          "output_type": "stream",
          "text": [
            "\n",
            "100%|██████████| 8/8 [00:00<00:00, 818.40it/s]"
          ],
          "name": "stderr"
        },
        {
          "output_type": "stream",
          "text": [
            "S = 607.65857 max_wt = 3.7150288 Kz = 57.85122 K2 = 0.4951273963921613 S_ = 1.0567537851793984\n",
            "Epoch 6 LR = 0.012163148933243466\n",
            "Epoch 6/50\n",
            "125/125 [==============================] - 0s 152us/sample - loss: 0.8463 - acc: 0.5360 - val_loss: 0.7252 - val_acc: 0.6000\n"
          ],
          "name": "stdout"
        },
        {
          "output_type": "stream",
          "text": [
            "\n",
            "100%|██████████| 8/8 [00:00<00:00, 967.32it/s]\n"
          ],
          "name": "stderr"
        },
        {
          "output_type": "stream",
          "text": [
            "S = 607.65857 max_wt = 3.7201576 Kz = 57.85122 K2 = 0.5512902825299112 S_ = 1.05675625776966\n",
            "Epoch 7 LR = 0.012834463265885094\n",
            "Epoch 7/50\n",
            "125/125 [==============================] - 0s 160us/sample - loss: 0.7919 - acc: 0.6240 - val_loss: 0.5985 - val_acc: 0.6000\n"
          ],
          "name": "stdout"
        },
        {
          "output_type": "stream",
          "text": [
            "100%|██████████| 8/8 [00:00<00:00, 879.72it/s]\n"
          ],
          "name": "stderr"
        },
        {
          "output_type": "stream",
          "text": [
            "S = 607.65857 max_wt = 3.8301055 Kz = 57.85122 K2 = 0.6018421805715604 S_ = 1.0568092629464023\n",
            "Epoch 8 LR = 0.013410002267504625\n",
            "Epoch 8/50\n",
            "125/125 [==============================] - 0s 157us/sample - loss: 0.6612 - acc: 0.6320 - val_loss: 0.5124 - val_acc: 0.9200\n"
          ],
          "name": "stdout"
        },
        {
          "output_type": "stream",
          "text": [
            "100%|██████████| 8/8 [00:00<00:00, 946.26it/s]\n"
          ],
          "name": "stderr"
        },
        {
          "output_type": "stream",
          "text": [
            "S = 607.65857 max_wt = 3.9860222 Kz = 57.85122 K2 = 0.6473464054512565 S_ = 1.0568844293685222\n",
            "Epoch 9 LR = 0.01390771903764328\n",
            "Epoch 9/50\n",
            "125/125 [==============================] - 0s 153us/sample - loss: 0.6429 - acc: 0.6320 - val_loss: 0.5311 - val_acc: 0.6000\n"
          ],
          "name": "stdout"
        },
        {
          "output_type": "stream",
          "text": [
            "100%|██████████| 8/8 [00:00<00:00, 985.85it/s]\n"
          ],
          "name": "stderr"
        },
        {
          "output_type": "stream",
          "text": [
            "S = 607.65857 max_wt = 4.1224484 Kz = 57.85122 K2 = 0.6883067848618161 S_ = 1.056950199556852\n",
            "Epoch 10 LR = 0.014340971138001622\n",
            "Epoch 10/50\n",
            "125/125 [==============================] - 0s 188us/sample - loss: 0.6133 - acc: 0.6480 - val_loss: 0.4859 - val_acc: 0.6400\n"
          ],
          "name": "stdout"
        },
        {
          "output_type": "stream",
          "text": [
            "100%|██████████| 8/8 [00:00<00:00, 586.48it/s]"
          ],
          "name": "stderr"
        },
        {
          "output_type": "stream",
          "text": [
            "S = 607.65857 max_wt = 4.175631 Kz = 57.85122 K2 = 0.7251736902299535 S_ = 1.0569758385431902\n",
            "Epoch 11 LR = 0.014720025242582622\n",
            "Epoch 11/50\n",
            "125/125 [==============================] - 0s 144us/sample - loss: 0.5806 - acc: 0.6800 - val_loss: 0.5110 - val_acc: 0.6000\n"
          ],
          "name": "stdout"
        },
        {
          "output_type": "stream",
          "text": [
            "\n",
            "100%|██████████| 8/8 [00:00<00:00, 946.42it/s]"
          ],
          "name": "stderr"
        },
        {
          "output_type": "stream",
          "text": [
            "S = 607.65857 max_wt = 4.256358 Kz = 57.85122 K2 = 0.7583577968622581 S_ = 1.0570147565530001\n",
            "Epoch 12 LR = 0.015053053741165464\n",
            "Epoch 12/50\n",
            "\r 16/125 [==>...........................] - ETA: 0s - loss: 0.5684 - acc: 0.8125"
          ],
          "name": "stdout"
        },
        {
          "output_type": "stream",
          "text": [
            "\n"
          ],
          "name": "stderr"
        },
        {
          "output_type": "stream",
          "text": [
            "\b\b\b\b\b\b\b\b\b\b\b\b\b\b\b\b\b\b\b\b\b\b\b\b\b\b\b\b\b\b\b\b\b\b\b\b\b\b\b\b\b\b\b\b\b\b\b\b\b\b\b\b\b\b\b\b\b\b\b\b\b\b\b\b\b\b\b\b\b\b\b\b\b\b\b\b\b\b\b\r125/125 [==============================] - 0s 160us/sample - loss: 0.6211 - acc: 0.6880 - val_loss: 0.5295 - val_acc: 0.6000\n"
          ],
          "name": "stdout"
        },
        {
          "output_type": "stream",
          "text": [
            "100%|██████████| 8/8 [00:00<00:00, 998.73it/s]"
          ],
          "name": "stderr"
        },
        {
          "output_type": "stream",
          "text": [
            "S = 607.65857 max_wt = 4.2959914 Kz = 57.85122 K2 = 0.7882254035256868 S_ = 1.0570338634965453\n",
            "Epoch 13 LR = 0.015346620254444714\n",
            "Epoch 13/50\n",
            "125/125 [==============================] - 0s 135us/sample - loss: 0.5575 - acc: 0.6800 - val_loss: 0.5295 - val_acc: 0.6000\n"
          ],
          "name": "stdout"
        },
        {
          "output_type": "stream",
          "text": [
            "\n",
            "100%|██████████| 8/8 [00:00<00:00, 752.58it/s]"
          ],
          "name": "stderr"
        },
        {
          "output_type": "stream",
          "text": [
            "S = 607.65857 max_wt = 4.3191867 Kz = 57.85122 K2 = 0.8151073677514886 S_ = 1.0570450457837044\n",
            "Epoch 14 LR = 0.015606119985762236\n",
            "Epoch 14/50\n",
            "125/125 [==============================] - 0s 160us/sample - loss: 0.6545 - acc: 0.6800 - val_loss: 0.4779 - val_acc: 0.9600\n"
          ],
          "name": "stdout"
        },
        {
          "output_type": "stream",
          "text": [
            "\n",
            "100%|██████████| 8/8 [00:00<00:00, 903.51it/s]"
          ],
          "name": "stderr"
        },
        {
          "output_type": "stream",
          "text": [
            "S = 607.65857 max_wt = 4.4154077 Kz = 57.85122 K2 = 0.8393057743050717 S_ = 1.0570914332873196\n",
            "Epoch 15 LR = 0.015836078177267704\n",
            "Epoch 15/50\n",
            "125/125 [==============================] - 0s 140us/sample - loss: 0.5631 - acc: 0.7040 - val_loss: 0.4856 - val_acc: 0.8400\n"
          ],
          "name": "stdout"
        },
        {
          "output_type": "stream",
          "text": [
            "\n",
            "100%|██████████| 8/8 [00:00<00:00, 949.50it/s]"
          ],
          "name": "stderr"
        },
        {
          "output_type": "stream",
          "text": [
            "S = 607.65857 max_wt = 4.497248 Kz = 57.85122 K2 = 0.8610882856812788 S_ = 1.0571308880671426\n",
            "Epoch 16 LR = 0.01604025881475558\n",
            "Epoch 16/50\n",
            "125/125 [==============================] - 0s 158us/sample - loss: 0.5921 - acc: 0.6960 - val_loss: 0.4252 - val_acc: 0.8400\n"
          ],
          "name": "stdout"
        },
        {
          "output_type": "stream",
          "text": [
            "\n",
            "100%|██████████| 8/8 [00:00<00:00, 947.87it/s]\n"
          ],
          "name": "stderr"
        },
        {
          "output_type": "stream",
          "text": [
            "S = 607.65857 max_wt = 4.5772996 Kz = 57.85122 K2 = 0.8806964051468372 S_ = 1.057169480336863\n",
            "Epoch 17 LR = 0.016221859748067852\n",
            "Epoch 17/50\n",
            "125/125 [==============================] - 0s 140us/sample - loss: 0.5942 - acc: 0.7040 - val_loss: 0.4159 - val_acc: 0.6800\n"
          ],
          "name": "stdout"
        },
        {
          "output_type": "stream",
          "text": [
            "100%|██████████| 8/8 [00:00<00:00, 907.05it/s]"
          ],
          "name": "stderr"
        },
        {
          "output_type": "stream",
          "text": [
            "S = 607.65857 max_wt = 4.688574 Kz = 57.85122 K2 = 0.8983490771246614 S_ = 1.0572231249250792\n",
            "Epoch 18 LR = 0.01638362854550893\n",
            "Epoch 18/50\n",
            "125/125 [==============================] - 0s 146us/sample - loss: 0.6288 - acc: 0.6320 - val_loss: 0.4654 - val_acc: 0.9200\n"
          ],
          "name": "stdout"
        },
        {
          "output_type": "stream",
          "text": [
            "\n",
            "100%|██████████| 8/8 [00:00<00:00, 910.42it/s]"
          ],
          "name": "stderr"
        },
        {
          "output_type": "stream",
          "text": [
            "S = 607.65857 max_wt = 4.7071977 Kz = 57.85122 K2 = 0.9142373797473755 S_ = 1.0572321033518035\n",
            "Epoch 19 LR = 0.016527874883135674\n",
            "Epoch 19/50\n",
            "125/125 [==============================] - 0s 138us/sample - loss: 0.5594 - acc: 0.6960 - val_loss: 0.5517 - val_acc: 0.7200\n"
          ],
          "name": "stdout"
        },
        {
          "output_type": "stream",
          "text": [
            "\n",
            "100%|██████████| 8/8 [00:00<00:00, 946.77it/s]"
          ],
          "name": "stderr"
        },
        {
          "output_type": "stream",
          "text": [
            "S = 607.65857 max_wt = 4.775308 Kz = 57.85122 K2 = 0.9285401356690658 S_ = 1.0572649389642788\n",
            "Epoch 20 LR = 0.016656658029635625\n",
            "Epoch 20/50\n",
            "125/125 [==============================] - 0s 152us/sample - loss: 0.4899 - acc: 0.7680 - val_loss: 0.3641 - val_acc: 0.8800\n"
          ],
          "name": "stdout"
        },
        {
          "output_type": "stream",
          "text": [
            "\n",
            "100%|██████████| 8/8 [00:00<00:00, 1129.66it/s]\n"
          ],
          "name": "stderr"
        },
        {
          "output_type": "stream",
          "text": [
            "S = 607.65857 max_wt = 4.9388733 Kz = 57.85122 K2 = 0.9414205013684654 S_ = 1.0573437926630624\n",
            "Epoch 21 LR = 0.016771787636946235\n",
            "Epoch 21/50\n",
            "125/125 [==============================] - 0s 157us/sample - loss: 1.1777 - acc: 0.6400 - val_loss: 0.3639 - val_acc: 0.8800\n"
          ],
          "name": "stdout"
        },
        {
          "output_type": "stream",
          "text": [
            "100%|██████████| 8/8 [00:00<00:00, 756.02it/s]"
          ],
          "name": "stderr"
        },
        {
          "output_type": "stream",
          "text": [
            "S = 607.65857 max_wt = 4.838533 Kz = 57.85122 K2 = 0.9530079931541529 S_ = 1.057295419225339\n",
            "Epoch 22 LR = 0.016874689881508694\n",
            "Epoch 22/50\n",
            "125/125 [==============================] - 0s 157us/sample - loss: 0.6547 - acc: 0.6880 - val_loss: 0.4893 - val_acc: 0.7600\n"
          ],
          "name": "stdout"
        },
        {
          "output_type": "stream",
          "text": [
            "\n",
            "100%|██████████| 8/8 [00:00<00:00, 934.59it/s]"
          ],
          "name": "stderr"
        },
        {
          "output_type": "stream",
          "text": [
            "S = 607.65857 max_wt = 4.75883 Kz = 57.85122 K2 = 0.9634328933385341 S_ = 1.057256994997965\n",
            "Epoch 23 LR = 0.01696673447504052\n",
            "Epoch 23/50\n",
            "125/125 [==============================] - 0s 148us/sample - loss: 0.4954 - acc: 0.7440 - val_loss: 0.5229 - val_acc: 0.6400\n"
          ],
          "name": "stdout"
        },
        {
          "output_type": "stream",
          "text": [
            "\n",
            "100%|██████████| 8/8 [00:00<00:00, 989.51it/s]"
          ],
          "name": "stderr"
        },
        {
          "output_type": "stream",
          "text": [
            "S = 607.65857 max_wt = 4.8026295 Kz = 57.85122 K2 = 0.9728174150450675 S_ = 1.0572781104038675\n",
            "Epoch 24 LR = 0.017049168243635043\n",
            "Epoch 24/50\n",
            "125/125 [==============================] - 0s 146us/sample - loss: 0.5383 - acc: 0.7520 - val_loss: 0.5518 - val_acc: 0.6000\n"
          ],
          "name": "stdout"
        },
        {
          "output_type": "stream",
          "text": [
            "\n",
            "100%|██████████| 8/8 [00:00<00:00, 807.98it/s]"
          ],
          "name": "stderr"
        },
        {
          "output_type": "stream",
          "text": [
            "S = 607.65857 max_wt = 4.8250794 Kz = 57.85122 K2 = 0.9812645668794051 S_ = 1.057288933388444\n",
            "Epoch 25 LR = 0.017123028772187018\n",
            "Epoch 25/50\n",
            "125/125 [==============================] - 0s 180us/sample - loss: 0.4450 - acc: 0.8240 - val_loss: 0.3353 - val_acc: 0.9600\n"
          ],
          "name": "stdout"
        },
        {
          "output_type": "stream",
          "text": [
            "\n",
            "100%|██████████| 8/8 [00:00<00:00, 899.41it/s]"
          ],
          "name": "stderr"
        },
        {
          "output_type": "stream",
          "text": [
            "S = 607.65857 max_wt = 4.996826 Kz = 57.85122 K2 = 0.988875283328448 S_ = 1.0573717313698336\n",
            "Epoch 26 LR = 0.017189303859788223\n",
            "Epoch 26/50\n",
            "125/125 [==============================] - 0s 166us/sample - loss: 0.4646 - acc: 0.8240 - val_loss: 0.5199 - val_acc: 0.7200\n"
          ],
          "name": "stdout"
        },
        {
          "output_type": "stream",
          "text": [
            "\n",
            "100%|██████████| 8/8 [00:00<00:00, 910.27it/s]"
          ],
          "name": "stderr"
        },
        {
          "output_type": "stream",
          "text": [
            "S = 607.65857 max_wt = 5.0238786 Kz = 57.85122 K2 = 0.9957262323113083 S_ = 1.057384773157051\n",
            "Epoch 27 LR = 0.01724874501037275\n",
            "Epoch 27/50\n",
            "125/125 [==============================] - 0s 151us/sample - loss: 0.5558 - acc: 0.7280 - val_loss: 0.6238 - val_acc: 0.6000\n"
          ],
          "name": "stdout"
        },
        {
          "output_type": "stream",
          "text": [
            "\n",
            "100%|██████████| 8/8 [00:00<00:00, 958.73it/s]"
          ],
          "name": "stderr"
        },
        {
          "output_type": "stream",
          "text": [
            "S = 607.65857 max_wt = 5.099352 Kz = 57.85122 K2 = 1.001895724914979 S_ = 1.0574211583480153\n",
            "Epoch 28 LR = 0.017302098864925168\n",
            "Epoch 28/50\n",
            "125/125 [==============================] - 0s 152us/sample - loss: 0.4457 - acc: 0.8240 - val_loss: 0.2829 - val_acc: 1.0000\n"
          ],
          "name": "stdout"
        },
        {
          "output_type": "stream",
          "text": [
            "\n",
            "100%|██████████| 8/8 [00:00<00:00, 951.20it/s]"
          ],
          "name": "stderr"
        },
        {
          "output_type": "stream",
          "text": [
            "S = 607.65857 max_wt = 5.218618 Kz = 57.85122 K2 = 1.007454017996137 S_ = 1.057478655726561\n",
            "Epoch 29 LR = 0.017350026563658572\n",
            "Epoch 29/50\n",
            "125/125 [==============================] - 0s 145us/sample - loss: 0.5174 - acc: 0.7840 - val_loss: 0.7206 - val_acc: 0.6000\n"
          ],
          "name": "stdout"
        },
        {
          "output_type": "stream",
          "text": [
            "\n",
            "100%|██████████| 8/8 [00:00<00:00, 907.37it/s]"
          ],
          "name": "stderr"
        },
        {
          "output_type": "stream",
          "text": [
            "S = 607.65857 max_wt = 5.212309 Kz = 57.85122 K2 = 1.0124561776148306 S_ = 1.0574756141830735\n",
            "Epoch 30 LR = 0.01739304596223238\n",
            "Epoch 30/50\n",
            "125/125 [==============================] - 0s 152us/sample - loss: 0.5301 - acc: 0.7920 - val_loss: 0.2814 - val_acc: 0.9600\n"
          ],
          "name": "stdout"
        },
        {
          "output_type": "stream",
          "text": [
            "\n",
            "100%|██████████| 8/8 [00:00<00:00, 905.73it/s]"
          ],
          "name": "stderr"
        },
        {
          "output_type": "stream",
          "text": [
            "S = 607.65857 max_wt = 5.3764896 Kz = 57.85122 K2 = 1.0169660363190531 S_ = 1.0575547646570551\n",
            "Epoch 31 LR = 0.017431740484127902\n",
            "Epoch 31/50\n",
            "125/125 [==============================] - 0s 145us/sample - loss: 0.5879 - acc: 0.7360 - val_loss: 0.2844 - val_acc: 0.9600\n"
          ],
          "name": "stdout"
        },
        {
          "output_type": "stream",
          "text": [
            "\n",
            "100%|██████████| 8/8 [00:00<00:00, 973.35it/s]\n"
          ],
          "name": "stderr"
        },
        {
          "output_type": "stream",
          "text": [
            "S = 607.65857 max_wt = 5.3707504 Kz = 57.85122 K2 = 1.0210246324691754 S_ = 1.0575519978202765\n",
            "Epoch 32 LR = 0.017466489894915917\n",
            "Epoch 32/50\n",
            "125/125 [==============================] - 0s 158us/sample - loss: 0.4854 - acc: 0.8080 - val_loss: 0.2403 - val_acc: 0.9600\n"
          ],
          "name": "stdout"
        },
        {
          "output_type": "stream",
          "text": [
            "100%|██████████| 8/8 [00:00<00:00, 995.62it/s]"
          ],
          "name": "stderr"
        },
        {
          "output_type": "stream",
          "text": [
            "S = 607.65857 max_wt = 5.4982285 Kz = 57.85122 K2 = 1.0246835146416333 S_ = 1.0576134541937539\n",
            "Epoch 33 LR = 0.01749775783324047\n",
            "Epoch 33/50\n",
            "\r 16/125 [==>...........................] - ETA: 0s - loss: 0.4392 - acc: 0.8125"
          ],
          "name": "stdout"
        },
        {
          "output_type": "stream",
          "text": [
            "\n"
          ],
          "name": "stderr"
        },
        {
          "output_type": "stream",
          "text": [
            "\b\b\b\b\b\b\b\b\b\b\b\b\b\b\b\b\b\b\b\b\b\b\b\b\b\b\b\b\b\b\b\b\b\b\b\b\b\b\b\b\b\b\b\b\b\b\b\b\b\b\b\b\b\b\b\b\b\b\b\b\b\b\b\b\b\b\b\b\b\b\b\b\b\b\b\b\b\b\b\r125/125 [==============================] - 0s 157us/sample - loss: 0.4497 - acc: 0.8160 - val_loss: 0.3606 - val_acc: 0.9200\n"
          ],
          "name": "stdout"
        },
        {
          "output_type": "stream",
          "text": [
            "100%|██████████| 8/8 [00:00<00:00, 1028.36it/s]"
          ],
          "name": "stderr"
        },
        {
          "output_type": "stream",
          "text": [
            "S = 607.65857 max_wt = 5.5159235 Kz = 57.85122 K2 = 1.027977361658876 S_ = 1.0576219848140604\n",
            "Epoch 34 LR = 0.01752585855328056\n",
            "Epoch 34/50\n",
            "\r 16/125 [==>...........................] - ETA: 0s - loss: 0.6674 - acc: 0.7500"
          ],
          "name": "stdout"
        },
        {
          "output_type": "stream",
          "text": [
            "\n"
          ],
          "name": "stderr"
        },
        {
          "output_type": "stream",
          "text": [
            "\b\b\b\b\b\b\b\b\b\b\b\b\b\b\b\b\b\b\b\b\b\b\b\b\b\b\b\b\b\b\b\b\b\b\b\b\b\b\b\b\b\b\b\b\b\b\b\b\b\b\b\b\b\b\b\b\b\b\b\b\b\b\b\b\b\b\b\b\b\b\b\b\b\b\b\b\b\b\b\r125/125 [==============================] - 0s 154us/sample - loss: 0.4882 - acc: 0.8080 - val_loss: 0.4562 - val_acc: 0.7600\n"
          ],
          "name": "stdout"
        },
        {
          "output_type": "stream",
          "text": [
            "100%|██████████| 8/8 [00:00<00:00, 1021.60it/s]"
          ],
          "name": "stderr"
        },
        {
          "output_type": "stream",
          "text": [
            "S = 607.65857 max_wt = 5.5281196 Kz = 57.85122 K2 = 1.0309424119387038 S_ = 1.0576278644571546\n",
            "Epoch 35 LR = 0.0175511157384915\n",
            "Epoch 35/50\n",
            "\r 16/125 [==>...........................] - ETA: 0s - loss: 0.5103 - acc: 0.8125"
          ],
          "name": "stdout"
        },
        {
          "output_type": "stream",
          "text": [
            "\n"
          ],
          "name": "stderr"
        },
        {
          "output_type": "stream",
          "text": [
            "\b\b\b\b\b\b\b\b\b\b\b\b\b\b\b\b\b\b\b\b\b\b\b\b\b\b\b\b\b\b\b\b\b\b\b\b\b\b\b\b\b\b\b\b\b\b\b\b\b\b\b\b\b\b\b\b\b\b\b\b\b\b\b\b\b\b\b\b\b\b\b\b\b\b\b\b\b\b\b\r125/125 [==============================] - 0s 165us/sample - loss: 0.4500 - acc: 0.8160 - val_loss: 0.4588 - val_acc: 0.7600\n"
          ],
          "name": "stdout"
        },
        {
          "output_type": "stream",
          "text": [
            "100%|██████████| 8/8 [00:00<00:00, 706.54it/s]\n"
          ],
          "name": "stderr"
        },
        {
          "output_type": "stream",
          "text": [
            "S = 607.65857 max_wt = 5.5713243 Kz = 57.85122 K2 = 1.0336130400650918 S_ = 1.0576486932025833\n",
            "Epoch 36 LR = 0.017573833875777496\n",
            "Epoch 36/50\n",
            "125/125 [==============================] - 0s 178us/sample - loss: 0.5895 - acc: 0.7680 - val_loss: 0.2529 - val_acc: 1.0000\n"
          ],
          "name": "stdout"
        },
        {
          "output_type": "stream",
          "text": [
            "100%|██████████| 8/8 [00:00<00:00, 963.40it/s]\n"
          ],
          "name": "stderr"
        },
        {
          "output_type": "stream",
          "text": [
            "S = 607.65857 max_wt = 5.6480837 Kz = 57.85122 K2 = 1.036020305896598 S_ = 1.0576856983801537\n",
            "Epoch 37 LR = 0.01759428654076608\n",
            "Epoch 37/50\n",
            "125/125 [==============================] - 0s 228us/sample - loss: 0.3437 - acc: 0.8800 - val_loss: 0.5230 - val_acc: 0.7600\n"
          ],
          "name": "stdout"
        },
        {
          "output_type": "stream",
          "text": [
            "100%|██████████| 8/8 [00:00<00:00, 955.18it/s]"
          ],
          "name": "stderr"
        },
        {
          "output_type": "stream",
          "text": [
            "S = 607.65857 max_wt = 5.7211156 Kz = 57.85122 K2 = 1.0381903659654432 S_ = 1.0577209065850508\n",
            "Epoch 38 LR = 0.017612703497555227\n",
            "Epoch 38/50\n",
            "\r 16/125 [==>...........................] - ETA: 0s - loss: 0.5870 - acc: 0.7500"
          ],
          "name": "stdout"
        },
        {
          "output_type": "stream",
          "text": [
            "\n"
          ],
          "name": "stderr"
        },
        {
          "output_type": "stream",
          "text": [
            "\b\b\b\b\b\b\b\b\b\b\b\b\b\b\b\b\b\b\b\b\b\b\b\b\b\b\b\b\b\b\b\b\b\b\b\b\b\b\b\b\b\b\b\b\b\b\b\b\b\b\b\b\b\b\b\b\b\b\b\b\b\b\b\b\b\b\b\b\b\b\b\b\b\b\b\b\b\b\b\r125/125 [==============================] - 0s 158us/sample - loss: 0.6432 - acc: 0.7040 - val_loss: 0.4171 - val_acc: 0.8800\n"
          ],
          "name": "stdout"
        },
        {
          "output_type": "stream",
          "text": [
            "100%|██████████| 8/8 [00:00<00:00, 959.36it/s]"
          ],
          "name": "stderr"
        },
        {
          "output_type": "stream",
          "text": [
            "S = 607.65857 max_wt = 5.7136335 Kz = 57.85122 K2 = 1.0401430593225527 S_ = 1.057717299536539\n",
            "Epoch 39 LR = 0.017629259251831984\n",
            "Epoch 39/50\n",
            "\r 16/125 [==>...........................] - ETA: 0s - loss: 0.7323 - acc: 0.7500"
          ],
          "name": "stdout"
        },
        {
          "output_type": "stream",
          "text": [
            "\n"
          ],
          "name": "stderr"
        },
        {
          "output_type": "stream",
          "text": [
            "\b\b\b\b\b\b\b\b\b\b\b\b\b\b\b\b\b\b\b\b\b\b\b\b\b\b\b\b\b\b\b\b\b\b\b\b\b\b\b\b\b\b\b\b\b\b\b\b\b\b\b\b\b\b\b\b\b\b\b\b\b\b\b\b\b\b\b\b\b\b\b\b\b\b\b\b\b\b\b\r125/125 [==============================] - 0s 171us/sample - loss: 0.5098 - acc: 0.8000 - val_loss: 0.2499 - val_acc: 0.9600\n"
          ],
          "name": "stdout"
        },
        {
          "output_type": "stream",
          "text": [
            "100%|██████████| 8/8 [00:00<00:00, 1033.30it/s]"
          ],
          "name": "stderr"
        },
        {
          "output_type": "stream",
          "text": [
            "S = 607.65857 max_wt = 5.779414 Kz = 57.85122 K2 = 1.0419036545857863 S_ = 1.0577490119548882\n",
            "Epoch 40 LR = 0.017644173000486502\n",
            "Epoch 40/50\n",
            "\r 16/125 [==>...........................] - ETA: 0s - loss: 0.4527 - acc: 0.6875"
          ],
          "name": "stdout"
        },
        {
          "output_type": "stream",
          "text": [
            "\n"
          ],
          "name": "stderr"
        },
        {
          "output_type": "stream",
          "text": [
            "\b\b\b\b\b\b\b\b\b\b\b\b\b\b\b\b\b\b\b\b\b\b\b\b\b\b\b\b\b\b\b\b\b\b\b\b\b\b\b\b\b\b\b\b\b\b\b\b\b\b\b\b\b\b\b\b\b\b\b\b\b\b\b\b\b\b\b\b\b\b\b\b\b\b\b\b\b\b\b\r125/125 [==============================] - 0s 155us/sample - loss: 0.4032 - acc: 0.8240 - val_loss: 0.2201 - val_acc: 0.9600\n"
          ],
          "name": "stdout"
        },
        {
          "output_type": "stream",
          "text": [
            "100%|██████████| 8/8 [00:00<00:00, 936.10it/s]"
          ],
          "name": "stderr"
        },
        {
          "output_type": "stream",
          "text": [
            "S = 607.65857 max_wt = 5.824905 Kz = 57.85122 K2 = 1.043490383401755 S_ = 1.0577709427454745\n",
            "Epoch 41 LR = 0.017657603159748875\n",
            "Epoch 41/50\n",
            "\r 16/125 [==>...........................] - ETA: 0s - loss: 0.3307 - acc: 0.8750"
          ],
          "name": "stdout"
        },
        {
          "output_type": "stream",
          "text": [
            "\n"
          ],
          "name": "stderr"
        },
        {
          "output_type": "stream",
          "text": [
            "\b\b\b\b\b\b\b\b\b\b\b\b\b\b\b\b\b\b\b\b\b\b\b\b\b\b\b\b\b\b\b\b\b\b\b\b\b\b\b\b\b\b\b\b\b\b\b\b\b\b\b\b\b\b\b\b\b\b\b\b\b\b\b\b\b\b\b\b\b\b\b\b\b\b\b\b\b\b\b\r125/125 [==============================] - 0s 163us/sample - loss: 0.6435 - acc: 0.7680 - val_loss: 0.4284 - val_acc: 0.8000\n"
          ],
          "name": "stdout"
        },
        {
          "output_type": "stream",
          "text": [
            "100%|██████████| 8/8 [00:00<00:00, 996.21it/s]"
          ],
          "name": "stderr"
        },
        {
          "output_type": "stream",
          "text": [
            "S = 607.65857 max_wt = 5.8038654 Kz = 57.85122 K2 = 1.0449174250362003 S_ = 1.0577607997462077\n",
            "Epoch 42 LR = 0.01766967299942728\n",
            "Epoch 42/50\n",
            "125/125 [==============================] - 0s 155us/sample - loss: 0.4518 - acc: 0.8320 - val_loss: 0.3095 - val_acc: 0.9200\n"
          ],
          "name": "stdout"
        },
        {
          "output_type": "stream",
          "text": [
            "\n",
            "100%|██████████| 8/8 [00:00<00:00, 829.96it/s]\n"
          ],
          "name": "stderr"
        },
        {
          "output_type": "stream",
          "text": [
            "S = 607.65857 max_wt = 5.8698974 Kz = 57.85122 K2 = 1.0462049458637168 S_ = 1.0577926333113652\n",
            "Epoch 43 LR = 0.01768055570916622\n",
            "Epoch 43/50\n",
            "125/125 [==============================] - 0s 145us/sample - loss: 0.4992 - acc: 0.8240 - val_loss: 0.2119 - val_acc: 0.9600\n"
          ],
          "name": "stdout"
        },
        {
          "output_type": "stream",
          "text": [
            "100%|██████████| 8/8 [00:00<00:00, 916.36it/s]"
          ],
          "name": "stderr"
        },
        {
          "output_type": "stream",
          "text": [
            "S = 607.65857 max_wt = 5.8519015 Kz = 57.85122 K2 = 1.0473628470410172 S_ = 1.0577839576367212\n",
            "Epoch 44 LR = 0.017690337097113238\n",
            "Epoch 44/50\n",
            "125/125 [==============================] - 0s 147us/sample - loss: 0.4954 - acc: 0.7840 - val_loss: 0.2434 - val_acc: 0.9600\n"
          ],
          "name": "stdout"
        },
        {
          "output_type": "stream",
          "text": [
            "\n",
            "100%|██████████| 8/8 [00:00<00:00, 857.49it/s]"
          ],
          "name": "stderr"
        },
        {
          "output_type": "stream",
          "text": [
            "S = 607.65857 max_wt = 5.8784018 Kz = 57.85122 K2 = 1.0484062356591948 S_ = 1.0577967332227929\n",
            "Epoch 45 LR = 0.017699146508269918\n",
            "Epoch 45/50\n",
            "125/125 [==============================] - 0s 148us/sample - loss: 0.3024 - acc: 0.9120 - val_loss: 0.1750 - val_acc: 1.0000\n"
          ],
          "name": "stdout"
        },
        {
          "output_type": "stream",
          "text": [
            "\n",
            "100%|██████████| 8/8 [00:00<00:00, 876.96it/s]"
          ],
          "name": "stderr"
        },
        {
          "output_type": "stream",
          "text": [
            "S = 607.65857 max_wt = 5.9480686 Kz = 57.85122 K2 = 1.0493486440096638 S_ = 1.057830319163886\n",
            "Epoch 46 LR = 0.017707099568160304\n",
            "Epoch 46/50\n",
            "125/125 [==============================] - 0s 148us/sample - loss: 0.5060 - acc: 0.8080 - val_loss: 0.3506 - val_acc: 0.8800\n"
          ],
          "name": "stdout"
        },
        {
          "output_type": "stream",
          "text": [
            "\n",
            "100%|██████████| 8/8 [00:00<00:00, 907.51it/s]\n"
          ],
          "name": "stderr"
        },
        {
          "output_type": "stream",
          "text": [
            "S = 607.65857 max_wt = 5.938169 Kz = 57.85122 K2 = 1.0501963342710285 S_ = 1.0578255466233113\n",
            "Epoch 47 LR = 0.017714250244112467\n",
            "Epoch 47/50\n",
            "125/125 [==============================] - 0s 175us/sample - loss: 0.4283 - acc: 0.8320 - val_loss: 0.1993 - val_acc: 0.9600\n"
          ],
          "name": "stdout"
        },
        {
          "output_type": "stream",
          "text": [
            "100%|██████████| 8/8 [00:00<00:00, 941.17it/s]\n"
          ],
          "name": "stderr"
        },
        {
          "output_type": "stream",
          "text": [
            "S = 607.65857 max_wt = 5.9886737 Kz = 57.85122 K2 = 1.0509616903042314 S_ = 1.057849894603057\n",
            "Epoch 48 LR = 0.017720703912491156\n",
            "Epoch 48/50\n",
            "125/125 [==============================] - 0s 175us/sample - loss: 0.4336 - acc: 0.8320 - val_loss: 0.1858 - val_acc: 1.0000\n"
          ],
          "name": "stdout"
        },
        {
          "output_type": "stream",
          "text": [
            "100%|██████████| 8/8 [00:00<00:00, 1016.55it/s]\n"
          ],
          "name": "stderr"
        },
        {
          "output_type": "stream",
          "text": [
            "S = 607.65857 max_wt = 6.025325 Kz = 57.85122 K2 = 1.0516522776614594 S_ = 1.0578675638765116\n",
            "Epoch 49 LR = 0.017726525096704755\n",
            "Epoch 49/50\n",
            "125/125 [==============================] - 0s 194us/sample - loss: 0.4374 - acc: 0.8080 - val_loss: 0.1828 - val_acc: 1.0000\n"
          ],
          "name": "stdout"
        },
        {
          "output_type": "stream",
          "text": [
            "100%|██████████| 8/8 [00:00<00:00, 996.48it/s]"
          ],
          "name": "stderr"
        },
        {
          "output_type": "stream",
          "text": [
            "S = 607.65857 max_wt = 6.0454044 Kz = 57.85122 K2 = 1.052274774308029 S_ = 1.0578772441271544\n",
            "Epoch 50 LR = 0.017731770684598896\n",
            "Epoch 50/50\n",
            "125/125 [==============================] - 0s 159us/sample - loss: 0.4714 - acc: 0.8240 - val_loss: 0.2195 - val_acc: 0.9600\n"
          ],
          "name": "stdout"
        },
        {
          "output_type": "stream",
          "text": [
            "\n"
          ],
          "name": "stderr"
        }
      ]
    },
    {
      "cell_type": "code",
      "metadata": {
        "id": "y5QYisgozuGa",
        "colab_type": "code",
        "colab": {
          "base_uri": "https://localhost:8080/",
          "height": 545
        },
        "outputId": "c808ade4-1ebe-4768-83af-bf1881adb39d"
      },
      "source": [
        "%matplotlib inline\n",
        "import matplotlib.pyplot as plt\n",
        "acc = history.history['acc']\n",
        "val_acc = history.history['val_acc']\n",
        "loss = history.history['loss']\n",
        "val_loss = history.history['val_loss']\n",
        "\n",
        "epochs = range(len(acc))\n",
        "\n",
        "plt.plot(epochs, acc, 'r', label='Training accuracy')\n",
        "plt.plot(epochs, val_acc, 'b', label='Validation accuracy')\n",
        "plt.title('Training and validation accuracy')\n",
        "plt.legend()\n",
        "plt.figure()\n",
        "\n",
        "plt.plot(epochs, loss, 'r', label='Training Loss')\n",
        "plt.plot(epochs, val_loss, 'b', label='Validation Loss')\n",
        "plt.title('Training and validation loss')\n",
        "plt.legend()\n",
        "\n",
        "plt.show()"
      ],
      "execution_count": 38,
      "outputs": [
        {
          "output_type": "display_data",
          "data": {
            "image/png": "[encoded data removed]",
            "text/plain": [
              "<Figure size 432x288 with 1 Axes>"
            ]
          },
          "metadata": {
            "tags": [],
            "needs_background": "light"
          }
        },
        {
          "output_type": "display_data",
          "data": {
            "image/png": "[encoded data removed]",
            "text/plain": [
              "<Figure size 432x288 with 1 Axes>"
            ]
          },
          "metadata": {
            "tags": [],
            "needs_background": "light"
          }
        }
      ]
    },
    {
      "cell_type": "code",
      "metadata": {
        "id": "ROUPSuN90lxo",
        "colab_type": "code",
        "colab": {}
      },
      "source": [
        ""
      ],
      "execution_count": null,
      "outputs": []
    }
  ]
}