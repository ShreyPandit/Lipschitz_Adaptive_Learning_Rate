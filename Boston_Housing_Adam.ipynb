{
  "nbformat": 4,
  "nbformat_minor": 0,
  "metadata": {
    "colab": {
      "name": "Boston_Housing_Adam",
      "provenance": []
    },
    "kernelspec": {
      "name": "python3",
      "display_name": "Python 3"
    },
    "accelerator": "GPU"
  },
  "cells": [
    {
      "cell_type": "code",
      "metadata": {
        "id": "Cy7ONTbNXNwW",
        "colab_type": "code",
        "colab": {
          "base_uri": "https://localhost:8080/",
          "height": 853
        },
        "outputId": "d9e9578f-0fe5-4fda-96bb-2b19489dd80b"
      },
      "source": [
        "import keras\n",
        "import pandas as pd\n",
        "import tensorflow as tf\n",
        "from tensorflow import keras\n",
        "from tensorflow.keras.callbacks import LearningRateScheduler\n",
        "import numpy as np\n",
        "import tensorflow as tf\n",
        "!pip install tensorflow==1.14.0"
      ],
      "execution_count": 1,
      "outputs": [
        {
          "output_type": "stream",
          "text": [
            "Using TensorFlow backend.\n",
            "/usr/local/lib/python3.6/dist-packages/tensorflow/python/framework/dtypes.py:516: FutureWarning: Passing (type, 1) or '1type' as a synonym of type is deprecated; in a future version of numpy, it will be understood as (type, (1,)) / '(1,)type'.\n",
            "  _np_qint8 = np.dtype([(\"qint8\", np.int8, 1)])\n",
            "/usr/local/lib/python3.6/dist-packages/tensorflow/python/framework/dtypes.py:517: FutureWarning: Passing (type, 1) or '1type' as a synonym of type is deprecated; in a future version of numpy, it will be understood as (type, (1,)) / '(1,)type'.\n",
            "  _np_quint8 = np.dtype([(\"quint8\", np.uint8, 1)])\n",
            "/usr/local/lib/python3.6/dist-packages/tensorflow/python/framework/dtypes.py:518: FutureWarning: Passing (type, 1) or '1type' as a synonym of type is deprecated; in a future version of numpy, it will be understood as (type, (1,)) / '(1,)type'.\n",
            "  _np_qint16 = np.dtype([(\"qint16\", np.int16, 1)])\n",
            "/usr/local/lib/python3.6/dist-packages/tensorflow/python/framework/dtypes.py:519: FutureWarning: Passing (type, 1) or '1type' as a synonym of type is deprecated; in a future version of numpy, it will be understood as (type, (1,)) / '(1,)type'.\n",
            "  _np_quint16 = np.dtype([(\"quint16\", np.uint16, 1)])\n",
            "/usr/local/lib/python3.6/dist-packages/tensorflow/python/framework/dtypes.py:520: FutureWarning: Passing (type, 1) or '1type' as a synonym of type is deprecated; in a future version of numpy, it will be understood as (type, (1,)) / '(1,)type'.\n",
            "  _np_qint32 = np.dtype([(\"qint32\", np.int32, 1)])\n",
            "/usr/local/lib/python3.6/dist-packages/tensorflow/python/framework/dtypes.py:525: FutureWarning: Passing (type, 1) or '1type' as a synonym of type is deprecated; in a future version of numpy, it will be understood as (type, (1,)) / '(1,)type'.\n",
            "  np_resource = np.dtype([(\"resource\", np.ubyte, 1)])\n",
            "/usr/local/lib/python3.6/dist-packages/tensorboard/compat/tensorflow_stub/dtypes.py:541: FutureWarning: Passing (type, 1) or '1type' as a synonym of type is deprecated; in a future version of numpy, it will be understood as (type, (1,)) / '(1,)type'.\n",
            "  _np_qint8 = np.dtype([(\"qint8\", np.int8, 1)])\n",
            "/usr/local/lib/python3.6/dist-packages/tensorboard/compat/tensorflow_stub/dtypes.py:542: FutureWarning: Passing (type, 1) or '1type' as a synonym of type is deprecated; in a future version of numpy, it will be understood as (type, (1,)) / '(1,)type'.\n",
            "  _np_quint8 = np.dtype([(\"quint8\", np.uint8, 1)])\n",
            "/usr/local/lib/python3.6/dist-packages/tensorboard/compat/tensorflow_stub/dtypes.py:543: FutureWarning: Passing (type, 1) or '1type' as a synonym of type is deprecated; in a future version of numpy, it will be understood as (type, (1,)) / '(1,)type'.\n",
            "  _np_qint16 = np.dtype([(\"qint16\", np.int16, 1)])\n",
            "/usr/local/lib/python3.6/dist-packages/tensorboard/compat/tensorflow_stub/dtypes.py:544: FutureWarning: Passing (type, 1) or '1type' as a synonym of type is deprecated; in a future version of numpy, it will be understood as (type, (1,)) / '(1,)type'.\n",
            "  _np_quint16 = np.dtype([(\"quint16\", np.uint16, 1)])\n",
            "/usr/local/lib/python3.6/dist-packages/tensorboard/compat/tensorflow_stub/dtypes.py:545: FutureWarning: Passing (type, 1) or '1type' as a synonym of type is deprecated; in a future version of numpy, it will be understood as (type, (1,)) / '(1,)type'.\n",
            "  _np_qint32 = np.dtype([(\"qint32\", np.int32, 1)])\n",
            "/usr/local/lib/python3.6/dist-packages/tensorboard/compat/tensorflow_stub/dtypes.py:550: FutureWarning: Passing (type, 1) or '1type' as a synonym of type is deprecated; in a future version of numpy, it will be understood as (type, (1,)) / '(1,)type'.\n",
            "  np_resource = np.dtype([(\"resource\", np.ubyte, 1)])\n"
          ],
          "name": "stderr"
        },
        {
          "output_type": "stream",
          "text": [
            "Requirement already satisfied: tensorflow==1.14.0 in /usr/local/lib/python3.6/dist-packages (1.14.0)\n",
            "Requirement already satisfied: termcolor>=1.1.0 in /usr/local/lib/python3.6/dist-packages (from tensorflow==1.14.0) (1.1.0)\n",
            "Requirement already satisfied: wrapt>=1.11.1 in /usr/local/lib/python3.6/dist-packages (from tensorflow==1.14.0) (1.12.1)\n",
            "Requirement already satisfied: protobuf>=3.6.1 in /usr/local/lib/python3.6/dist-packages (from tensorflow==1.14.0) (3.12.2)\n",
            "Requirement already satisfied: google-pasta>=0.1.6 in /usr/local/lib/python3.6/dist-packages (from tensorflow==1.14.0) (0.2.0)\n",
            "Requirement already satisfied: astor>=0.6.0 in /usr/local/lib/python3.6/dist-packages (from tensorflow==1.14.0) (0.8.1)\n",
            "Requirement already satisfied: absl-py>=0.7.0 in /usr/local/lib/python3.6/dist-packages (from tensorflow==1.14.0) (0.9.0)\n",
            "Requirement already satisfied: gast>=0.2.0 in /usr/local/lib/python3.6/dist-packages (from tensorflow==1.14.0) (0.3.3)\n",
            "Requirement already satisfied: numpy<2.0,>=1.14.5 in /usr/local/lib/python3.6/dist-packages (from tensorflow==1.14.0) (1.18.5)\n",
            "Requirement already satisfied: grpcio>=1.8.6 in /usr/local/lib/python3.6/dist-packages (from tensorflow==1.14.0) (1.30.0)\n",
            "Requirement already satisfied: wheel>=0.26 in /usr/local/lib/python3.6/dist-packages (from tensorflow==1.14.0) (0.34.2)\n",
            "Requirement already satisfied: tensorflow-estimator<1.15.0rc0,>=1.14.0rc0 in /usr/local/lib/python3.6/dist-packages (from tensorflow==1.14.0) (1.14.0)\n",
            "Requirement already satisfied: six>=1.10.0 in /usr/local/lib/python3.6/dist-packages (from tensorflow==1.14.0) (1.15.0)\n",
            "Requirement already satisfied: keras-preprocessing>=1.0.5 in /usr/local/lib/python3.6/dist-packages (from tensorflow==1.14.0) (1.1.2)\n",
            "Requirement already satisfied: tensorboard<1.15.0,>=1.14.0 in /usr/local/lib/python3.6/dist-packages (from tensorflow==1.14.0) (1.14.0)\n",
            "Requirement already satisfied: keras-applications>=1.0.6 in /usr/local/lib/python3.6/dist-packages (from tensorflow==1.14.0) (1.0.8)\n",
            "Requirement already satisfied: setuptools in /usr/local/lib/python3.6/dist-packages (from protobuf>=3.6.1->tensorflow==1.14.0) (49.1.0)\n",
            "Requirement already satisfied: markdown>=2.6.8 in /usr/local/lib/python3.6/dist-packages (from tensorboard<1.15.0,>=1.14.0->tensorflow==1.14.0) (3.2.2)\n",
            "Requirement already satisfied: werkzeug>=0.11.15 in /usr/local/lib/python3.6/dist-packages (from tensorboard<1.15.0,>=1.14.0->tensorflow==1.14.0) (1.0.1)\n",
            "Requirement already satisfied: h5py in /usr/local/lib/python3.6/dist-packages (from keras-applications>=1.0.6->tensorflow==1.14.0) (2.10.0)\n",
            "Requirement already satisfied: importlib-metadata; python_version < \"3.8\" in /usr/local/lib/python3.6/dist-packages (from markdown>=2.6.8->tensorboard<1.15.0,>=1.14.0->tensorflow==1.14.0) (1.7.0)\n",
            "Requirement already satisfied: zipp>=0.5 in /usr/local/lib/python3.6/dist-packages (from importlib-metadata; python_version < \"3.8\"->markdown>=2.6.8->tensorboard<1.15.0,>=1.14.0->tensorflow==1.14.0) (3.1.0)\n"
          ],
          "name": "stdout"
        }
      ]
    },
    {
      "cell_type": "code",
      "metadata": {
        "id": "J2iZ2c5tdOgf",
        "colab_type": "code",
        "colab": {}
      },
      "source": [
        "from keras.datasets import boston_housing\n",
        "\n",
        "(x_train, y_train), (x_test, y_test) = boston_housing.load_data()\n"
      ],
      "execution_count": 87,
      "outputs": []
    },
    {
      "cell_type": "code",
      "metadata": {
        "id": "SV_PaphjYzNV",
        "colab_type": "code",
        "colab": {}
      },
      "source": [
        "from keras import models\n",
        "from keras import layers\n",
        "\n",
        "model = models.Sequential()\n",
        "model.add(layers.Dense(8, activation='relu', input_shape=(x_train.shape[1],)))\n",
        "model.add(layers.Dense(8, activation='relu'))\n",
        "model.add(layers.Dropout(0.25))\n",
        "model.add(layers.Dense(1))\n"
      ],
      "execution_count": 88,
      "outputs": []
    },
    {
      "cell_type": "code",
      "metadata": {
        "id": "GGF6JpWwZNeW",
        "colab_type": "code",
        "colab": {
          "base_uri": "https://localhost:8080/",
          "height": 295
        },
        "outputId": "78bc50a3-7222-468f-9f7b-03247f7e39d6"
      },
      "source": [
        "model.summary()"
      ],
      "execution_count": 89,
      "outputs": [
        {
          "output_type": "stream",
          "text": [
            "Model: \"sequential_11\"\n",
            "_________________________________________________________________\n",
            "Layer (type)                 Output Shape              Param #   \n",
            "=================================================================\n",
            "dense_26 (Dense)             (None, 8)                 112       \n",
            "_________________________________________________________________\n",
            "dense_27 (Dense)             (None, 8)                 72        \n",
            "_________________________________________________________________\n",
            "dropout_4 (Dropout)          (None, 8)                 0         \n",
            "_________________________________________________________________\n",
            "dense_28 (Dense)             (None, 1)                 9         \n",
            "=================================================================\n",
            "Total params: 193\n",
            "Trainable params: 193\n",
            "Non-trainable params: 0\n",
            "_________________________________________________________________\n"
          ],
          "name": "stdout"
        }
      ]
    },
    {
      "cell_type": "code",
      "metadata": {
        "id": "Uy-nhxG6ZUbd",
        "colab_type": "code",
        "colab": {}
      },
      "source": [
        "from keras import backend as K\n",
        "func = K.function([model.layers[0].input], [model.layers[-2].output])"
      ],
      "execution_count": 90,
      "outputs": []
    },
    {
      "cell_type": "code",
      "metadata": {
        "id": "v8xNNTFayl_f",
        "colab_type": "code",
        "colab": {
          "base_uri": "https://localhost:8080/",
          "height": 34
        },
        "outputId": "3ab77d70-67ce-400f-d3fc-35904c116ff5"
      },
      "source": [
        "model.layers[-2].output"
      ],
      "execution_count": 91,
      "outputs": [
        {
          "output_type": "execute_result",
          "data": {
            "text/plain": [
              "<tf.Tensor 'dropout_4/cond/Merge:0' shape=(?, 8) dtype=float32>"
            ]
          },
          "metadata": {
            "tags": []
          },
          "execution_count": 91
        }
      ]
    },
    {
      "cell_type": "code",
      "metadata": {
        "id": "nTOLxNRrZdq9",
        "colab_type": "code",
        "colab": {}
      },
      "source": [
        "lrs = []\n",
        "K1 = 0.\n",
        "K2 = 0.\n",
        "beta1 = 0.9\n",
        "beta2 = 0.999\n",
        "batch_size=32\n",
        "num_classes=2\n",
        "from tqdm import tqdm"
      ],
      "execution_count": 92,
      "outputs": []
    },
    {
      "cell_type": "code",
      "metadata": {
        "id": "_V-EBJMHZhtn",
        "colab_type": "code",
        "colab": {}
      },
      "source": [
        "def lr_schedule(epoch):\n",
        "    \"\"\"Learning Rate Schedule\n",
        "    # Arguments\n",
        "        epoch (int): The number of epochs\n",
        "    # Returns\n",
        "        lr (float32): learning rate\n",
        "    \"\"\"\n",
        "    global K1, K2\n",
        "\n",
        "    Kz = 0.\n",
        "    S = 0.\n",
        "    \n",
        "    sess = tf.compat.v1.keras.backend.get_session()\n",
        "    max_wt = 0.\n",
        "    for weight in model.weights:\n",
        "        norm = np.linalg.norm(weight.eval(sess))\n",
        "        if norm > max_wt:\n",
        "            max_wt = norm\n",
        "    \n",
        "    for i in range((len(x_train) - 1) // batch_size + 1):\n",
        "        start_i = i * batch_size\n",
        "        end_i = start_i + batch_size\n",
        "        xb = x_train[start_i:end_i]\n",
        "    \t\n",
        "        tmp = np.array(func([xb]))\n",
        "        activ = np.linalg.norm(tmp)\n",
        "        sq = np.linalg.norm(np.square(tmp))\n",
        "\n",
        "        if sq > S:\n",
        "            S = sq\n",
        "        \n",
        "        if activ > Kz:\n",
        "            Kz = activ\n",
        "\n",
        "    K_ = ((num_classes - 1) * Kz) / (num_classes * batch_size)\n",
        "    S_ = (num_classes - 1) ** 2 / (num_classes * batch_size) ** 2 * S \n",
        "    \n",
        "    K1 = beta1 * K1 + (1 - beta1) * K_\n",
        "    K2 = beta2 * K2 + (1 - beta2) * S_\n",
        "\n",
        "    lr = (np.sqrt(K2) + K.epsilon()) / K1\n",
        "    print('S =', S, ', K1 =', K1,', K2 =', K2, ', K_ =', K_, ', lr =', lr)\n",
        "    lrs.append(lr)\n",
        "    print('Epoch', epoch, 'LR =', lr)\n",
        "    return lr\n"
      ],
      "execution_count": 93,
      "outputs": []
    },
    {
      "cell_type": "code",
      "metadata": {
        "id": "pUs772raaW5K",
        "colab_type": "code",
        "colab": {}
      },
      "source": [
        "lr_scheduler = LearningRateScheduler(lr_schedule)"
      ],
      "execution_count": 94,
      "outputs": []
    },
    {
      "cell_type": "code",
      "metadata": {
        "id": "V-p_SdndABXr",
        "colab_type": "code",
        "colab": {}
      },
      "source": [
        "from keras.optimizers import Adam\n",
        "optimizer = Adam(lr=1e-3, decay=1e-4)\n",
        "model.compile(loss='mse', optimizer=optimizer, metrics=[\"mae\"])"
      ],
      "execution_count": 95,
      "outputs": []
    },
    {
      "cell_type": "code",
      "metadata": {
        "id": "ALimkg5cZvjW",
        "colab_type": "code",
        "colab": {
          "base_uri": "https://localhost:8080/",
          "height": 1000
        },
        "outputId": "7bcef9bc-aa88-4506-9e40-6a16bc92b4f9"
      },
      "source": [
        "history=model.fit(x_train, y_train, epochs = 35, batch_size = 16,validation_data=(x_test,y_test),callbacks=[lr_scheduler])"
      ],
      "execution_count": 96,
      "outputs": [
        {
          "output_type": "stream",
          "text": [
            "Train on 404 samples, validate on 102 samples\n",
            "Epoch 1/35\n",
            "S = 85155.375 , K1 = 1.5108464241027828 , K2 = 0.020789886474609394 , K_ = 15.108464241027832 , lr = 0.09543463989090821\n",
            "Epoch 0 LR = 0.09543463989090821\n",
            "404/404 [==============================] - 1s 1ms/step - loss: 810.8415 - mae: 16.3742 - val_loss: 229.8712 - val_mae: 12.5344\n",
            "Epoch 2/35\n",
            "S = 10610.323 , K1 = 1.7333661508560176 , K2 = 0.02335950753593447 , K_ = 3.736043691635132 , lr = 0.08817425808486398\n",
            "Epoch 1 LR = 0.08817425808486398\n",
            "404/404 [==============================] - 0s 129us/step - loss: 201.0235 - mae: 10.8260 - val_loss: 127.4841 - val_mae: 8.5867\n",
            "Epoch 3/35\n",
            "S = 29303.012 , K1 = 2.181796198368072 , K2 = 0.03049020362379649 , K_ = 6.2176666259765625 , lr = 0.08003247182315881\n",
            "Epoch 2 LR = 0.08003247182315881\n",
            "404/404 [==============================] - 0s 121us/step - loss: 167.6549 - mae: 9.6970 - val_loss: 162.7323 - val_mae: 10.2306\n",
            "Epoch 4/35\n",
            "S = 22956.938 , K1 = 2.502047460031509 , K2 = 0.036064434489508634 , K_ = 5.384308815002441 , lr = 0.0759004321547338\n",
            "Epoch 3 LR = 0.0759004321547338\n",
            "404/404 [==============================] - 0s 136us/step - loss: 180.2273 - mae: 9.9831 - val_loss: 82.9473 - val_mae: 6.6103\n",
            "Epoch 5/35\n",
            "S = 63095.105 , K1 = 3.1440125710535045 , K2 = 0.051432448538600684 , K_ = 8.921698570251465 , lr = 0.07213308685739771\n",
            "Epoch 4 LR = 0.07213308685739771\n",
            "404/404 [==============================] - 0s 116us/step - loss: 185.6512 - mae: 9.8495 - val_loss: 78.1932 - val_mae: 6.3889\n",
            "Epoch 6/35\n",
            "S = 78136.69 , K1 = 3.8173271304459564 , K2 = 0.07045735581174178 , K_ = 9.877158164978027 , lr = 0.0695350794094819\n",
            "Epoch 5 LR = 0.0695350794094819\n",
            "404/404 [==============================] - 0s 114us/step - loss: 155.0975 - mae: 9.1726 - val_loss: 110.4623 - val_mae: 7.8688\n",
            "Epoch 7/35\n",
            "S = 54823.438 , K1 = 4.243384506054925 , K2 = 0.0837715267518285 , K_ = 8.077900886535645 , lr = 0.06820810424545132\n",
            "Epoch 6 LR = 0.06820810424545132\n",
            "404/404 [==============================] - 0s 113us/step - loss: 150.5962 - mae: 8.5618 - val_loss: 111.5146 - val_mae: 7.8792\n",
            "Epoch 8/35\n",
            "S = 53555.47 , K1 = 4.608737503661102 , K2 = 0.09676282083786965 , K_ = 7.896914482116699 , lr = 0.06749512823418996\n",
            "Epoch 7 LR = 0.06749512823418996\n",
            "404/404 [==============================] - 0s 115us/step - loss: 144.7914 - mae: 8.3941 - val_loss: 101.6658 - val_mae: 7.4241\n",
            "Epoch 9/35\n",
            "S = 54354.527 , K1 = 4.938757880187081 , K2 = 0.1099362062943145 , K_ = 7.908941268920898 , lr = 0.06713558358228239\n",
            "Epoch 8 LR = 0.06713558358228239\n",
            "404/404 [==============================] - 0s 132us/step - loss: 130.9496 - mae: 7.8612 - val_loss: 83.9676 - val_mae: 6.5887\n",
            "Epoch 10/35\n",
            "S = 59449.555 , K1 = 5.270231232335609 , K2 = 0.12434032152539812 , K_ = 8.253491401672363 , lr = 0.0669077531290868\n",
            "Epoch 9 LR = 0.0669077531290868\n",
            "404/404 [==============================] - 0s 113us/step - loss: 125.1610 - mae: 8.0416 - val_loss: 93.7671 - val_mae: 7.0379\n",
            "Epoch 11/35\n",
            "S = 54054.83 , K1 = 5.530867277345457 , K2 = 0.1374129607265778 , K_ = 7.876591682434082 , lr = 0.06702251626281784\n",
            "Epoch 10 LR = 0.06702251626281784\n",
            "404/404 [==============================] - 0s 113us/step - loss: 122.2263 - mae: 7.7168 - val_loss: 74.9683 - val_mae: 6.1680\n",
            "Epoch 12/35\n",
            "S = 55145.33 , K1 = 5.767007939900217 , K2 = 0.15073876264011882 , K_ = 7.892273902893066 , lr = 0.06732277910946043\n",
            "Epoch 11 LR = 0.06732277910946043\n",
            "404/404 [==============================] - 0s 114us/step - loss: 104.0710 - mae: 7.1211 - val_loss: 78.5216 - val_mae: 6.3154\n",
            "Epoch 13/35\n",
            "S = 49219.27 , K1 = 5.938106876211098 , K2 = 0.16260444710288152 , K_ = 7.477997303009033 , lr = 0.06790758834380124\n",
            "Epoch 12 LR = 0.06790758834380124\n",
            "404/404 [==============================] - 0s 112us/step - loss: 109.8924 - mae: 7.1770 - val_loss: 63.3791 - val_mae: 5.7011\n",
            "Epoch 14/35\n",
            "S = 52603.223 , K1 = 6.1144092276067115 , K2 = 0.17528442631208968 , K_ = 7.701130390167236 , lr = 0.0684726707239199\n",
            "Epoch 13 LR = 0.0684726707239199\n",
            "404/404 [==============================] - 0s 122us/step - loss: 98.3131 - mae: 7.0924 - val_loss: 68.0515 - val_mae: 5.8422\n",
            "Epoch 15/35\n",
            "S = 40499.926 , K1 = 6.171352570745698 , K2 = 0.18499681907846557 , K_ = 6.683842658996582 , lr = 0.06969504021354118\n",
            "Epoch 14 LR = 0.06969504021354118\n",
            "404/404 [==============================] - 0s 117us/step - loss: 100.7674 - mae: 7.0931 - val_loss: 118.6557 - val_mae: 8.3214\n",
            "Epoch 16/35\n",
            "S = 22294.416 , K1 = 6.017363714122789 , K2 = 0.19025479491945183 , K_ = 4.631464004516602 , lr = 0.07248725305199771\n",
            "Epoch 15 LR = 0.07248725305199771\n",
            "404/404 [==============================] - 0s 117us/step - loss: 94.5281 - mae: 6.6850 - val_loss: 71.9177 - val_mae: 5.9930\n",
            "Epoch 17/35\n",
            "S = 39419.027 , K1 = 6.0488118233776245 , K2 = 0.19968832609712758 , K_ = 6.331844806671143 , lr = 0.07387650842303495\n",
            "Epoch 16 LR = 0.07387650842303495\n",
            "404/404 [==============================] - 0s 115us/step - loss: 87.7318 - mae: 6.3322 - val_loss: 82.1746 - val_mae: 6.5326\n",
            "Epoch 18/35\n",
            "S = 30455.938 , K1 = 5.993837276324285 , K2 = 0.2069241693872414 , K_ = 5.499066352844238 , lr = 0.07589283169745947\n",
            "Epoch 17 LR = 0.07589283169745947\n",
            "404/404 [==============================] - 0s 123us/step - loss: 84.7530 - mae: 6.4111 - val_loss: 66.6960 - val_mae: 5.7543\n",
            "Epoch 19/35\n",
            "S = 29991.55 , K1 = 5.945107530854332 , K2 = 0.21403940117030776 , K_ = 5.506539821624756 , lr = 0.07781928626457743\n",
            "Epoch 18 LR = 0.07781928626457743\n",
            "404/404 [==============================] - 0s 116us/step - loss: 92.5598 - mae: 6.8837 - val_loss: 77.9945 - val_mae: 6.4326\n",
            "Epoch 20/35\n",
            "S = 20993.744 , K1 = 5.786185423703958 , K2 = 0.21895078758471972 , K_ = 4.355886459350586 , lr = 0.08086880056645844\n",
            "Epoch 19 LR = 0.08086880056645844\n",
            "404/404 [==============================] - 0s 116us/step - loss: 104.1310 - mae: 7.4352 - val_loss: 74.7765 - val_mae: 6.2155\n",
            "Epoch 21/35\n",
            "S = 30665.584 , K1 = 5.739145994340154 , K2 = 0.22621855163707033 , K_ = 5.315791130065918 , lr = 0.0828737378864479\n",
            "Epoch 20 LR = 0.0828737378864479\n",
            "404/404 [==============================] - 0s 111us/step - loss: 83.3791 - mae: 6.3855 - val_loss: 71.1243 - val_mae: 6.0778\n",
            "Epoch 22/35\n",
            "S = 22799.795 , K1 = 5.611874747414683 , K2 = 0.23155868926753165 , K_ = 4.466433525085449 , lr = 0.08574773600246645\n",
            "Epoch 21 LR = 0.08574773600246645\n",
            "404/404 [==============================] - 0s 128us/step - loss: 68.3766 - mae: 5.9143 - val_loss: 50.9273 - val_mae: 5.2430\n",
            "Epoch 23/35\n",
            "S = 27501.03 , K1 = 5.549344070082273 , K2 = 0.2380412490589465 , K_ = 4.986567974090576 , lr = 0.08791936576224259\n",
            "Epoch 22 LR = 0.08791936576224259\n",
            "404/404 [==============================] - 0s 118us/step - loss: 60.2965 - mae: 5.6368 - val_loss: 47.5851 - val_mae: 5.0130\n",
            "Epoch 24/35\n",
            "S = 20345.33 , K1 = 5.4342804974246315 , K2 = 0.2427703294109923 , K_ = 4.398708343505859 , lr = 0.09066837676163465\n",
            "Epoch 23 LR = 0.09066837676163465\n",
            "404/404 [==============================] - 0s 123us/step - loss: 59.0153 - mae: 5.3180 - val_loss: 47.1766 - val_mae: 4.8829\n",
            "Epoch 25/35\n",
            "S = 11695.301 , K1 = 5.205088826351907 , K2 = 0.24538285712387867 , K_ = 3.1423637866973877 , lr = 0.09516868135832895\n",
            "Epoch 24 LR = 0.09516868135832895\n",
            "404/404 [==============================] - 0s 121us/step - loss: 55.7051 - mae: 5.1010 - val_loss: 50.6004 - val_mae: 5.1503\n",
            "Epoch 26/35\n",
            "S = 5376.4478 , K1 = 4.897313760817242 , K2 = 0.2464500835816733 , K_ = 2.127338171005249 , lr = 0.10136934565507705\n",
            "Epoch 25 LR = 0.10136934565507705\n",
            "404/404 [==============================] - 0s 126us/step - loss: 48.5877 - mae: 4.9537 - val_loss: 41.2761 - val_mae: 4.7444\n",
            "Epoch 27/35\n",
            "S = 6836.9834 , K1 = 4.640356094032698 , K2 = 0.24787281889810078 , K_ = 2.3277370929718018 , lr = 0.10729098469088393\n",
            "Epoch 26 LR = 0.10729098469088393\n",
            "404/404 [==============================] - 0s 120us/step - loss: 47.5911 - mae: 5.1851 - val_loss: 60.8334 - val_mae: 5.8770\n",
            "Epoch 28/35\n",
            "S = 5695.402 , K1 = 4.360339108458316 , K2 = 0.24901542504782298 , K_ = 1.8401862382888794 , lr = 0.1144439781709642\n",
            "Epoch 27 LR = 0.1144439781709642\n",
            "404/404 [==============================] - 0s 131us/step - loss: 59.9647 - mae: 5.7006 - val_loss: 44.8607 - val_mae: 5.3700\n",
            "Epoch 29/35\n",
            "S = 22547.309 , K1 = 4.365184161082944 , K2 = 0.25427112363492116 , K_ = 4.40878963470459 , lr = 0.11551703587239794\n",
            "Epoch 28 LR = 0.11551703587239794\n",
            "404/404 [==============================] - 0s 122us/step - loss: 53.0429 - mae: 5.1215 - val_loss: 44.4481 - val_mae: 4.8380\n",
            "Epoch 30/35\n",
            "S = 16125.308 , K1 = 4.297327315523661 , K2 = 0.25795369519126365 , K_ = 3.6866157054901123 , lr = 0.11818776727487088\n",
            "Epoch 29 LR = 0.11818776727487088\n",
            "404/404 [==============================] - 0s 118us/step - loss: 58.8724 - mae: 5.3646 - val_loss: 46.1346 - val_mae: 4.9009\n",
            "Epoch 31/35\n",
            "S = 15196.19 , K1 = 4.218619545442852 , K2 = 0.2614057489251953 , K_ = 3.510249614715576 , lr = 0.12119572241033919\n",
            "Epoch 30 LR = 0.12119572241033919\n",
            "404/404 [==============================] - 0s 116us/step - loss: 52.0593 - mae: 5.3621 - val_loss: 41.7126 - val_mae: 5.1033\n",
            "Epoch 32/35\n",
            "S = 34939.5 , K1 = 4.367800367006355 , K2 = 0.2696744945434576 , K_ = 5.710427761077881 , lr = 0.11889326123119169\n",
            "Epoch 31 LR = 0.11889326123119169\n",
            "404/404 [==============================] - 0s 117us/step - loss: 55.7878 - mae: 5.4850 - val_loss: 52.6645 - val_mae: 5.1946\n",
            "Epoch 33/35\n",
            "S = 18780.287 , K1 = 4.277206920500421 , K2 = 0.2739898510814764 , K_ = 3.4618659019470215 , lr = 0.12237904513746982\n",
            "Epoch 32 LR = 0.12237904513746982\n",
            "404/404 [==============================] - 0s 126us/step - loss: 49.5850 - mae: 5.2311 - val_loss: 52.3740 - val_mae: 5.3567\n",
            "Epoch 34/35\n",
            "S = 15441.7 , K1 = 4.159844919665894 , K2 = 0.27748580756714114 , K_ = 3.1035869121551514 , lr = 0.12663196027307086\n",
            "Epoch 33 LR = 0.12663196027307086\n",
            "404/404 [==============================] - 0s 116us/step - loss: 61.0032 - mae: 5.5530 - val_loss: 46.3858 - val_mae: 5.4750\n",
            "Epoch 35/35\n",
            "S = 47747.566 , K1 = 4.3646376531936895 , K2 = 0.2888654424642249 , K_ = 6.207772254943848 , lr = 0.12314015065323324\n",
            "Epoch 34 LR = 0.12314015065323324\n",
            "404/404 [==============================] - 0s 116us/step - loss: 52.4579 - mae: 5.2195 - val_loss: 45.1436 - val_mae: 5.3123\n"
          ],
          "name": "stdout"
        }
      ]
    },
    {
      "cell_type": "code",
      "metadata": {
        "id": "Jen1K7XhaQjp",
        "colab_type": "code",
        "colab": {
          "base_uri": "https://localhost:8080/",
          "height": 545
        },
        "outputId": "a276372f-6626-40e6-c301-0ba7fcea43d6"
      },
      "source": [
        "%matplotlib inline\n",
        "import matplotlib.pyplot as plt\n",
        "acc = history.history['mae']\n",
        "val_acc = history.history['val_mae']\n",
        "loss = history.history['loss']\n",
        "val_loss = history.history['val_loss']\n",
        "\n",
        "epochs = range(len(acc))\n",
        "\n",
        "plt.plot(epochs, acc, 'r', label='Training accuracy')\n",
        "plt.plot(epochs, val_acc, 'b', label='Validation accuracy')\n",
        "plt.title('Training and validation accuracy')\n",
        "plt.legend()\n",
        "plt.figure()\n",
        "plt.savefig('acc.png')\n",
        "\n",
        "plt.plot(epochs, loss, 'r', label='Training Loss')\n",
        "plt.plot(epochs, val_loss, 'b', label='Validation Loss')\n",
        "plt.title('Training and validation loss')\n",
        "plt.legend()\n",
        "plt.savefig('loss.png')\n",
        "plt.show()"
      ],
      "execution_count": 97,
      "outputs": [
        {
          "output_type": "display_data",
          "data": {
            "image/png": "[encoded data removed]",
            "text/plain": [
              "<Figure size 432x288 with 1 Axes>"
            ]
          },
          "metadata": {
            "tags": [],
            "needs_background": "light"
          }
        },
        {
          "output_type": "display_data",
          "data": {
            "image/png": "[encoded data removed]",
            "text/plain": [
              "<Figure size 432x288 with 1 Axes>"
            ]
          },
          "metadata": {
            "tags": [],
            "needs_background": "light"
          }
        }
      ]
    },
    {
      "cell_type": "code",
      "metadata": {
        "id": "gvJsI0AmBhdg",
        "colab_type": "code",
        "colab": {
          "base_uri": "https://localhost:8080/",
          "height": 34
        },
        "outputId": "08924908-f4d7-43eb-ad19-9a1df7855984"
      },
      "source": [
        "print(min(acc),max(acc))"
      ],
      "execution_count": 99,
      "outputs": [
        {
          "output_type": "stream",
          "text": [
            "4.953653 16.374199\n"
          ],
          "name": "stdout"
        }
      ]
    },
    {
      "cell_type": "code",
      "metadata": {
        "id": "TY8Cis1bF_JN",
        "colab_type": "code",
        "colab": {}
      },
      "source": [
        ""
      ],
      "execution_count": 84,
      "outputs": []
    }
  ]
}